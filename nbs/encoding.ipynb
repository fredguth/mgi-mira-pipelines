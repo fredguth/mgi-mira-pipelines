{
 "cells": [
  {
   "cell_type": "code",
   "execution_count": 1,
   "metadata": {},
   "outputs": [],
   "source": [
    "import sys\n",
    "sys.path.append('..') "
   ]
  },
  {
   "cell_type": "code",
   "execution_count": 2,
   "metadata": {},
   "outputs": [],
   "source": [
    "from datetime import datetime\n",
    "from pathlib import Path\n",
    "from lib.utils import convert_to_utf8\n",
    "from tqdm.notebook import tqdm  # Jupyter-specific progress bar\n",
    "import os"
   ]
  },
  {
   "cell_type": "code",
   "execution_count": 3,
   "metadata": {},
   "outputs": [
    {
     "data": {
      "text/plain": [
       "PosixPath('../data/inputs/rfb_cnpj/2025-02')"
      ]
     },
     "execution_count": 3,
     "metadata": {},
     "output_type": "execute_result"
    }
   ],
   "source": [
    "year_month = datetime.now().strftime(\"%Y-%m\")\n",
    "base_dir = Path(\"../data/inputs/rfb_cnpj\")\n",
    "download_path = base_dir / year_month\n",
    "download_path"
   ]
  },
  {
   "cell_type": "code",
   "execution_count": 4,
   "metadata": {},
   "outputs": [
    {
     "data": {
      "application/vnd.jupyter.widget-view+json": {
       "model_id": "12df724171ee400da7ada5d1c4fce89b",
       "version_major": 2,
       "version_minor": 0
      },
      "text/plain": [
       "0it [00:00, ?it/s]"
      ]
     },
     "metadata": {},
     "output_type": "display_data"
    },
    {
     "name": "stdout",
     "output_type": "stream",
     "text": [
      "Detected encoding: ISO-8859-1 with 73.00% confidence for ../data/inputs/rfb_cnpj/2025-02/K3241.K03200Y5.D50208.EMPRECSV\n",
      "Backup created at ../data/inputs/rfb_cnpj/2025-02/K3241.K03200Y5.D50208.EMPRECSV.bak\n",
      "Successfully converted ../data/inputs/rfb_cnpj/2025-02/K3241.K03200Y5.D50208.EMPRECSV from ISO-8859-1 to UTF-8\n",
      "Detected encoding: ascii with 100.00% confidence for ../data/inputs/rfb_cnpj/2025-02/K3241.K03200Y0.D50208.ESTABELE\n",
      "Backup created at ../data/inputs/rfb_cnpj/2025-02/K3241.K03200Y0.D50208.ESTABELE.bak\n",
      "Successfully converted ../data/inputs/rfb_cnpj/2025-02/K3241.K03200Y0.D50208.ESTABELE from ascii to UTF-8\n",
      "Detected encoding: ISO-8859-1 with 73.00% confidence for ../data/inputs/rfb_cnpj/2025-02/K3241.K03200Y7.D50208.ESTABELE\n",
      "Backup created at ../data/inputs/rfb_cnpj/2025-02/K3241.K03200Y7.D50208.ESTABELE.bak\n",
      "Successfully converted ../data/inputs/rfb_cnpj/2025-02/K3241.K03200Y7.D50208.ESTABELE from ISO-8859-1 to UTF-8\n",
      "Detected encoding: ISO-8859-1 with 73.00% confidence for ../data/inputs/rfb_cnpj/2025-02/K3241.K03200Y8.D50208.ESTABELE\n",
      "Backup created at ../data/inputs/rfb_cnpj/2025-02/K3241.K03200Y8.D50208.ESTABELE.bak\n",
      "Successfully converted ../data/inputs/rfb_cnpj/2025-02/K3241.K03200Y8.D50208.ESTABELE from ISO-8859-1 to UTF-8\n",
      "Detected encoding: ascii with 100.00% confidence for ../data/inputs/rfb_cnpj/2025-02/Estabelecimentos.md\n",
      "Backup created at ../data/inputs/rfb_cnpj/2025-02/Estabelecimentos.md.bak\n",
      "Successfully converted ../data/inputs/rfb_cnpj/2025-02/Estabelecimentos.md from ascii to UTF-8\n",
      "Detected encoding: ISO-8859-1 with 73.00% confidence for ../data/inputs/rfb_cnpj/2025-02/K3241.K03200Y2.D50208.EMPRECSV\n",
      "Backup created at ../data/inputs/rfb_cnpj/2025-02/K3241.K03200Y2.D50208.EMPRECSV.bak\n",
      "Successfully converted ../data/inputs/rfb_cnpj/2025-02/K3241.K03200Y2.D50208.EMPRECSV from ISO-8859-1 to UTF-8\n",
      "Detected encoding: ISO-8859-1 with 73.00% confidence for ../data/inputs/rfb_cnpj/2025-02/K3241.K03200Y6.D50208.ESTABELE\n",
      "Backup created at ../data/inputs/rfb_cnpj/2025-02/K3241.K03200Y6.D50208.ESTABELE.bak\n",
      "Successfully converted ../data/inputs/rfb_cnpj/2025-02/K3241.K03200Y6.D50208.ESTABELE from ISO-8859-1 to UTF-8\n",
      "Detected encoding: ISO-8859-1 with 73.00% confidence for ../data/inputs/rfb_cnpj/2025-02/K3241.K03200Y9.D50208.ESTABELE\n",
      "Backup created at ../data/inputs/rfb_cnpj/2025-02/K3241.K03200Y9.D50208.ESTABELE.bak\n",
      "Successfully converted ../data/inputs/rfb_cnpj/2025-02/K3241.K03200Y9.D50208.ESTABELE from ISO-8859-1 to UTF-8\n",
      "Detected encoding: ISO-8859-1 with 73.00% confidence for ../data/inputs/rfb_cnpj/2025-02/K3241.K03200Y3.D50208.EMPRECSV\n",
      "Backup created at ../data/inputs/rfb_cnpj/2025-02/K3241.K03200Y3.D50208.EMPRECSV.bak\n",
      "Successfully converted ../data/inputs/rfb_cnpj/2025-02/K3241.K03200Y3.D50208.EMPRECSV from ISO-8859-1 to UTF-8\n",
      "Detected encoding: ISO-8859-1 with 73.00% confidence for ../data/inputs/rfb_cnpj/2025-02/K3241.K03200Y4.D50208.EMPRECSV\n",
      "Backup created at ../data/inputs/rfb_cnpj/2025-02/K3241.K03200Y4.D50208.EMPRECSV.bak\n",
      "Successfully converted ../data/inputs/rfb_cnpj/2025-02/K3241.K03200Y4.D50208.EMPRECSV from ISO-8859-1 to UTF-8\n",
      "Detected encoding: ISO-8859-1 with 73.00% confidence for ../data/inputs/rfb_cnpj/2025-02/K3241.K03200Y1.D50208.ESTABELE\n",
      "Backup created at ../data/inputs/rfb_cnpj/2025-02/K3241.K03200Y1.D50208.ESTABELE.bak\n",
      "Successfully converted ../data/inputs/rfb_cnpj/2025-02/K3241.K03200Y1.D50208.ESTABELE from ISO-8859-1 to UTF-8\n",
      "Detected encoding: Johab with 99.00% confidence for ../data/inputs/rfb_cnpj/2025-02/K3241.K03200Y4.D50208.ESTABELE\n",
      "Backup created at ../data/inputs/rfb_cnpj/2025-02/K3241.K03200Y4.D50208.ESTABELE.bak\n",
      "Successfully converted ../data/inputs/rfb_cnpj/2025-02/K3241.K03200Y4.D50208.ESTABELE from Johab to UTF-8\n",
      "Detected encoding: ascii with 100.00% confidence for ../data/inputs/rfb_cnpj/2025-02/K3241.K03200Y1.D50208.EMPRECSV\n",
      "Backup created at ../data/inputs/rfb_cnpj/2025-02/K3241.K03200Y1.D50208.EMPRECSV.bak\n",
      "Successfully converted ../data/inputs/rfb_cnpj/2025-02/K3241.K03200Y1.D50208.EMPRECSV from ascii to UTF-8\n",
      "Detected encoding: ISO-8859-1 with 73.00% confidence for ../data/inputs/rfb_cnpj/2025-02/K3241.K03200Y6.D50208.EMPRECSV\n",
      "Backup created at ../data/inputs/rfb_cnpj/2025-02/K3241.K03200Y6.D50208.EMPRECSV.bak\n",
      "Successfully converted ../data/inputs/rfb_cnpj/2025-02/K3241.K03200Y6.D50208.EMPRECSV from ISO-8859-1 to UTF-8\n",
      "Detected encoding: ascii with 100.00% confidence for ../data/inputs/rfb_cnpj/2025-02/K3241.K03200Y9.D50208.EMPRECSV\n",
      "Backup created at ../data/inputs/rfb_cnpj/2025-02/K3241.K03200Y9.D50208.EMPRECSV.bak\n",
      "Successfully converted ../data/inputs/rfb_cnpj/2025-02/K3241.K03200Y9.D50208.EMPRECSV from ascii to UTF-8\n",
      "Detected encoding: ascii with 100.00% confidence for ../data/inputs/rfb_cnpj/2025-02/Empresas.md\n",
      "Backup created at ../data/inputs/rfb_cnpj/2025-02/Empresas.md.bak\n",
      "Successfully converted ../data/inputs/rfb_cnpj/2025-02/Empresas.md from ascii to UTF-8\n",
      "Detected encoding: ISO-8859-1 with 73.00% confidence for ../data/inputs/rfb_cnpj/2025-02/K3241.K03200Y3.D50208.ESTABELE\n",
      "Backup created at ../data/inputs/rfb_cnpj/2025-02/K3241.K03200Y3.D50208.ESTABELE.bak\n",
      "Successfully converted ../data/inputs/rfb_cnpj/2025-02/K3241.K03200Y3.D50208.ESTABELE from ISO-8859-1 to UTF-8\n",
      "Detected encoding: ascii with 100.00% confidence for ../data/inputs/rfb_cnpj/2025-02/K3241.K03200Y7.D50208.EMPRECSV\n",
      "Backup created at ../data/inputs/rfb_cnpj/2025-02/K3241.K03200Y7.D50208.EMPRECSV.bak\n",
      "Successfully converted ../data/inputs/rfb_cnpj/2025-02/K3241.K03200Y7.D50208.EMPRECSV from ascii to UTF-8\n",
      "Detected encoding: ascii with 100.00% confidence for ../data/inputs/rfb_cnpj/2025-02/K3241.K03200Y8.D50208.EMPRECSV\n",
      "Backup created at ../data/inputs/rfb_cnpj/2025-02/K3241.K03200Y8.D50208.EMPRECSV.bak\n",
      "Successfully converted ../data/inputs/rfb_cnpj/2025-02/K3241.K03200Y8.D50208.EMPRECSV from ascii to UTF-8\n",
      "Detected encoding: ascii with 100.00% confidence for ../data/inputs/rfb_cnpj/2025-02/K3241.K03200Y2.D50208.ESTABELE\n",
      "Backup created at ../data/inputs/rfb_cnpj/2025-02/K3241.K03200Y2.D50208.ESTABELE.bak\n",
      "Successfully converted ../data/inputs/rfb_cnpj/2025-02/K3241.K03200Y2.D50208.ESTABELE from ascii to UTF-8\n",
      "Detected encoding: ISO-8859-1 with 73.00% confidence for ../data/inputs/rfb_cnpj/2025-02/K3241.K03200Y5.D50208.ESTABELE\n",
      "Backup created at ../data/inputs/rfb_cnpj/2025-02/K3241.K03200Y5.D50208.ESTABELE.bak\n",
      "Successfully converted ../data/inputs/rfb_cnpj/2025-02/K3241.K03200Y5.D50208.ESTABELE from ISO-8859-1 to UTF-8\n",
      "Detected encoding: ascii with 100.00% confidence for ../data/inputs/rfb_cnpj/2025-02/K3241.K03200Y0.D50208.EMPRECSV\n",
      "Backup created at ../data/inputs/rfb_cnpj/2025-02/K3241.K03200Y0.D50208.EMPRECSV.bak\n",
      "Successfully converted ../data/inputs/rfb_cnpj/2025-02/K3241.K03200Y0.D50208.EMPRECSV from ascii to UTF-8\n"
     ]
    }
   ],
   "source": [
    "for file in tqdm(download_path.iterdir()):\n",
    "    convert_to_utf8(file)"
   ]
  },
  {
   "cell_type": "code",
   "execution_count": 1,
   "metadata": {},
   "outputs": [
    {
     "data": {
      "application/vnd.jupyter.widget-view+json": {
       "model_id": "eb4a9941e658439ca77e991d392dab9d",
       "version_major": 2,
       "version_minor": 0
      },
      "text/plain": [
       "Output()"
      ]
     },
     "metadata": {},
     "output_type": "display_data"
    },
    {
     "data": {
      "text/html": [
       "<pre style=\"white-space:pre;overflow-x:auto;line-height:normal;font-family:Menlo,'DejaVu Sans Mono',consolas,'Courier New',monospace\"></pre>\n"
      ],
      "text/plain": []
     },
     "metadata": {},
     "output_type": "display_data"
    }
   ],
   "source": [
    "from rich.progress import Progress, TextColumn, BarColumn, TaskProgressColumn, TimeRemainingColumn\n",
    "import time\n",
    "\n",
    "# Create a Progress instance with custom columns\n",
    "with Progress(\n",
    "    TextColumn(\"[bold blue]{task.description}\"),\n",
    "    BarColumn(),\n",
    "    TaskProgressColumn(),\n",
    "    TimeRemainingColumn()\n",
    ") as progress:\n",
    "    \n",
    "    # Create a task\n",
    "    task = progress.add_task(\"[green]Processing...\", total=100)\n",
    "    \n",
    "    # Update the progress\n",
    "    for i in range(100):\n",
    "        time.sleep(0.1)  # Simulate work being done\n",
    "        progress.update(task, advance=1)"
   ]
  }
 ],
 "metadata": {
  "kernelspec": {
   "display_name": "Python 3",
   "language": "python",
   "name": "python3"
  },
  "language_info": {
   "codemirror_mode": {
    "name": "ipython",
    "version": 3
   },
   "file_extension": ".py",
   "mimetype": "text/x-python",
   "name": "python",
   "nbconvert_exporter": "python",
   "pygments_lexer": "ipython3",
   "version": "3.11.11"
  }
 },
 "nbformat": 4,
 "nbformat_minor": 2
}
