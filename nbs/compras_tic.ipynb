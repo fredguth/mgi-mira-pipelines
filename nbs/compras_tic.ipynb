{
 "cells": [
  {
   "cell_type": "markdown",
   "id": "e134b6d3-7cfd-4600-a8f3-baa47f2e4d80",
   "metadata": {},
   "source": [
    "# Compras Públicas em TIC"
   ]
  },
  {
   "cell_type": "code",
   "execution_count": 1,
   "id": "8b715e0c-5b8b-4192-867a-92455301f6aa",
   "metadata": {},
   "outputs": [],
   "source": [
    "import pandas as pd\n",
    "pd.options.display.float_format = \"{:_.0f}\".format "
   ]
  },
  {
   "cell_type": "code",
   "execution_count": 2,
   "id": "47038a03-764e-4c3c-bc75-555aae2f9cc1",
   "metadata": {},
   "outputs": [
    {
     "data": {
      "text/html": [
       "<span style=\"None\">Tip: You may define configurations in /Users/fredguth/Code/mgi/pipelines/pyproject.toml or /Users/fredguth/.jupysql/config. </span>"
      ],
      "text/plain": [
       "Tip: You may define configurations in /Users/fredguth/Code/mgi/pipelines/pyproject.toml or /Users/fredguth/.jupysql/config. "
      ]
     },
     "metadata": {},
     "output_type": "display_data"
    },
    {
     "data": {
      "text/html": [
       "Please review our <a href='https://jupysql.ploomber.io/en/latest/api/configuration.html#loading-from-a-file'>configuration guideline</a>."
      ],
      "text/plain": [
       "<IPython.core.display.HTML object>"
      ]
     },
     "metadata": {},
     "output_type": "display_data"
    },
    {
     "data": {
      "text/html": [
       "<span style=\"None\">Did not find user configurations in /Users/fredguth/Code/mgi/pipelines/pyproject.toml.</span>"
      ],
      "text/plain": [
       "Did not find user configurations in /Users/fredguth/Code/mgi/pipelines/pyproject.toml."
      ]
     },
     "metadata": {},
     "output_type": "display_data"
    }
   ],
   "source": [
    "%reload_ext sql"
   ]
  },
  {
   "cell_type": "code",
   "execution_count": 3,
   "id": "efe830f3-8f4e-42c4-b1fb-3ce0d99039d8",
   "metadata": {},
   "outputs": [],
   "source": [
    "%config SqlMagic.style = 'DEFAULT'   # or 'DEFAULT', 'MARKDOWN', etc.\n",
    "%config SqlMagic.autopandas = True         # optional: return DataFrames\n",
    "%config SqlMagic.feedback = True\n",
    "%config SqlMagic.named_parameters=\"disabled\"\n",
    "pd.set_option(\"display.max_rows\", 50)\n",
    "pd.set_option(\"display.max_columns\", 20)\n",
    "pd.set_option(\"display.max_colwidth\", None)\n",
    "pd.set_option(\"display.width\", 800)"
   ]
  },
  {
   "cell_type": "markdown",
   "id": "91ee51d4-e283-4305-829e-24015d8db7f8",
   "metadata": {},
   "source": [
    "## Inputs\n",
    "Baixei do Databricks as bases parquet:\n",
    "- vw_dm_material_item_silver.parquet: base do catmat\n",
    "- vw_dm_servico_item_silver.parquet: base do catser\n",
    "- db_prd__vw_ft_pncp_compra_item.parquet: view de itens de compras do pncp no db prd da api_v2 do pncp\n",
    "- db_prd__vw_ft_pncp_compra.parquet: view de compras do pncp no db prd da api_v2 do pncp"
   ]
  },
  {
   "cell_type": "code",
   "execution_count": 4,
   "id": "e10d0ea5-a1be-4b52-9d05-11b5f7436755",
   "metadata": {},
   "outputs": [],
   "source": [
    "rm ../data/inputs/mgi/mgi.db"
   ]
  },
  {
   "cell_type": "code",
   "execution_count": 5,
   "id": "a6b08524-9b2f-42e3-a7fa-1da5abdae9e8",
   "metadata": {},
   "outputs": [
    {
     "name": "stdout",
     "output_type": "stream",
     "text": [
      "catmat_catser.parquet                  scn.parquet\n",
      "\u001b[1m\u001b[34mcontratacoes_pncp\u001b[m\u001b[m                      selecao_compra_item.parquet\n",
      "db_prd__vw_ft_pncp_compra_item.parquet vw_dm_material_item_silver.parquet\n",
      "db_prd__vw_ft_pncp_compra.parquet      vw_dm_servico_item_silver.parquet\n",
      "de_ncm_para_scn128.parquet\n"
     ]
    }
   ],
   "source": [
    "!ls ../data/inputs/mgi"
   ]
  },
  {
   "cell_type": "code",
   "execution_count": 6,
   "id": "6556ea9c-9b94-49fb-b88d-cc63608fabb0",
   "metadata": {},
   "outputs": [
    {
     "data": {
      "text/html": [
       "<span style=\"None\">Connecting to &#x27;duckdb:///../data/inputs/mgi/mgi.db&#x27;</span>"
      ],
      "text/plain": [
       "Connecting to 'duckdb:///../data/inputs/mgi/mgi.db'"
      ]
     },
     "metadata": {},
     "output_type": "display_data"
    }
   ],
   "source": [
    "%sql duckdb:///../data/inputs/mgi/mgi.db"
   ]
  },
  {
   "cell_type": "markdown",
   "id": "0e8b08b2-89c5-4dc8-b27a-7deb12a94c8a",
   "metadata": {},
   "source": [
    "### Importando os dados brutos para o DuckDB"
   ]
  },
  {
   "cell_type": "code",
   "execution_count": 7,
   "id": "07ac2f18-da49-44c3-84cb-c979ae7e2b61",
   "metadata": {},
   "outputs": [
    {
     "data": {
      "text/html": [
       "<span style=\"None\">Running query in &#x27;duckdb:///../data/inputs/mgi/mgi.db&#x27;</span>"
      ],
      "text/plain": [
       "Running query in 'duckdb:///../data/inputs/mgi/mgi.db'"
      ]
     },
     "metadata": {},
     "output_type": "display_data"
    },
    {
     "data": {
      "application/vnd.jupyter.widget-view+json": {
       "model_id": "f5fe22a9c91447c0a0f6c5b3ae2b5ed5",
       "version_major": 2,
       "version_minor": 0
      },
      "text/plain": [
       "FloatProgress(value=0.0, layout=Layout(width='auto'), style=ProgressStyle(bar_color='black'))"
      ]
     },
     "metadata": {},
     "output_type": "display_data"
    },
    {
     "data": {
      "application/vnd.jupyter.widget-view+json": {
       "model_id": "b91960d332364a909f6336b2b8711604",
       "version_major": 2,
       "version_minor": 0
      },
      "text/plain": [
       "FloatProgress(value=0.0, layout=Layout(width='auto'), style=ProgressStyle(bar_color='black'))"
      ]
     },
     "metadata": {},
     "output_type": "display_data"
    },
    {
     "data": {
      "text/html": [
       "<div>\n",
       "<style scoped>\n",
       "    .dataframe tbody tr th:only-of-type {\n",
       "        vertical-align: middle;\n",
       "    }\n",
       "\n",
       "    .dataframe tbody tr th {\n",
       "        vertical-align: top;\n",
       "    }\n",
       "\n",
       "    .dataframe thead th {\n",
       "        text-align: right;\n",
       "    }\n",
       "</style>\n",
       "<table border=\"1\" class=\"dataframe\">\n",
       "  <thead>\n",
       "    <tr style=\"text-align: right;\">\n",
       "      <th></th>\n",
       "      <th>Success</th>\n",
       "    </tr>\n",
       "  </thead>\n",
       "  <tbody>\n",
       "  </tbody>\n",
       "</table>\n",
       "</div>"
      ],
      "text/plain": [
       "Empty DataFrame\n",
       "Columns: [Success]\n",
       "Index: []"
      ]
     },
     "execution_count": 7,
     "metadata": {},
     "output_type": "execute_result"
    }
   ],
   "source": [
    "%%sql\n",
    "CREATE OR REPLACE TABLE catmat as SELECT DISTINCT * FROM READ_PARQUET('../data/inputs/mgi/vw_dm_material_item_silver.parquet');\n",
    "CREATE OR REPLACE TABLE catser as SELECT DISTINCT * FROM READ_PARQUET('../data/inputs/mgi/vw_dm_servico_item_silver.parquet');\n",
    "CREATE OR REPLACE TABLE pncp_compras as SELECT DISTINCT * FROM READ_PARQUET ('../data/inputs/mgi/db_prd__vw_ft_pncp_compra.parquet');\n",
    "CREATE OR REPLACE TABLE pncp_itens as SELECT DISTINCT * FROM READ_PARQUET ('../data/inputs/mgi/db_prd__vw_ft_pncp_compra_item.parquet');"
   ]
  },
  {
   "cell_type": "markdown",
   "id": "361a7dab-eaa0-46b6-8758-67a045db3060",
   "metadata": {},
   "source": [
    "## Itens de Compras de TIC no PNCP"
   ]
  },
  {
   "cell_type": "code",
   "execution_count": 8,
   "id": "25981281-a189-4656-a9c2-f9c51ebb6b5d",
   "metadata": {},
   "outputs": [
    {
     "data": {
      "text/html": [
       "<span style=\"None\">Running query in &#x27;duckdb:///../data/inputs/mgi/mgi.db&#x27;</span>"
      ],
      "text/plain": [
       "Running query in 'duckdb:///../data/inputs/mgi/mgi.db'"
      ]
     },
     "metadata": {},
     "output_type": "display_data"
    },
    {
     "data": {
      "text/html": [
       "<div>\n",
       "<style scoped>\n",
       "    .dataframe tbody tr th:only-of-type {\n",
       "        vertical-align: middle;\n",
       "    }\n",
       "\n",
       "    .dataframe tbody tr th {\n",
       "        vertical-align: top;\n",
       "    }\n",
       "\n",
       "    .dataframe thead th {\n",
       "        text-align: right;\n",
       "    }\n",
       "</style>\n",
       "<table border=\"1\" class=\"dataframe\">\n",
       "  <thead>\n",
       "    <tr style=\"text-align: right;\">\n",
       "      <th></th>\n",
       "      <th>Success</th>\n",
       "    </tr>\n",
       "  </thead>\n",
       "  <tbody>\n",
       "  </tbody>\n",
       "</table>\n",
       "</div>"
      ],
      "text/plain": [
       "Empty DataFrame\n",
       "Columns: [Success]\n",
       "Index: []"
      ]
     },
     "execution_count": 8,
     "metadata": {},
     "output_type": "execute_result"
    }
   ],
   "source": [
    "%%sql\n",
    "DROP VIEW IF EXISTS itens_tic;\n",
    "CREATE VIEW itens_tic AS\n",
    "SELECT *\n",
    "FROM pncp_itens\n",
    "WHERE tem_resultado\n",
    "  AND (\n",
    "    codigo_classe // 100 = 70\n",
    "    OR codigo_grupo IN (111,112,113,115,131,162,163,164,165,166,168,171,172,173,174,182)\n",
    "  )\n",
    "GROUP BY ALL;"
   ]
  },
  {
   "cell_type": "code",
   "execution_count": 9,
   "id": "f4581e8b-29eb-4570-ac84-69c8b4728aae",
   "metadata": {},
   "outputs": [
    {
     "data": {
      "text/html": [
       "<span style=\"None\">Running query in &#x27;duckdb:///../data/inputs/mgi/mgi.db&#x27;</span>"
      ],
      "text/plain": [
       "Running query in 'duckdb:///../data/inputs/mgi/mgi.db'"
      ]
     },
     "metadata": {},
     "output_type": "display_data"
    },
    {
     "data": {
      "text/html": [
       "<div>\n",
       "<style scoped>\n",
       "    .dataframe tbody tr th:only-of-type {\n",
       "        vertical-align: middle;\n",
       "    }\n",
       "\n",
       "    .dataframe tbody tr th {\n",
       "        vertical-align: top;\n",
       "    }\n",
       "\n",
       "    .dataframe thead th {\n",
       "        text-align: right;\n",
       "    }\n",
       "</style>\n",
       "<table border=\"1\" class=\"dataframe\">\n",
       "  <thead>\n",
       "    <tr style=\"text-align: right;\">\n",
       "      <th></th>\n",
       "      <th>ano_compra</th>\n",
       "      <th>valor_total_homologado</th>\n",
       "    </tr>\n",
       "  </thead>\n",
       "  <tbody>\n",
       "    <tr>\n",
       "      <th>0</th>\n",
       "      <td>2023</td>\n",
       "      <td>10_018</td>\n",
       "    </tr>\n",
       "    <tr>\n",
       "      <th>1</th>\n",
       "      <td>2023</td>\n",
       "      <td>1_897</td>\n",
       "    </tr>\n",
       "  </tbody>\n",
       "</table>\n",
       "</div>"
      ],
      "text/plain": [
       "   ano_compra  valor_total_homologado\n",
       "0        2023                  10_018\n",
       "1        2023                   1_897"
      ]
     },
     "execution_count": 9,
     "metadata": {},
     "output_type": "execute_result"
    }
   ],
   "source": [
    "%%sql\n",
    "SELECT ano_compra, valor_total_homologado FROM pncp_compras limit 2"
   ]
  },
  {
   "cell_type": "markdown",
   "id": "366c0230-49dd-4dbf-b280-3e0d92bcaa3d",
   "metadata": {},
   "source": [
    "## Normalizando os dados de itens de compra"
   ]
  },
  {
   "cell_type": "markdown",
   "id": "99aae588-9a1d-4fad-8dd0-068aea7e8006",
   "metadata": {},
   "source": [
    "Os itens de compra tem um cod_item_catalogo que pode ser do CATMAT ou CATSER.  Os códigos do CATMAT sao divididos em `grupos` e `classes` e os do CATSER em `divisão` e `grupos`.  \n"
   ]
  },
  {
   "cell_type": "code",
   "execution_count": 10,
   "id": "c674a4dc",
   "metadata": {},
   "outputs": [
    {
     "data": {
      "text/html": [
       "<span style=\"None\">Running query in &#x27;duckdb:///../data/inputs/mgi/mgi.db&#x27;</span>"
      ],
      "text/plain": [
       "Running query in 'duckdb:///../data/inputs/mgi/mgi.db'"
      ]
     },
     "metadata": {},
     "output_type": "display_data"
    },
    {
     "data": {
      "text/html": [
       "<div>\n",
       "<style scoped>\n",
       "    .dataframe tbody tr th:only-of-type {\n",
       "        vertical-align: middle;\n",
       "    }\n",
       "\n",
       "    .dataframe tbody tr th {\n",
       "        vertical-align: top;\n",
       "    }\n",
       "\n",
       "    .dataframe thead th {\n",
       "        text-align: right;\n",
       "    }\n",
       "</style>\n",
       "<table border=\"1\" class=\"dataframe\">\n",
       "  <thead>\n",
       "    <tr style=\"text-align: right;\">\n",
       "      <th></th>\n",
       "      <th>Success</th>\n",
       "    </tr>\n",
       "  </thead>\n",
       "  <tbody>\n",
       "  </tbody>\n",
       "</table>\n",
       "</div>"
      ],
      "text/plain": [
       "Empty DataFrame\n",
       "Columns: [Success]\n",
       "Index: []"
      ]
     },
     "execution_count": 10,
     "metadata": {},
     "output_type": "execute_result"
    }
   ],
   "source": [
    "%%sql\n",
    "    \n",
    ";CREATE OR REPLACE VIEW itens_tic__normalizados AS\n",
    "WITH catalogo AS (\n",
    "  SELECT\n",
    "    i.ano_compra,\n",
    "    i.cod_compra,\n",
    "    i.cod_item_compra,\n",
    "    i.ID_contratacao_PNCP AS id_contratacao_pncp,\n",
    "    i.cod_fornecedor,\n",
    "    i.nome_fornecedor,\n",
    "    i.material_ou_servico,\n",
    "    CASE\n",
    "      WHEN i.codigo_classe IS NOT NULL THEN m.codigo_grupo\n",
    "      WHEN i.codigo_grupo  IS NOT NULL THEN s.codigo_divisao\n",
    "      ELSE NULL\n",
    "    END AS codigo_grupo_ou_divisao,\n",
    "    CASE\n",
    "      WHEN i.codigo_classe IS NOT NULL THEN COALESCE(m.nome_grupo,   '-- desconhecido --')\n",
    "      WHEN i.codigo_grupo  IS NOT NULL THEN COALESCE(s.nome_divisao, '-- desconhecido --')\n",
    "      ELSE '-- desconhecido --'\n",
    "    END AS nome_grupo_ou_divisao,\n",
    "    CASE\n",
    "      WHEN i.codigo_classe IS NOT NULL THEN i.codigo_classe\n",
    "      WHEN i.codigo_grupo  IS NOT NULL THEN i.codigo_grupo::INT\n",
    "      ELSE NULL\n",
    "    END AS codigo_classe_ou_grupo,\n",
    "    CASE\n",
    "      WHEN i.codigo_classe IS NOT NULL THEN COALESCE(m.nome_classe, '-- desconhecido --')\n",
    "      WHEN i.codigo_grupo  IS NOT NULL THEN COALESCE(s.nome_grupo,  '-- desconhecido --')\n",
    "      ELSE '-- desconhecido --'\n",
    "    END AS nome_classe_ou_grupo,\n",
    "    i.cod_item_catalogo,\n",
    "    i.descricao,\n",
    "    i.valor_total_resultado\n",
    "  FROM itens_tic i\n",
    "  LEFT JOIN (\n",
    "    SELECT\n",
    "      codigo_classe,\n",
    "      MIN(nome_classe)  AS nome_classe,\n",
    "      MIN(codigo_grupo) AS codigo_grupo,\n",
    "      MIN(nome_grupo)   AS nome_grupo\n",
    "    FROM catmat\n",
    "    GROUP BY codigo_classe\n",
    "  ) m ON i.codigo_classe::INT = m.codigo_classe::INT\n",
    "  LEFT JOIN (\n",
    "    SELECT\n",
    "      codigo_grupo,\n",
    "      MIN(nome_grupo)     AS nome_grupo,\n",
    "      MIN(codigo_divisao) AS codigo_divisao,\n",
    "      MIN(nome_divisao)   AS nome_divisao\n",
    "    FROM catser\n",
    "    GROUP BY codigo_grupo\n",
    "  ) s ON i.codigo_grupo::INT = s.codigo_grupo::INT\n",
    "),\n",
    "per_group AS (\n",
    "  SELECT\n",
    "    ano_compra, cod_compra,\n",
    "    cod_item_compra, cod_fornecedor,\n",
    "    nome_fornecedor,\n",
    "    material_ou_servico,\n",
    "    codigo_grupo_ou_divisao,\n",
    "    nome_grupo_ou_divisao,\n",
    "    codigo_classe_ou_grupo,\n",
    "    nome_classe_ou_grupo,\n",
    "    SUM(valor_total_resultado) AS valor_total_resultado\n",
    "  FROM catalogo\n",
    "  GROUP BY ALL\n",
    "),\n",
    "ranked AS (\n",
    "  SELECT\n",
    "    p.*,\n",
    "    ROW_NUMBER() OVER (\n",
    "      PARTITION BY p.cod_item_compra\n",
    "      ORDER BY p.valor_total_resultado DESC\n",
    "    ) AS rn\n",
    "  FROM per_group p\n",
    ")\n",
    "SELECT DISTINCT\n",
    "  ano_compra, cod_compra, cod_item_compra, cod_fornecedor,\n",
    "  nome_fornecedor, material_ou_servico,\n",
    "  codigo_grupo_ou_divisao, nome_grupo_ou_divisao,codigo_classe_ou_grupo,\n",
    "  nome_classe_ou_grupo, valor_total_resultado\n",
    "FROM ranked\n",
    "WHERE rn = 1;"
   ]
  },
  {
   "cell_type": "code",
   "execution_count": 11,
   "id": "871e17c9-4bac-404a-9736-5e34c28ab643",
   "metadata": {},
   "outputs": [
    {
     "data": {
      "text/html": [
       "<span style=\"None\">Running query in &#x27;duckdb:///../data/inputs/mgi/mgi.db&#x27;</span>"
      ],
      "text/plain": [
       "Running query in 'duckdb:///../data/inputs/mgi/mgi.db'"
      ]
     },
     "metadata": {},
     "output_type": "display_data"
    },
    {
     "data": {
      "text/html": [
       "<div>\n",
       "<style scoped>\n",
       "    .dataframe tbody tr th:only-of-type {\n",
       "        vertical-align: middle;\n",
       "    }\n",
       "\n",
       "    .dataframe tbody tr th {\n",
       "        vertical-align: top;\n",
       "    }\n",
       "\n",
       "    .dataframe thead th {\n",
       "        text-align: right;\n",
       "    }\n",
       "</style>\n",
       "<table border=\"1\" class=\"dataframe\">\n",
       "  <thead>\n",
       "    <tr style=\"text-align: right;\">\n",
       "      <th></th>\n",
       "      <th>rows_count</th>\n",
       "      <th>distinct_coditem_compra</th>\n",
       "      <th>counts_match</th>\n",
       "    </tr>\n",
       "  </thead>\n",
       "  <tbody>\n",
       "    <tr>\n",
       "      <th>0</th>\n",
       "      <td>101122</td>\n",
       "      <td>101122</td>\n",
       "      <td>True</td>\n",
       "    </tr>\n",
       "  </tbody>\n",
       "</table>\n",
       "</div>"
      ],
      "text/plain": [
       "   rows_count  distinct_coditem_compra  counts_match\n",
       "0      101122                   101122          True"
      ]
     },
     "execution_count": 11,
     "metadata": {},
     "output_type": "execute_result"
    }
   ],
   "source": [
    "%%sql\n",
    "SELECT\n",
    "  COUNT(cod_item_compra)                  AS rows_count,\n",
    "  COUNT(DISTINCT cod_item_compra)         AS distinct_coditem_compra,\n",
    "  COUNT(*) = COUNT(DISTINCT cod_item_compra) AS counts_match\n",
    "FROM itens_tic__normalizados;"
   ]
  },
  {
   "cell_type": "code",
   "execution_count": 12,
   "id": "865443ac",
   "metadata": {},
   "outputs": [
    {
     "data": {
      "text/html": [
       "<span style=\"None\">Running query in &#x27;duckdb:///../data/inputs/mgi/mgi.db&#x27;</span>"
      ],
      "text/plain": [
       "Running query in 'duckdb:///../data/inputs/mgi/mgi.db'"
      ]
     },
     "metadata": {},
     "output_type": "display_data"
    },
    {
     "data": {
      "text/html": [
       "<div>\n",
       "<style scoped>\n",
       "    .dataframe tbody tr th:only-of-type {\n",
       "        vertical-align: middle;\n",
       "    }\n",
       "\n",
       "    .dataframe tbody tr th {\n",
       "        vertical-align: top;\n",
       "    }\n",
       "\n",
       "    .dataframe thead th {\n",
       "        text-align: right;\n",
       "    }\n",
       "</style>\n",
       "<table border=\"1\" class=\"dataframe\">\n",
       "  <thead>\n",
       "    <tr style=\"text-align: right;\">\n",
       "      <th></th>\n",
       "      <th>ano_compra</th>\n",
       "      <th>cod_compra</th>\n",
       "      <th>cod_item_compra</th>\n",
       "      <th>cod_fornecedor</th>\n",
       "      <th>nome_fornecedor</th>\n",
       "      <th>material_ou_servico</th>\n",
       "      <th>codigo_grupo_ou_divisao</th>\n",
       "      <th>nome_grupo_ou_divisao</th>\n",
       "      <th>codigo_classe_ou_grupo</th>\n",
       "      <th>nome_classe_ou_grupo</th>\n",
       "      <th>valor_total_resultado</th>\n",
       "    </tr>\n",
       "  </thead>\n",
       "  <tbody>\n",
       "    <tr>\n",
       "      <th>0</th>\n",
       "      <td>2021</td>\n",
       "      <td>857</td>\n",
       "      <td>2375</td>\n",
       "      <td>42846000000157</td>\n",
       "      <td>INGRID CRISTINA FERREIRA DA SILVA 01648724426</td>\n",
       "      <td>M</td>\n",
       "      <td>70</td>\n",
       "      <td>INFORMÁTICA - EQUIPAMENTOS,  PEÇAS, ACESSÓRIOS E SUPRIMENTOSDE TIC</td>\n",
       "      <td>7030</td>\n",
       "      <td>EQUIPAMENTOS DE ARMAZENAMENTO DE DADOS</td>\n",
       "      <td>738</td>\n",
       "    </tr>\n",
       "    <tr>\n",
       "      <th>1</th>\n",
       "      <td>2021</td>\n",
       "      <td>5126</td>\n",
       "      <td>21014</td>\n",
       "      <td>08692456000171</td>\n",
       "      <td>BNB COMERCIO DE EQUIPAMENTOS DE INFORMATICA LTDA</td>\n",
       "      <td>M</td>\n",
       "      <td>70</td>\n",
       "      <td>INFORMÁTICA - EQUIPAMENTOS,  PEÇAS, ACESSÓRIOS E SUPRIMENTOSDE TIC</td>\n",
       "      <td>7090</td>\n",
       "      <td>SUPRIMENTOS DE INFORMÁTICA - TIC</td>\n",
       "      <td>180</td>\n",
       "    </tr>\n",
       "    <tr>\n",
       "      <th>2</th>\n",
       "      <td>2021</td>\n",
       "      <td>17706</td>\n",
       "      <td>394143</td>\n",
       "      <td>42933602000141</td>\n",
       "      <td>ZENITE COMERCIO E SUPRIMENTOS DE INFORMATICA UNIPESSOAL</td>\n",
       "      <td>M</td>\n",
       "      <td>70</td>\n",
       "      <td>INFORMÁTICA - EQUIPAMENTOS,  PEÇAS, ACESSÓRIOS E SUPRIMENTOSDE TIC</td>\n",
       "      <td>7080</td>\n",
       "      <td>PEÇAS, ACESSÓRIOS E FERRAMENTAS PARA REDES DE TIC</td>\n",
       "      <td>3_000</td>\n",
       "    </tr>\n",
       "  </tbody>\n",
       "</table>\n",
       "</div>"
      ],
      "text/plain": [
       "   ano_compra  cod_compra  cod_item_compra  cod_fornecedor                                          nome_fornecedor material_ou_servico  codigo_grupo_ou_divisao                                               nome_grupo_ou_divisao  codigo_classe_ou_grupo                               nome_classe_ou_grupo  valor_total_resultado\n",
       "0        2021         857             2375  42846000000157            INGRID CRISTINA FERREIRA DA SILVA 01648724426                   M                       70  INFORMÁTICA - EQUIPAMENTOS,  PEÇAS, ACESSÓRIOS E SUPRIMENTOSDE TIC                    7030             EQUIPAMENTOS DE ARMAZENAMENTO DE DADOS                    738\n",
       "1        2021        5126            21014  08692456000171         BNB COMERCIO DE EQUIPAMENTOS DE INFORMATICA LTDA                   M                       70  INFORMÁTICA - EQUIPAMENTOS,  PEÇAS, ACESSÓRIOS E SUPRIMENTOSDE TIC                    7090                   SUPRIMENTOS DE INFORMÁTICA - TIC                    180\n",
       "2        2021       17706           394143  42933602000141  ZENITE COMERCIO E SUPRIMENTOS DE INFORMATICA UNIPESSOAL                   M                       70  INFORMÁTICA - EQUIPAMENTOS,  PEÇAS, ACESSÓRIOS E SUPRIMENTOSDE TIC                    7080  PEÇAS, ACESSÓRIOS E FERRAMENTAS PARA REDES DE TIC                  3_000"
      ]
     },
     "execution_count": 12,
     "metadata": {},
     "output_type": "execute_result"
    }
   ],
   "source": [
    "%%sql\n",
    "FROM itens_tic__normalizados limit 3"
   ]
  },
  {
   "cell_type": "markdown",
   "id": "fff194c0-b52d-4d72-87c5-72a0457313af",
   "metadata": {},
   "source": [
    "Uma outra questão é que precisamos do valor_homologado, que é da `compra` e não do `item`, mas uma compra pode ter vários itens. Por isso, na normalização, adotamos um `codigo_classe_ou_grupo` representante da compra. \n",
    "\n",
    "Mas uma dúvida fica:\n",
    "- Uma compra tem itens muito diferentes ou agrupando por `codigo_grupo_ou_divisao` e `codigo_classe_ou_grupo` os itens de uma compra estão numa mesma categoria?\n",
    "\n",
    "Vamos ver:"
   ]
  },
  {
   "cell_type": "code",
   "execution_count": 13,
   "id": "e245e395-1774-4b47-aa81-33f1ca3f99e8",
   "metadata": {},
   "outputs": [
    {
     "data": {
      "text/html": [
       "<span style=\"None\">Running query in &#x27;duckdb:///../data/inputs/mgi/mgi.db&#x27;</span>"
      ],
      "text/plain": [
       "Running query in 'duckdb:///../data/inputs/mgi/mgi.db'"
      ]
     },
     "metadata": {},
     "output_type": "display_data"
    },
    {
     "data": {
      "text/html": [
       "<div>\n",
       "<style scoped>\n",
       "    .dataframe tbody tr th:only-of-type {\n",
       "        vertical-align: middle;\n",
       "    }\n",
       "\n",
       "    .dataframe tbody tr th {\n",
       "        vertical-align: top;\n",
       "    }\n",
       "\n",
       "    .dataframe thead th {\n",
       "        text-align: right;\n",
       "    }\n",
       "</style>\n",
       "<table border=\"1\" class=\"dataframe\">\n",
       "  <thead>\n",
       "    <tr style=\"text-align: right;\">\n",
       "      <th></th>\n",
       "      <th>cod_compra</th>\n",
       "      <th>classe</th>\n",
       "      <th>n_itens_classe</th>\n",
       "      <th>n_itens</th>\n",
       "      <th>classe_%</th>\n",
       "    </tr>\n",
       "  </thead>\n",
       "  <tbody>\n",
       "    <tr>\n",
       "      <th>0</th>\n",
       "      <td>7646188</td>\n",
       "      <td>SERVIÇOS DE  LICENCIAMENTO E  CONTRATOS DE TRANSFERÊNCIA DE TECNOLOGIA</td>\n",
       "      <td>1</td>\n",
       "      <td>1</td>\n",
       "      <td>100</td>\n",
       "    </tr>\n",
       "    <tr>\n",
       "      <th>1</th>\n",
       "      <td>7646196</td>\n",
       "      <td>SUPRIMENTOS DE INFORMÁTICA - TIC</td>\n",
       "      <td>1</td>\n",
       "      <td>1</td>\n",
       "      <td>100</td>\n",
       "    </tr>\n",
       "    <tr>\n",
       "      <th>2</th>\n",
       "      <td>7646200</td>\n",
       "      <td>COMPUTADORES</td>\n",
       "      <td>1</td>\n",
       "      <td>1</td>\n",
       "      <td>100</td>\n",
       "    </tr>\n",
       "    <tr>\n",
       "      <th>3</th>\n",
       "      <td>7646249</td>\n",
       "      <td>SERVICOS PARA  A  INFRAESTRUTURA DE TECNOLOGIA DA INFORMAÇÃOE COMUNICAÇÃO (TIC),  NAO CLASSIFICADOS EM OUTROS TÓPICOS</td>\n",
       "      <td>1</td>\n",
       "      <td>1</td>\n",
       "      <td>100</td>\n",
       "    </tr>\n",
       "    <tr>\n",
       "      <th>4</th>\n",
       "      <td>7647697</td>\n",
       "      <td>SERVIÇOS DE HOSPEDAGEM EM TECNOLOGIA DA INFORMAÇÃO E  COMUNICACÃO (TIC)</td>\n",
       "      <td>1</td>\n",
       "      <td>1</td>\n",
       "      <td>100</td>\n",
       "    </tr>\n",
       "    <tr>\n",
       "      <th>...</th>\n",
       "      <td>...</td>\n",
       "      <td>...</td>\n",
       "      <td>...</td>\n",
       "      <td>...</td>\n",
       "      <td>...</td>\n",
       "    </tr>\n",
       "    <tr>\n",
       "      <th>46088</th>\n",
       "      <td>7516733</td>\n",
       "      <td>PEÇAS, ACESSÓRIOS E FERRAMENTAS PARA REDES DE TIC</td>\n",
       "      <td>1</td>\n",
       "      <td>113</td>\n",
       "      <td>1</td>\n",
       "    </tr>\n",
       "    <tr>\n",
       "      <th>46089</th>\n",
       "      <td>7516733</td>\n",
       "      <td>EQUIPAMENTOS DE REDE DE TIC - LOCAL E REMOTA</td>\n",
       "      <td>1</td>\n",
       "      <td>113</td>\n",
       "      <td>1</td>\n",
       "    </tr>\n",
       "    <tr>\n",
       "      <th>46090</th>\n",
       "      <td>7562211</td>\n",
       "      <td>EQUIPAMENTOS DE REDE DE TIC - LOCAL E REMOTA</td>\n",
       "      <td>1</td>\n",
       "      <td>116</td>\n",
       "      <td>1</td>\n",
       "    </tr>\n",
       "    <tr>\n",
       "      <th>46091</th>\n",
       "      <td>5647319</td>\n",
       "      <td>SERVIÇOS DE  LICENCIAMENTO E  CONTRATOS DE TRANSFERÊNCIA DE TECNOLOGIA</td>\n",
       "      <td>1</td>\n",
       "      <td>152</td>\n",
       "      <td>1</td>\n",
       "    </tr>\n",
       "    <tr>\n",
       "      <th>46092</th>\n",
       "      <td>5817927</td>\n",
       "      <td>ARTIGOS DIVERSOS PARA PROCESSAMENTO AUTOMÁTICO DE DADOS</td>\n",
       "      <td>5</td>\n",
       "      <td>1025</td>\n",
       "      <td>0</td>\n",
       "    </tr>\n",
       "  </tbody>\n",
       "</table>\n",
       "<p>46093 rows × 5 columns</p>\n",
       "</div>"
      ],
      "text/plain": [
       "       cod_compra                                                                                                                 classe  n_itens_classe  n_itens  classe_%\n",
       "0         7646188                                                 SERVIÇOS DE  LICENCIAMENTO E  CONTRATOS DE TRANSFERÊNCIA DE TECNOLOGIA               1        1       100\n",
       "1         7646196                                                                                       SUPRIMENTOS DE INFORMÁTICA - TIC               1        1       100\n",
       "2         7646200                                                                                                           COMPUTADORES               1        1       100\n",
       "3         7646249  SERVICOS PARA  A  INFRAESTRUTURA DE TECNOLOGIA DA INFORMAÇÃOE COMUNICAÇÃO (TIC),  NAO CLASSIFICADOS EM OUTROS TÓPICOS               1        1       100\n",
       "4         7647697                                                SERVIÇOS DE HOSPEDAGEM EM TECNOLOGIA DA INFORMAÇÃO E  COMUNICACÃO (TIC)               1        1       100\n",
       "...           ...                                                                                                                    ...             ...      ...       ...\n",
       "46088     7516733                                                                      PEÇAS, ACESSÓRIOS E FERRAMENTAS PARA REDES DE TIC               1      113         1\n",
       "46089     7516733                                                                           EQUIPAMENTOS DE REDE DE TIC - LOCAL E REMOTA               1      113         1\n",
       "46090     7562211                                                                           EQUIPAMENTOS DE REDE DE TIC - LOCAL E REMOTA               1      116         1\n",
       "46091     5647319                                                 SERVIÇOS DE  LICENCIAMENTO E  CONTRATOS DE TRANSFERÊNCIA DE TECNOLOGIA               1      152         1\n",
       "46092     5817927                                                                ARTIGOS DIVERSOS PARA PROCESSAMENTO AUTOMÁTICO DE DADOS               5     1025         0\n",
       "\n",
       "[46093 rows x 5 columns]"
      ]
     },
     "execution_count": 13,
     "metadata": {},
     "output_type": "execute_result"
    }
   ],
   "source": [
    "%%sql\n",
    "CREATE OR REPLACE VIEW TEMP AS (WITH base AS (\n",
    "  SELECT\n",
    "    cod_compra,\n",
    "    cod_item_compra,\n",
    "    nome_classe_ou_grupo AS classe\n",
    "  FROM itens_tic__normalizados\n",
    "),\n",
    "tot AS (\n",
    "  SELECT cod_compra, COUNT(DISTINCT cod_item_compra) AS n_itens\n",
    "  FROM base GROUP BY cod_compra\n",
    "),\n",
    "por_classe AS (\n",
    "  SELECT\n",
    "    cod_compra,\n",
    "    classe,\n",
    "    COUNT(DISTINCT cod_item_compra) AS n_itens_classe\n",
    "  FROM base\n",
    "  GROUP BY cod_compra, classe\n",
    ")\n",
    "SELECT DISTINCT\n",
    "  p.cod_compra,\n",
    "  p.classe,\n",
    "  p.n_itens_classe,\n",
    "  t.n_itens,\n",
    "  ROUND(100.0 * p.n_itens_classe / NULLIF(t.n_itens, 0), 2) AS \"classe_%\"\n",
    "FROM por_classe p\n",
    "JOIN tot t USING (cod_compra)\n",
    "ORDER BY p.cod_compra, p.n_itens_classe DESC);\n",
    "SELECT * FROM TEMP ORDER BY \"classe_%\" desc;"
   ]
  },
  {
   "cell_type": "code",
   "execution_count": 14,
   "id": "b183d531-909a-45dd-8957-88911ffbbe0c",
   "metadata": {},
   "outputs": [
    {
     "data": {
      "text/html": [
       "<span style=\"None\">Running query in &#x27;duckdb:///../data/inputs/mgi/mgi.db&#x27;</span>"
      ],
      "text/plain": [
       "Running query in 'duckdb:///../data/inputs/mgi/mgi.db'"
      ]
     },
     "metadata": {},
     "output_type": "display_data"
    },
    {
     "data": {
      "text/html": [
       "<div>\n",
       "<style scoped>\n",
       "    .dataframe tbody tr th:only-of-type {\n",
       "        vertical-align: middle;\n",
       "    }\n",
       "\n",
       "    .dataframe tbody tr th {\n",
       "        vertical-align: top;\n",
       "    }\n",
       "\n",
       "    .dataframe thead th {\n",
       "        text-align: right;\n",
       "    }\n",
       "</style>\n",
       "<table border=\"1\" class=\"dataframe\">\n",
       "  <thead>\n",
       "    <tr style=\"text-align: right;\">\n",
       "      <th></th>\n",
       "      <th>column_name</th>\n",
       "      <th>column_type</th>\n",
       "      <th>min</th>\n",
       "      <th>max</th>\n",
       "      <th>approx_unique</th>\n",
       "      <th>avg</th>\n",
       "      <th>std</th>\n",
       "      <th>q25</th>\n",
       "      <th>q50</th>\n",
       "      <th>q75</th>\n",
       "      <th>count</th>\n",
       "      <th>null_percentage</th>\n",
       "    </tr>\n",
       "  </thead>\n",
       "  <tbody>\n",
       "    <tr>\n",
       "      <th>0</th>\n",
       "      <td>cod_compra</td>\n",
       "      <td>BIGINT</td>\n",
       "      <td>10</td>\n",
       "      <td>9162794</td>\n",
       "      <td>41446</td>\n",
       "      <td>6328160.4552969</td>\n",
       "      <td>2196702.3667087527</td>\n",
       "      <td>5627426</td>\n",
       "      <td>6718530</td>\n",
       "      <td>7575563</td>\n",
       "      <td>46093</td>\n",
       "      <td>0</td>\n",
       "    </tr>\n",
       "    <tr>\n",
       "      <th>1</th>\n",
       "      <td>classe</td>\n",
       "      <td>VARCHAR</td>\n",
       "      <td>ARTIGOS DIVERSOS PARA PROCESSAMENTO AUTOMÁTICO DE DADOS</td>\n",
       "      <td>UNIDADES PARA MANUSEIO DE CARTÕES</td>\n",
       "      <td>29</td>\n",
       "      <td>None</td>\n",
       "      <td>None</td>\n",
       "      <td>None</td>\n",
       "      <td>None</td>\n",
       "      <td>None</td>\n",
       "      <td>46093</td>\n",
       "      <td>0</td>\n",
       "    </tr>\n",
       "    <tr>\n",
       "      <th>2</th>\n",
       "      <td>n_itens_classe</td>\n",
       "      <td>BIGINT</td>\n",
       "      <td>1</td>\n",
       "      <td>930</td>\n",
       "      <td>83</td>\n",
       "      <td>2.193868917189161</td>\n",
       "      <td>6.068538768999753</td>\n",
       "      <td>1</td>\n",
       "      <td>1</td>\n",
       "      <td>2</td>\n",
       "      <td>46093</td>\n",
       "      <td>0</td>\n",
       "    </tr>\n",
       "    <tr>\n",
       "      <th>3</th>\n",
       "      <td>n_itens</td>\n",
       "      <td>BIGINT</td>\n",
       "      <td>1</td>\n",
       "      <td>1025</td>\n",
       "      <td>101</td>\n",
       "      <td>5.133881500444753</td>\n",
       "      <td>13.55610576451329</td>\n",
       "      <td>1</td>\n",
       "      <td>2</td>\n",
       "      <td>5</td>\n",
       "      <td>46093</td>\n",
       "      <td>0</td>\n",
       "    </tr>\n",
       "    <tr>\n",
       "      <th>4</th>\n",
       "      <td>classe_%</td>\n",
       "      <td>DOUBLE</td>\n",
       "      <td>0.49</td>\n",
       "      <td>100.0</td>\n",
       "      <td>562</td>\n",
       "      <td>73.57076692773312</td>\n",
       "      <td>33.86425759407075</td>\n",
       "      <td>47.35292733180461</td>\n",
       "      <td>100.0</td>\n",
       "      <td>100.0</td>\n",
       "      <td>46093</td>\n",
       "      <td>0</td>\n",
       "    </tr>\n",
       "  </tbody>\n",
       "</table>\n",
       "</div>"
      ],
      "text/plain": [
       "      column_name column_type                                                      min                                max  approx_unique                avg                 std                q25      q50      q75  count  null_percentage\n",
       "0      cod_compra      BIGINT                                                       10                            9162794          41446    6328160.4552969  2196702.3667087527            5627426  6718530  7575563  46093                0\n",
       "1          classe     VARCHAR  ARTIGOS DIVERSOS PARA PROCESSAMENTO AUTOMÁTICO DE DADOS  UNIDADES PARA MANUSEIO DE CARTÕES             29               None                None               None     None     None  46093                0\n",
       "2  n_itens_classe      BIGINT                                                        1                                930             83  2.193868917189161   6.068538768999753                  1        1        2  46093                0\n",
       "3         n_itens      BIGINT                                                        1                               1025            101  5.133881500444753   13.55610576451329                  1        2        5  46093                0\n",
       "4        classe_%      DOUBLE                                                     0.49                              100.0            562  73.57076692773312   33.86425759407075  47.35292733180461    100.0    100.0  46093                0"
      ]
     },
     "execution_count": 14,
     "metadata": {},
     "output_type": "execute_result"
    }
   ],
   "source": [
    "%%sql\n",
    "SELECT * FROM (SUMMARIZE TEMP)"
   ]
  },
  {
   "cell_type": "markdown",
   "id": "faed8414-4ff0-4705-b25b-b959cdff909f",
   "metadata": {},
   "source": [
    "A média de representatividade é ~75%, ok."
   ]
  },
  {
   "cell_type": "markdown",
   "id": "8bd50eb8-2217-428a-a97e-53a41bc080af",
   "metadata": {},
   "source": [
    "## Compras no PNCP"
   ]
  },
  {
   "cell_type": "markdown",
   "id": "682bb4e5-1253-447f-ae8f-04a035d64193",
   "metadata": {},
   "source": [
    "Vamos olhar as compras no PNCP."
   ]
  },
  {
   "cell_type": "code",
   "execution_count": 15,
   "id": "51e2529a-b6fb-4d13-bee1-4fc61dbbb64a",
   "metadata": {},
   "outputs": [
    {
     "data": {
      "text/html": [
       "<span style=\"None\">Running query in &#x27;duckdb:///../data/inputs/mgi/mgi.db&#x27;</span>"
      ],
      "text/plain": [
       "Running query in 'duckdb:///../data/inputs/mgi/mgi.db'"
      ]
     },
     "metadata": {},
     "output_type": "display_data"
    },
    {
     "data": {
      "text/html": [
       "<div>\n",
       "<style scoped>\n",
       "    .dataframe tbody tr th:only-of-type {\n",
       "        vertical-align: middle;\n",
       "    }\n",
       "\n",
       "    .dataframe tbody tr th {\n",
       "        vertical-align: top;\n",
       "    }\n",
       "\n",
       "    .dataframe thead th {\n",
       "        text-align: right;\n",
       "    }\n",
       "</style>\n",
       "<table border=\"1\" class=\"dataframe\">\n",
       "  <thead>\n",
       "    <tr style=\"text-align: right;\">\n",
       "      <th></th>\n",
       "      <th>ano_compra</th>\n",
       "      <th>homologado_em_bilhoes</th>\n",
       "    </tr>\n",
       "  </thead>\n",
       "  <tbody>\n",
       "    <tr>\n",
       "      <th>0</th>\n",
       "      <td>2021</td>\n",
       "      <td>1</td>\n",
       "    </tr>\n",
       "    <tr>\n",
       "      <th>1</th>\n",
       "      <td>2022</td>\n",
       "      <td>9</td>\n",
       "    </tr>\n",
       "    <tr>\n",
       "      <th>2</th>\n",
       "      <td>2023</td>\n",
       "      <td>124</td>\n",
       "    </tr>\n",
       "    <tr>\n",
       "      <th>3</th>\n",
       "      <td>2024</td>\n",
       "      <td>3_807</td>\n",
       "    </tr>\n",
       "    <tr>\n",
       "      <th>4</th>\n",
       "      <td>2025</td>\n",
       "      <td>3_023</td>\n",
       "    </tr>\n",
       "    <tr>\n",
       "      <th>5</th>\n",
       "      <td>2026</td>\n",
       "      <td>5</td>\n",
       "    </tr>\n",
       "  </tbody>\n",
       "</table>\n",
       "</div>"
      ],
      "text/plain": [
       "   ano_compra  homologado_em_bilhoes\n",
       "0        2021                      1\n",
       "1        2022                      9\n",
       "2        2023                    124\n",
       "3        2024                  3_807\n",
       "4        2025                  3_023\n",
       "5        2026                      5"
      ]
     },
     "execution_count": 15,
     "metadata": {},
     "output_type": "execute_result"
    }
   ],
   "source": [
    "%%sql\n",
    "SELECT ano_compra, (sum(valor_total_homologado)//1_000_000_000) as homologado_em_bilhoes from pncp_compras group by all order by all"
   ]
  },
  {
   "cell_type": "markdown",
   "id": "3b27b00f-5dc3-4cfe-9d3e-20d71ea7b6dd",
   "metadata": {},
   "source": [
    "### Todas as Compras válidas"
   ]
  },
  {
   "cell_type": "code",
   "execution_count": 16,
   "id": "8e5b1d47",
   "metadata": {},
   "outputs": [
    {
     "data": {
      "text/html": [
       "<span style=\"None\">Running query in &#x27;duckdb:///../data/inputs/mgi/mgi.db&#x27;</span>"
      ],
      "text/plain": [
       "Running query in 'duckdb:///../data/inputs/mgi/mgi.db'"
      ]
     },
     "metadata": {},
     "output_type": "display_data"
    },
    {
     "data": {
      "text/html": [
       "<div>\n",
       "<style scoped>\n",
       "    .dataframe tbody tr th:only-of-type {\n",
       "        vertical-align: middle;\n",
       "    }\n",
       "\n",
       "    .dataframe tbody tr th {\n",
       "        vertical-align: top;\n",
       "    }\n",
       "\n",
       "    .dataframe thead th {\n",
       "        text-align: right;\n",
       "    }\n",
       "</style>\n",
       "<table border=\"1\" class=\"dataframe\">\n",
       "  <thead>\n",
       "    <tr style=\"text-align: right;\">\n",
       "      <th></th>\n",
       "      <th>Success</th>\n",
       "    </tr>\n",
       "  </thead>\n",
       "  <tbody>\n",
       "  </tbody>\n",
       "</table>\n",
       "</div>"
      ],
      "text/plain": [
       "Empty DataFrame\n",
       "Columns: [Success]\n",
       "Index: []"
      ]
     },
     "execution_count": 16,
     "metadata": {},
     "output_type": "execute_result"
    }
   ],
   "source": [
    "%%sql\n",
    "\n",
    "CREATE OR REPLACE VIEW compras__validas AS (\n",
    "  SELECT DISTINCT\n",
    "    cod_compra,\n",
    "    ano_compra,\n",
    "    orgao_entidade_razao_social AS orgao_entidade,\n",
    "    orgao_entidade_poder_id     AS poder,\n",
    "    orgao_entidade_esfera_id    AS esfera,\n",
    "    unidade_orgao_uf_sigla      AS uf,\n",
    "    unidade_orgao_municipio_nome AS municipio,\n",
    "    TRIM(objeto_compra) AS objeto,\n",
    "    valor_total_homologado\n",
    "  FROM pncp_compras\n",
    "  WHERE situacao_compra_nome = 'Divulgada no PNCP'\n",
    "    AND NOT contratacao_excluida\n",
    ");"
   ]
  },
  {
   "cell_type": "code",
   "execution_count": 17,
   "id": "ccd31543",
   "metadata": {},
   "outputs": [
    {
     "data": {
      "text/html": [
       "<span style=\"None\">Running query in &#x27;duckdb:///../data/inputs/mgi/mgi.db&#x27;</span>"
      ],
      "text/plain": [
       "Running query in 'duckdb:///../data/inputs/mgi/mgi.db'"
      ]
     },
     "metadata": {},
     "output_type": "display_data"
    },
    {
     "data": {
      "text/html": [
       "<div>\n",
       "<style scoped>\n",
       "    .dataframe tbody tr th:only-of-type {\n",
       "        vertical-align: middle;\n",
       "    }\n",
       "\n",
       "    .dataframe tbody tr th {\n",
       "        vertical-align: top;\n",
       "    }\n",
       "\n",
       "    .dataframe thead th {\n",
       "        text-align: right;\n",
       "    }\n",
       "</style>\n",
       "<table border=\"1\" class=\"dataframe\">\n",
       "  <thead>\n",
       "    <tr style=\"text-align: right;\">\n",
       "      <th></th>\n",
       "      <th>ano_compra</th>\n",
       "      <th>homologado_em_bilhoes</th>\n",
       "    </tr>\n",
       "  </thead>\n",
       "  <tbody>\n",
       "    <tr>\n",
       "      <th>0</th>\n",
       "      <td>2021</td>\n",
       "      <td>1</td>\n",
       "    </tr>\n",
       "    <tr>\n",
       "      <th>1</th>\n",
       "      <td>2022</td>\n",
       "      <td>9</td>\n",
       "    </tr>\n",
       "    <tr>\n",
       "      <th>2</th>\n",
       "      <td>2023</td>\n",
       "      <td>122</td>\n",
       "    </tr>\n",
       "    <tr>\n",
       "      <th>3</th>\n",
       "      <td>2024</td>\n",
       "      <td>521</td>\n",
       "    </tr>\n",
       "    <tr>\n",
       "      <th>4</th>\n",
       "      <td>2025</td>\n",
       "      <td>222</td>\n",
       "    </tr>\n",
       "    <tr>\n",
       "      <th>5</th>\n",
       "      <td>2026</td>\n",
       "      <td>5</td>\n",
       "    </tr>\n",
       "  </tbody>\n",
       "</table>\n",
       "</div>"
      ],
      "text/plain": [
       "   ano_compra  homologado_em_bilhoes\n",
       "0        2021                      1\n",
       "1        2022                      9\n",
       "2        2023                    122\n",
       "3        2024                    521\n",
       "4        2025                    222\n",
       "5        2026                      5"
      ]
     },
     "execution_count": 17,
     "metadata": {},
     "output_type": "execute_result"
    }
   ],
   "source": [
    "%%sql\n",
    "SELECT ano_compra, (sum(valor_total_homologado)//1_000_000_000) as homologado_em_bilhoes from compras__validas group by all order by all"
   ]
  },
  {
   "cell_type": "markdown",
   "id": "8399d868-7264-462d-a48d-4164feebb6db",
   "metadata": {},
   "source": [
    "## Compras TIC no PNCP"
   ]
  },
  {
   "cell_type": "code",
   "execution_count": 18,
   "id": "e15a71f1-b3ec-44dc-963b-38c39f4be894",
   "metadata": {},
   "outputs": [
    {
     "data": {
      "text/html": [
       "<span style=\"None\">Running query in &#x27;duckdb:///../data/inputs/mgi/mgi.db&#x27;</span>"
      ],
      "text/plain": [
       "Running query in 'duckdb:///../data/inputs/mgi/mgi.db'"
      ]
     },
     "metadata": {},
     "output_type": "display_data"
    },
    {
     "data": {
      "text/html": [
       "<div>\n",
       "<style scoped>\n",
       "    .dataframe tbody tr th:only-of-type {\n",
       "        vertical-align: middle;\n",
       "    }\n",
       "\n",
       "    .dataframe tbody tr th {\n",
       "        vertical-align: top;\n",
       "    }\n",
       "\n",
       "    .dataframe thead th {\n",
       "        text-align: right;\n",
       "    }\n",
       "</style>\n",
       "<table border=\"1\" class=\"dataframe\">\n",
       "  <thead>\n",
       "    <tr style=\"text-align: right;\">\n",
       "      <th></th>\n",
       "      <th>cod_compra</th>\n",
       "      <th>n</th>\n",
       "    </tr>\n",
       "  </thead>\n",
       "  <tbody>\n",
       "  </tbody>\n",
       "</table>\n",
       "</div>"
      ],
      "text/plain": [
       "Empty DataFrame\n",
       "Columns: [cod_compra, n]\n",
       "Index: []"
      ]
     },
     "execution_count": 18,
     "metadata": {},
     "output_type": "execute_result"
    }
   ],
   "source": [
    "%%sql\n",
    "-- Any duplicates on the purchase table?\n",
    "SELECT cod_compra, COUNT(*) AS n\n",
    "FROM compras__validas\n",
    "GROUP BY cod_compra\n",
    "HAVING COUNT(*) > 1\n",
    "ORDER BY n DESC\n",
    "LIMIT 10;"
   ]
  },
  {
   "cell_type": "code",
   "execution_count": 19,
   "id": "0ea91e57-974b-466f-b147-bfce0e0042ee",
   "metadata": {},
   "outputs": [
    {
     "data": {
      "text/html": [
       "<span style=\"None\">Running query in &#x27;duckdb:///../data/inputs/mgi/mgi.db&#x27;</span>"
      ],
      "text/plain": [
       "Running query in 'duckdb:///../data/inputs/mgi/mgi.db'"
      ]
     },
     "metadata": {},
     "output_type": "display_data"
    },
    {
     "data": {
      "text/html": [
       "<div>\n",
       "<style scoped>\n",
       "    .dataframe tbody tr th:only-of-type {\n",
       "        vertical-align: middle;\n",
       "    }\n",
       "\n",
       "    .dataframe tbody tr th {\n",
       "        vertical-align: top;\n",
       "    }\n",
       "\n",
       "    .dataframe thead th {\n",
       "        text-align: right;\n",
       "    }\n",
       "</style>\n",
       "<table border=\"1\" class=\"dataframe\">\n",
       "  <thead>\n",
       "    <tr style=\"text-align: right;\">\n",
       "      <th></th>\n",
       "      <th>Success</th>\n",
       "    </tr>\n",
       "  </thead>\n",
       "  <tbody>\n",
       "  </tbody>\n",
       "</table>\n",
       "</div>"
      ],
      "text/plain": [
       "Empty DataFrame\n",
       "Columns: [Success]\n",
       "Index: []"
      ]
     },
     "execution_count": 19,
     "metadata": {},
     "output_type": "execute_result"
    }
   ],
   "source": [
    "%%sql\n",
    "CREATE OR REPLACE TABLE compras_tic AS\n",
    "WITH items AS (\n",
    "  SELECT\n",
    "    TRY_CAST(cod_compra AS BIGINT)          AS cod_compra,\n",
    "    codigo_grupo_ou_divisao,\n",
    "    nome_grupo_ou_divisao,\n",
    "    codigo_classe_ou_grupo,\n",
    "    nome_classe_ou_grupo,\n",
    "    nome_fornecedor,\n",
    "    valor_total_resultado\n",
    "  FROM itens_tic__normalizados\n",
    "),\n",
    "top_item AS (\n",
    "  SELECT\n",
    "    items.*,\n",
    "    ROW_NUMBER() OVER (\n",
    "      PARTITION BY cod_compra\n",
    "      ORDER BY valor_total_resultado DESC\n",
    "    ) AS rn\n",
    "  FROM items\n",
    "),\n",
    "top_per_compra AS (\n",
    "  SELECT\n",
    "    cod_compra,\n",
    "    codigo_grupo_ou_divisao,\n",
    "    nome_grupo_ou_divisao,\n",
    "    codigo_classe_ou_grupo,\n",
    "    nome_classe_ou_grupo,\n",
    "    nome_fornecedor                         AS fornecedor_top,\n",
    "    valor_total_resultado                   AS top_item_valor\n",
    "  FROM top_item\n",
    "  WHERE rn = 1\n",
    "),\n",
    "agg AS (\n",
    "  SELECT\n",
    "    cod_compra,\n",
    "    COUNT(*)                                 AS n_itens_tic,\n",
    "    COUNT(DISTINCT nome_fornecedor)          AS n_fornecedores,\n",
    "    COALESCE(SUM(valor_total_resultado), 0)  AS total_resultado_tic\n",
    "  FROM items\n",
    "  GROUP BY cod_compra\n",
    ")\n",
    "SELECT\n",
    "  v.ano_compra,\n",
    "  v.cod_compra,\n",
    "  v.orgao_entidade,\n",
    "  v.poder,\n",
    "  v.esfera,\n",
    "  v.uf,\n",
    "  v.municipio,\n",
    "  v.objeto,\n",
    "  t.codigo_grupo_ou_divisao,\n",
    "  t.nome_grupo_ou_divisao,\n",
    "  t.codigo_classe_ou_grupo,\n",
    "  t.nome_classe_ou_grupo,\n",
    "  t.fornecedor_top,\n",
    "  t.top_item_valor,\n",
    "  a.n_itens_tic,\n",
    "  a.n_fornecedores,\n",
    "  a.total_resultado_tic as valor_total_resultado,\n",
    "  v.valor_total_homologado,\n",
    "FROM compras__validas v\n",
    "JOIN top_per_compra t\n",
    "  ON TRY_CAST(v.cod_compra AS BIGINT) = t.cod_compra\n",
    "LEFT JOIN agg a\n",
    "  ON TRY_CAST(v.cod_compra AS BIGINT) = a.cod_compra;"
   ]
  },
  {
   "cell_type": "markdown",
   "id": "eab859fc-32e0-4867-9e01-c07b56cbf3da",
   "metadata": {},
   "source": [
    "Checando se join correto"
   ]
  },
  {
   "cell_type": "code",
   "execution_count": 20,
   "id": "9f542427-d5fa-4dc5-a477-709db1e3b9f5",
   "metadata": {},
   "outputs": [
    {
     "data": {
      "text/html": [
       "<span style=\"None\">Running query in &#x27;duckdb:///../data/inputs/mgi/mgi.db&#x27;</span>"
      ],
      "text/plain": [
       "Running query in 'duckdb:///../data/inputs/mgi/mgi.db'"
      ]
     },
     "metadata": {},
     "output_type": "display_data"
    },
    {
     "data": {
      "text/html": [
       "<div>\n",
       "<style scoped>\n",
       "    .dataframe tbody tr th:only-of-type {\n",
       "        vertical-align: middle;\n",
       "    }\n",
       "\n",
       "    .dataframe tbody tr th {\n",
       "        vertical-align: top;\n",
       "    }\n",
       "\n",
       "    .dataframe thead th {\n",
       "        text-align: right;\n",
       "    }\n",
       "</style>\n",
       "<table border=\"1\" class=\"dataframe\">\n",
       "  <thead>\n",
       "    <tr style=\"text-align: right;\">\n",
       "      <th></th>\n",
       "      <th>rows_count</th>\n",
       "      <th>distinct_cod_compra</th>\n",
       "      <th>counts_match</th>\n",
       "    </tr>\n",
       "  </thead>\n",
       "  <tbody>\n",
       "    <tr>\n",
       "      <th>0</th>\n",
       "      <td>33666</td>\n",
       "      <td>33666</td>\n",
       "      <td>True</td>\n",
       "    </tr>\n",
       "  </tbody>\n",
       "</table>\n",
       "</div>"
      ],
      "text/plain": [
       "   rows_count  distinct_cod_compra  counts_match\n",
       "0       33666                33666          True"
      ]
     },
     "execution_count": 20,
     "metadata": {},
     "output_type": "execute_result"
    }
   ],
   "source": [
    "%%sql\n",
    "SELECT\n",
    "  COUNT(cod_compra)                  AS rows_count,\n",
    "  COUNT(DISTINCT cod_compra)         AS distinct_cod_compra,\n",
    "  COUNT(*) = COUNT(DISTINCT cod_compra) AS counts_match\n",
    "FROM compras_tic;"
   ]
  },
  {
   "cell_type": "code",
   "execution_count": 21,
   "id": "f624d8cd-3fe0-42d5-93ef-877deafb92b0",
   "metadata": {},
   "outputs": [
    {
     "data": {
      "text/html": [
       "<span style=\"None\">Running query in &#x27;duckdb:///../data/inputs/mgi/mgi.db&#x27;</span>"
      ],
      "text/plain": [
       "Running query in 'duckdb:///../data/inputs/mgi/mgi.db'"
      ]
     },
     "metadata": {},
     "output_type": "display_data"
    },
    {
     "data": {
      "text/html": [
       "<div>\n",
       "<style scoped>\n",
       "    .dataframe tbody tr th:only-of-type {\n",
       "        vertical-align: middle;\n",
       "    }\n",
       "\n",
       "    .dataframe tbody tr th {\n",
       "        vertical-align: top;\n",
       "    }\n",
       "\n",
       "    .dataframe thead th {\n",
       "        text-align: right;\n",
       "    }\n",
       "</style>\n",
       "<table border=\"1\" class=\"dataframe\">\n",
       "  <thead>\n",
       "    <tr style=\"text-align: right;\">\n",
       "      <th></th>\n",
       "      <th>ano_compra</th>\n",
       "      <th>cod_compra</th>\n",
       "      <th>orgao_entidade</th>\n",
       "      <th>poder</th>\n",
       "      <th>esfera</th>\n",
       "      <th>uf</th>\n",
       "      <th>municipio</th>\n",
       "      <th>objeto</th>\n",
       "      <th>codigo_grupo_ou_divisao</th>\n",
       "      <th>nome_grupo_ou_divisao</th>\n",
       "      <th>codigo_classe_ou_grupo</th>\n",
       "      <th>nome_classe_ou_grupo</th>\n",
       "      <th>fornecedor_top</th>\n",
       "      <th>top_item_valor</th>\n",
       "      <th>n_itens_tic</th>\n",
       "      <th>n_fornecedores</th>\n",
       "      <th>valor_total_resultado</th>\n",
       "      <th>valor_total_homologado</th>\n",
       "    </tr>\n",
       "  </thead>\n",
       "  <tbody>\n",
       "    <tr>\n",
       "      <th>0</th>\n",
       "      <td>2025</td>\n",
       "      <td>7927303</td>\n",
       "      <td>CONSELHO REGIONAL DE CONTABILIDADE DO PARANA</td>\n",
       "      <td>E</td>\n",
       "      <td>F</td>\n",
       "      <td>PR</td>\n",
       "      <td>CURITIBA</td>\n",
       "      <td>Contratação de empresa especializada para análise de requisitos, planejamento detalhado e desenvolvimento de protótipo de alta fidelidade denominado \"CrcSmart\".</td>\n",
       "      <td>17</td>\n",
       "      <td>SERVIÇOS DE  PESQUISA,  ANÁLISE  DE  DADOS  E  INDICADORES, CONSULTORIA E PROJETOS DE TIC</td>\n",
       "      <td>174</td>\n",
       "      <td>SERVIÇOS DE PROJETOS EM TECNOLOGIA DA INFORMAÇÃO E COMUNICA-ÇÃO (TIC)</td>\n",
       "      <td>EW TREINAMENTOS &amp; DESENVOLVIMENTO DE SISTEMAS LTDA.</td>\n",
       "      <td>53_650</td>\n",
       "      <td>1</td>\n",
       "      <td>1</td>\n",
       "      <td>53_650</td>\n",
       "      <td>53_650</td>\n",
       "    </tr>\n",
       "    <tr>\n",
       "      <th>1</th>\n",
       "      <td>2024</td>\n",
       "      <td>5682627</td>\n",
       "      <td>ESTADO DE MINAS GERAIS</td>\n",
       "      <td>E</td>\n",
       "      <td>E</td>\n",
       "      <td>MG</td>\n",
       "      <td>PIRAPETINGA</td>\n",
       "      <td>Aquisição de materiais permanentes a fim de atender a demanda da Secretaria Municipal de Saúde, especificamente com fito de guarnecer as dependências da Unidade Básica de Saúde localizada no Centro da cidade, com recurso oriundo da Emenda Parlamentar nº 2018003, Proposta nº 11342716000123012.</td>\n",
       "      <td>70</td>\n",
       "      <td>INFORMÁTICA - EQUIPAMENTOS,  PEÇAS, ACESSÓRIOS E SUPRIMENTOSDE TIC</td>\n",
       "      <td>7010</td>\n",
       "      <td>COMPUTADORES</td>\n",
       "      <td>NEP SOLUCOES E INFORMATICA - COMERCIO E SERVICOS LTDA</td>\n",
       "      <td>2_298</td>\n",
       "      <td>1</td>\n",
       "      <td>1</td>\n",
       "      <td>2_298</td>\n",
       "      <td>100_102</td>\n",
       "    </tr>\n",
       "  </tbody>\n",
       "</table>\n",
       "</div>"
      ],
      "text/plain": [
       "   ano_compra  cod_compra                                orgao_entidade poder esfera  uf    municipio                                                                                                                                                                                                                                                                                                 objeto  codigo_grupo_ou_divisao                                                                      nome_grupo_ou_divisao  codigo_classe_ou_grupo                                                   nome_classe_ou_grupo                                         fornecedor_top  top_item_valor  n_itens_tic  n_fornecedores  valor_total_resultado  valor_total_homologado\n",
       "0        2025     7927303  CONSELHO REGIONAL DE CONTABILIDADE DO PARANA     E      F  PR     CURITIBA                                                                                                                                       Contratação de empresa especializada para análise de requisitos, planejamento detalhado e desenvolvimento de protótipo de alta fidelidade denominado \"CrcSmart\".                       17  SERVIÇOS DE  PESQUISA,  ANÁLISE  DE  DADOS  E  INDICADORES, CONSULTORIA E PROJETOS DE TIC                     174  SERVIÇOS DE PROJETOS EM TECNOLOGIA DA INFORMAÇÃO E COMUNICA-ÇÃO (TIC)    EW TREINAMENTOS & DESENVOLVIMENTO DE SISTEMAS LTDA.          53_650            1               1                 53_650                  53_650\n",
       "1        2024     5682627                        ESTADO DE MINAS GERAIS     E      E  MG  PIRAPETINGA  Aquisição de materiais permanentes a fim de atender a demanda da Secretaria Municipal de Saúde, especificamente com fito de guarnecer as dependências da Unidade Básica de Saúde localizada no Centro da cidade, com recurso oriundo da Emenda Parlamentar nº 2018003, Proposta nº 11342716000123012.                       70                         INFORMÁTICA - EQUIPAMENTOS,  PEÇAS, ACESSÓRIOS E SUPRIMENTOSDE TIC                    7010                                                           COMPUTADORES  NEP SOLUCOES E INFORMATICA - COMERCIO E SERVICOS LTDA           2_298            1               1                  2_298                 100_102"
      ]
     },
     "execution_count": 21,
     "metadata": {},
     "output_type": "execute_result"
    }
   ],
   "source": [
    "%%sql\n",
    "SELECT * FROM compras_tic LIMIT 2;"
   ]
  },
  {
   "cell_type": "code",
   "execution_count": 22,
   "id": "17d5ca91-1b66-4a01-8ae3-aa29b966bab2",
   "metadata": {},
   "outputs": [
    {
     "data": {
      "text/html": [
       "<span style=\"None\">Running query in &#x27;duckdb:///../data/inputs/mgi/mgi.db&#x27;</span>"
      ],
      "text/plain": [
       "Running query in 'duckdb:///../data/inputs/mgi/mgi.db'"
      ]
     },
     "metadata": {},
     "output_type": "display_data"
    },
    {
     "data": {
      "text/html": [
       "<div>\n",
       "<style scoped>\n",
       "    .dataframe tbody tr th:only-of-type {\n",
       "        vertical-align: middle;\n",
       "    }\n",
       "\n",
       "    .dataframe tbody tr th {\n",
       "        vertical-align: top;\n",
       "    }\n",
       "\n",
       "    .dataframe thead th {\n",
       "        text-align: right;\n",
       "    }\n",
       "</style>\n",
       "<table border=\"1\" class=\"dataframe\">\n",
       "  <thead>\n",
       "    <tr style=\"text-align: right;\">\n",
       "      <th></th>\n",
       "      <th>ano_compra</th>\n",
       "      <th>homologado_em_bilhoes</th>\n",
       "    </tr>\n",
       "  </thead>\n",
       "  <tbody>\n",
       "    <tr>\n",
       "      <th>0</th>\n",
       "      <td>2021</td>\n",
       "      <td>0</td>\n",
       "    </tr>\n",
       "    <tr>\n",
       "      <th>1</th>\n",
       "      <td>2022</td>\n",
       "      <td>2</td>\n",
       "    </tr>\n",
       "    <tr>\n",
       "      <th>2</th>\n",
       "      <td>2023</td>\n",
       "      <td>16</td>\n",
       "    </tr>\n",
       "    <tr>\n",
       "      <th>3</th>\n",
       "      <td>2024</td>\n",
       "      <td>24</td>\n",
       "    </tr>\n",
       "    <tr>\n",
       "      <th>4</th>\n",
       "      <td>2025</td>\n",
       "      <td>11</td>\n",
       "    </tr>\n",
       "    <tr>\n",
       "      <th>5</th>\n",
       "      <td>2026</td>\n",
       "      <td>2</td>\n",
       "    </tr>\n",
       "  </tbody>\n",
       "</table>\n",
       "</div>"
      ],
      "text/plain": [
       "   ano_compra  homologado_em_bilhoes\n",
       "0        2021                      0\n",
       "1        2022                      2\n",
       "2        2023                     16\n",
       "3        2024                     24\n",
       "4        2025                     11\n",
       "5        2026                      2"
      ]
     },
     "execution_count": 22,
     "metadata": {},
     "output_type": "execute_result"
    }
   ],
   "source": [
    "%%sql\n",
    "SELECT ano_compra, (sum(valor_total_homologado)//1_000_000_000) as homologado_em_bilhoes from compras_tic group by all order by all"
   ]
  },
  {
   "cell_type": "markdown",
   "id": "cb38533a-203b-48e1-be65-cfc24b028a4c",
   "metadata": {},
   "source": [
    "### Vamos analisar 2024"
   ]
  },
  {
   "cell_type": "markdown",
   "id": "7d800bc1-1345-4666-9f32-c0ca221362a3",
   "metadata": {},
   "source": [
    "Olhando só as categorias com gastos acima de 1B"
   ]
  },
  {
   "cell_type": "code",
   "execution_count": 23,
   "id": "e504b21d-d0d7-4216-9434-430e382d8029",
   "metadata": {},
   "outputs": [
    {
     "data": {
      "text/html": [
       "<span style=\"None\">Running query in &#x27;duckdb:///../data/inputs/mgi/mgi.db&#x27;</span>"
      ],
      "text/plain": [
       "Running query in 'duckdb:///../data/inputs/mgi/mgi.db'"
      ]
     },
     "metadata": {},
     "output_type": "display_data"
    },
    {
     "data": {
      "text/html": [
       "<div>\n",
       "<style scoped>\n",
       "    .dataframe tbody tr th:only-of-type {\n",
       "        vertical-align: middle;\n",
       "    }\n",
       "\n",
       "    .dataframe tbody tr th {\n",
       "        vertical-align: top;\n",
       "    }\n",
       "\n",
       "    .dataframe thead th {\n",
       "        text-align: right;\n",
       "    }\n",
       "</style>\n",
       "<table border=\"1\" class=\"dataframe\">\n",
       "  <thead>\n",
       "    <tr style=\"text-align: right;\">\n",
       "      <th></th>\n",
       "      <th>nome_grupo_ou_divisao</th>\n",
       "      <th>nome_classe_ou_grupo</th>\n",
       "      <th>total_homologado__em_MM</th>\n",
       "    </tr>\n",
       "  </thead>\n",
       "  <tbody>\n",
       "    <tr>\n",
       "      <th>0</th>\n",
       "      <td>SERVICOS DE ARRENDAMENTO, LICENCIAMENTO DE DIREITOS E TRANS-FERENCIA DE TECNOLOGIA</td>\n",
       "      <td>SERVIÇOS DE  LICENCIAMENTO E  CONTRATOS DE TRANSFERÊNCIA DE TECNOLOGIA</td>\n",
       "      <td>5_365</td>\n",
       "    </tr>\n",
       "    <tr>\n",
       "      <th>1</th>\n",
       "      <td>INFORMÁTICA - EQUIPAMENTOS,  PEÇAS, ACESSÓRIOS E SUPRIMENTOSDE TIC</td>\n",
       "      <td>COMPUTADORES</td>\n",
       "      <td>4_370</td>\n",
       "    </tr>\n",
       "    <tr>\n",
       "      <th>2</th>\n",
       "      <td>SERVIÇOS DE COMPUTAÇÃO EM NUVEM</td>\n",
       "      <td>SERVIÇOS DE COMPUTAÇÃO EM NUVEM</td>\n",
       "      <td>2_550</td>\n",
       "    </tr>\n",
       "    <tr>\n",
       "      <th>3</th>\n",
       "      <td>SERVIÇOS PARA A INFRAESTRUTURA  DE  TECNOLOGIA DA INFORMAÇÃOE COMUNICAÇÃO (TIC)</td>\n",
       "      <td>SERVIÇOS  DE  GERENCIAMENTO  EM TECNOLOGIA DA INFORMAÇÃO  E COMUNICAÇÃO (TIC)</td>\n",
       "      <td>2_121</td>\n",
       "    </tr>\n",
       "    <tr>\n",
       "      <th>4</th>\n",
       "      <td>SERVIÇOS PARA A INFRAESTRUTURA  DE  TECNOLOGIA DA INFORMAÇÃOE COMUNICAÇÃO (TIC)</td>\n",
       "      <td>SERVIÇOS AUXILIARES DE TECNOLOGIA DA INFORMAÇÃO  E  COMUNICAÇÃO (TIC)</td>\n",
       "      <td>1_743</td>\n",
       "    </tr>\n",
       "    <tr>\n",
       "      <th>5</th>\n",
       "      <td>INFORMÁTICA - EQUIPAMENTOS,  PEÇAS, ACESSÓRIOS E SUPRIMENTOSDE TIC</td>\n",
       "      <td>EQUIPAMENTOS DE REDE DE TIC - LOCAL E REMOTA</td>\n",
       "      <td>1_413</td>\n",
       "    </tr>\n",
       "    <tr>\n",
       "      <th>6</th>\n",
       "      <td>SERVIÇOS PARA A INFRAESTRUTURA  DE  TECNOLOGIA DA INFORMAÇÃOE COMUNICAÇÃO (TIC)</td>\n",
       "      <td>SERVIÇOS DE HOSPEDAGEM EM TECNOLOGIA DA INFORMAÇÃO E  COMUNICACÃO (TIC)</td>\n",
       "      <td>1_220</td>\n",
       "    </tr>\n",
       "  </tbody>\n",
       "</table>\n",
       "</div>"
      ],
      "text/plain": [
       "                                                                nome_grupo_ou_divisao                                                           nome_classe_ou_grupo  total_homologado__em_MM\n",
       "0  SERVICOS DE ARRENDAMENTO, LICENCIAMENTO DE DIREITOS E TRANS-FERENCIA DE TECNOLOGIA         SERVIÇOS DE  LICENCIAMENTO E  CONTRATOS DE TRANSFERÊNCIA DE TECNOLOGIA                    5_365\n",
       "1                  INFORMÁTICA - EQUIPAMENTOS,  PEÇAS, ACESSÓRIOS E SUPRIMENTOSDE TIC                                                                   COMPUTADORES                    4_370\n",
       "2                                                     SERVIÇOS DE COMPUTAÇÃO EM NUVEM                                                SERVIÇOS DE COMPUTAÇÃO EM NUVEM                    2_550\n",
       "3     SERVIÇOS PARA A INFRAESTRUTURA  DE  TECNOLOGIA DA INFORMAÇÃOE COMUNICAÇÃO (TIC)  SERVIÇOS  DE  GERENCIAMENTO  EM TECNOLOGIA DA INFORMAÇÃO  E COMUNICAÇÃO (TIC)                    2_121\n",
       "4     SERVIÇOS PARA A INFRAESTRUTURA  DE  TECNOLOGIA DA INFORMAÇÃOE COMUNICAÇÃO (TIC)          SERVIÇOS AUXILIARES DE TECNOLOGIA DA INFORMAÇÃO  E  COMUNICAÇÃO (TIC)                    1_743\n",
       "5                  INFORMÁTICA - EQUIPAMENTOS,  PEÇAS, ACESSÓRIOS E SUPRIMENTOSDE TIC                                   EQUIPAMENTOS DE REDE DE TIC - LOCAL E REMOTA                    1_413\n",
       "6     SERVIÇOS PARA A INFRAESTRUTURA  DE  TECNOLOGIA DA INFORMAÇÃOE COMUNICAÇÃO (TIC)        SERVIÇOS DE HOSPEDAGEM EM TECNOLOGIA DA INFORMAÇÃO E  COMUNICACÃO (TIC)                    1_220"
      ]
     },
     "execution_count": 23,
     "metadata": {},
     "output_type": "execute_result"
    }
   ],
   "source": [
    "%%sql\n",
    "SELECT\n",
    "  nome_grupo_ou_divisao,\n",
    "  nome_classe_ou_grupo,\n",
    "  SUM(valor_total_homologado) // 1_000_000 AS total_homologado__em_MM\n",
    "FROM compras_tic\n",
    "WHERE ano_compra = 2024\n",
    "GROUP BY ALL\n",
    "HAVING SUM(valor_total_homologado) // 1_000_000 > 1_000\n",
    "ORDER BY total_homologado__em_MM DESC"
   ]
  },
  {
   "cell_type": "markdown",
   "id": "2f21ada5-d498-4b63-aa08-07d66f287492",
   "metadata": {},
   "source": [
    "Olhando a lista completa"
   ]
  },
  {
   "cell_type": "code",
   "execution_count": 24,
   "id": "0ffc4faf-cc19-4994-8094-b6bd4c47a40c",
   "metadata": {},
   "outputs": [
    {
     "data": {
      "text/html": [
       "<span style=\"None\">Running query in &#x27;duckdb:///../data/inputs/mgi/mgi.db&#x27;</span>"
      ],
      "text/plain": [
       "Running query in 'duckdb:///../data/inputs/mgi/mgi.db'"
      ]
     },
     "metadata": {},
     "output_type": "display_data"
    },
    {
     "data": {
      "text/html": [
       "<div>\n",
       "<style scoped>\n",
       "    .dataframe tbody tr th:only-of-type {\n",
       "        vertical-align: middle;\n",
       "    }\n",
       "\n",
       "    .dataframe tbody tr th {\n",
       "        vertical-align: top;\n",
       "    }\n",
       "\n",
       "    .dataframe thead th {\n",
       "        text-align: right;\n",
       "    }\n",
       "</style>\n",
       "<table border=\"1\" class=\"dataframe\">\n",
       "  <thead>\n",
       "    <tr style=\"text-align: right;\">\n",
       "      <th></th>\n",
       "      <th>nome_grupo_ou_divisao</th>\n",
       "      <th>nome_classe_ou_grupo</th>\n",
       "      <th>total_homologado__em_MM</th>\n",
       "    </tr>\n",
       "  </thead>\n",
       "  <tbody>\n",
       "    <tr>\n",
       "      <th>0</th>\n",
       "      <td>SERVICOS DE ARRENDAMENTO, LICENCIAMENTO DE DIREITOS E TRANS-FERENCIA DE TECNOLOGIA</td>\n",
       "      <td>SERVIÇOS DE  LICENCIAMENTO E  CONTRATOS DE TRANSFERÊNCIA DE TECNOLOGIA</td>\n",
       "      <td>5_365</td>\n",
       "    </tr>\n",
       "    <tr>\n",
       "      <th>1</th>\n",
       "      <td>INFORMÁTICA - EQUIPAMENTOS,  PEÇAS, ACESSÓRIOS E SUPRIMENTOSDE TIC</td>\n",
       "      <td>COMPUTADORES</td>\n",
       "      <td>4_370</td>\n",
       "    </tr>\n",
       "    <tr>\n",
       "      <th>2</th>\n",
       "      <td>SERVIÇOS DE COMPUTAÇÃO EM NUVEM</td>\n",
       "      <td>SERVIÇOS DE COMPUTAÇÃO EM NUVEM</td>\n",
       "      <td>2_550</td>\n",
       "    </tr>\n",
       "    <tr>\n",
       "      <th>3</th>\n",
       "      <td>SERVIÇOS PARA A INFRAESTRUTURA  DE  TECNOLOGIA DA INFORMAÇÃOE COMUNICAÇÃO (TIC)</td>\n",
       "      <td>SERVIÇOS  DE  GERENCIAMENTO  EM TECNOLOGIA DA INFORMAÇÃO  E COMUNICAÇÃO (TIC)</td>\n",
       "      <td>2_121</td>\n",
       "    </tr>\n",
       "    <tr>\n",
       "      <th>4</th>\n",
       "      <td>SERVIÇOS PARA A INFRAESTRUTURA  DE  TECNOLOGIA DA INFORMAÇÃOE COMUNICAÇÃO (TIC)</td>\n",
       "      <td>SERVIÇOS AUXILIARES DE TECNOLOGIA DA INFORMAÇÃO  E  COMUNICAÇÃO (TIC)</td>\n",
       "      <td>1_743</td>\n",
       "    </tr>\n",
       "    <tr>\n",
       "      <th>5</th>\n",
       "      <td>INFORMÁTICA - EQUIPAMENTOS,  PEÇAS, ACESSÓRIOS E SUPRIMENTOSDE TIC</td>\n",
       "      <td>EQUIPAMENTOS DE REDE DE TIC - LOCAL E REMOTA</td>\n",
       "      <td>1_413</td>\n",
       "    </tr>\n",
       "    <tr>\n",
       "      <th>6</th>\n",
       "      <td>SERVIÇOS PARA A INFRAESTRUTURA  DE  TECNOLOGIA DA INFORMAÇÃOE COMUNICAÇÃO (TIC)</td>\n",
       "      <td>SERVIÇOS DE HOSPEDAGEM EM TECNOLOGIA DA INFORMAÇÃO E  COMUNICACÃO (TIC)</td>\n",
       "      <td>1_220</td>\n",
       "    </tr>\n",
       "    <tr>\n",
       "      <th>7</th>\n",
       "      <td>INFORMÁTICA - EQUIPAMENTOS,  PEÇAS, ACESSÓRIOS E SUPRIMENTOSDE TIC</td>\n",
       "      <td>PEÇAS E ACESSÓRIOS PARA COMPUTADORES</td>\n",
       "      <td>869</td>\n",
       "    </tr>\n",
       "    <tr>\n",
       "      <th>8</th>\n",
       "      <td>SERVIÇOS PARA A INFRAESTRUTURA  DE  TECNOLOGIA DA INFORMAÇÃOE COMUNICAÇÃO (TIC)</td>\n",
       "      <td>SERVIÇOS DE INTEGRAÇÃO DE SISTEMAS EM TECNOLOGIA DA INFORMA-ÇÃO E COMUNICAÇÃO (TIC)</td>\n",
       "      <td>618</td>\n",
       "    </tr>\n",
       "    <tr>\n",
       "      <th>9</th>\n",
       "      <td>SERVIÇOS DE  PESQUISA,  ANÁLISE  DE  DADOS  E  INDICADORES, CONSULTORIA E PROJETOS DE TIC</td>\n",
       "      <td>SERVIÇOS DE ANÁLISE DA DADOS E INDICADORES DE TIC</td>\n",
       "      <td>496</td>\n",
       "    </tr>\n",
       "    <tr>\n",
       "      <th>10</th>\n",
       "      <td>INFORMÁTICA - EQUIPAMENTOS,  PEÇAS, ACESSÓRIOS E SUPRIMENTOSDE TIC</td>\n",
       "      <td>SUPRIMENTOS DE INFORMÁTICA - TIC</td>\n",
       "      <td>444</td>\n",
       "    </tr>\n",
       "    <tr>\n",
       "      <th>11</th>\n",
       "      <td>SERVIÇOS  DE DESENVOLVIMENTO,  MANUTENÇÃO  E  SUSTENTAÇÃO DESOFTWARE</td>\n",
       "      <td>SERVIÇOS  DE DESENVOLVIMENTO E MANUTENÇÃO DE SOFTWARE</td>\n",
       "      <td>400</td>\n",
       "    </tr>\n",
       "    <tr>\n",
       "      <th>12</th>\n",
       "      <td>SERVIÇOS  DE DESENVOLVIMENTO,  MANUTENÇÃO  E  SUSTENTAÇÃO DESOFTWARE</td>\n",
       "      <td>SERVIÇOS DE MANUTENÇÃO E SUSTENTAÇÃO DE SOFTWARE</td>\n",
       "      <td>396</td>\n",
       "    </tr>\n",
       "    <tr>\n",
       "      <th>13</th>\n",
       "      <td>INFORMÁTICA - EQUIPAMENTOS,  PEÇAS, ACESSÓRIOS E SUPRIMENTOSDE TIC</td>\n",
       "      <td>PEÇAS, ACESSÓRIOS E FERRAMENTAS PARA REDES DE TIC</td>\n",
       "      <td>304</td>\n",
       "    </tr>\n",
       "    <tr>\n",
       "      <th>14</th>\n",
       "      <td>SERVIÇOS DE  PESQUISA,  ANÁLISE  DE  DADOS  E  INDICADORES, CONSULTORIA E PROJETOS DE TIC</td>\n",
       "      <td>SERVIÇOS DE PESQUISA,ANÁLISE E DESENVOLVIMENTO EM TECNOLOGIADA INFORMAÇÃO E COMUNICAÇÃO (TIC)</td>\n",
       "      <td>288</td>\n",
       "    </tr>\n",
       "    <tr>\n",
       "      <th>15</th>\n",
       "      <td>SERVIÇOS PARA A INFRAESTRUTURA  DE  TECNOLOGIA DA INFORMAÇÃOE COMUNICAÇÃO (TIC)</td>\n",
       "      <td>SERVICOS PARA  A  INFRAESTRUTURA DE TECNOLOGIA DA INFORMAÇÃOE COMUNICAÇÃO (TIC),  NAO CLASSIFICADOS EM OUTROS TÓPICOS</td>\n",
       "      <td>287</td>\n",
       "    </tr>\n",
       "    <tr>\n",
       "      <th>16</th>\n",
       "      <td>INFORMÁTICA - EQUIPAMENTOS,  PEÇAS, ACESSÓRIOS E SUPRIMENTOSDE TIC</td>\n",
       "      <td>EQUIPAMENTOS DE ARMAZENAMENTO DE DADOS</td>\n",
       "      <td>272</td>\n",
       "    </tr>\n",
       "    <tr>\n",
       "      <th>17</th>\n",
       "      <td>INFORMÁTICA - EQUIPAMENTOS,  PEÇAS, ACESSÓRIOS E SUPRIMENTOSDE TIC</td>\n",
       "      <td>EQUIPAMENTOS DE ENTRADA DE DADOS</td>\n",
       "      <td>266</td>\n",
       "    </tr>\n",
       "    <tr>\n",
       "      <th>18</th>\n",
       "      <td>SERVIÇOS PARA A INFRAESTRUTURA  DE  TECNOLOGIA DA INFORMAÇÃOE COMUNICAÇÃO (TIC)</td>\n",
       "      <td>SERVIÇOS DE MANUTENÇÃO E INSTALAÇÃO DE EQUIPAMENTOS DE TIC</td>\n",
       "      <td>210</td>\n",
       "    </tr>\n",
       "    <tr>\n",
       "      <th>19</th>\n",
       "      <td>SERVIÇOS DE  PESQUISA,  ANÁLISE  DE  DADOS  E  INDICADORES, CONSULTORIA E PROJETOS DE TIC</td>\n",
       "      <td>SERVIÇOS  DE  CONSULTORIA  EM  TECNOLOGIA  DA  INFORMAÇÃO  ECOMUNICAÇÃO (TIC)</td>\n",
       "      <td>192</td>\n",
       "    </tr>\n",
       "    <tr>\n",
       "      <th>20</th>\n",
       "      <td>INFORMÁTICA - EQUIPAMENTOS,  PEÇAS, ACESSÓRIOS E SUPRIMENTOSDE TIC</td>\n",
       "      <td>IMPRESSORAS</td>\n",
       "      <td>181</td>\n",
       "    </tr>\n",
       "    <tr>\n",
       "      <th>21</th>\n",
       "      <td>INFORMÁTICA - EQUIPAMENTOS,  PEÇAS, ACESSÓRIOS E SUPRIMENTOSDE TIC</td>\n",
       "      <td>PEÇAS E ACESSÓRIOS PARA IMPRESSORAS</td>\n",
       "      <td>97</td>\n",
       "    </tr>\n",
       "    <tr>\n",
       "      <th>22</th>\n",
       "      <td>INFORMÁTICA - EQUIPAMENTOS,  PEÇAS, ACESSÓRIOS E SUPRIMENTOSDE TIC</td>\n",
       "      <td>OUTROS</td>\n",
       "      <td>55</td>\n",
       "    </tr>\n",
       "    <tr>\n",
       "      <th>23</th>\n",
       "      <td>INFORMÁTICA - EQUIPAMENTOS,  PEÇAS, ACESSÓRIOS E SUPRIMENTOSDE TIC</td>\n",
       "      <td>UNIDADES DE ARMAZENAMENTO DE ENTRADA E SAÍDA DE DADOS</td>\n",
       "      <td>52</td>\n",
       "    </tr>\n",
       "    <tr>\n",
       "      <th>24</th>\n",
       "      <td>SERVIÇOS DE  PESQUISA,  ANÁLISE  DE  DADOS  E  INDICADORES, CONSULTORIA E PROJETOS DE TIC</td>\n",
       "      <td>SERVIÇOS DE PROJETOS EM TECNOLOGIA DA INFORMAÇÃO E COMUNICA-ÇÃO (TIC)</td>\n",
       "      <td>37</td>\n",
       "    </tr>\n",
       "    <tr>\n",
       "      <th>25</th>\n",
       "      <td>SERVIÇOS  DE DESENVOLVIMENTO,  MANUTENÇÃO  E  SUSTENTAÇÃO DESOFTWARE</td>\n",
       "      <td>SERVIÇOS DE MENSURAÇÃO DE SOFTWARE</td>\n",
       "      <td>16</td>\n",
       "    </tr>\n",
       "    <tr>\n",
       "      <th>26</th>\n",
       "      <td>INFORMÁTICA - EQUIPAMENTOS,  PEÇAS, ACESSÓRIOS E SUPRIMENTOSDE TIC</td>\n",
       "      <td>UNIDADES PARA MANUSEIO DE CARTÕES</td>\n",
       "      <td>2</td>\n",
       "    </tr>\n",
       "    <tr>\n",
       "      <th>27</th>\n",
       "      <td>SERVIÇOS  DE DESENVOLVIMENTO,  MANUTENÇÃO  E  SUSTENTAÇÃO DESOFTWARE</td>\n",
       "      <td>SERVIÇOS DE DOCUMENTAÇAO DE SOFTWARE</td>\n",
       "      <td>1</td>\n",
       "    </tr>\n",
       "  </tbody>\n",
       "</table>\n",
       "</div>"
      ],
      "text/plain": [
       "                                                                        nome_grupo_ou_divisao                                                                                                   nome_classe_ou_grupo  total_homologado__em_MM\n",
       "0          SERVICOS DE ARRENDAMENTO, LICENCIAMENTO DE DIREITOS E TRANS-FERENCIA DE TECNOLOGIA                                                 SERVIÇOS DE  LICENCIAMENTO E  CONTRATOS DE TRANSFERÊNCIA DE TECNOLOGIA                    5_365\n",
       "1                          INFORMÁTICA - EQUIPAMENTOS,  PEÇAS, ACESSÓRIOS E SUPRIMENTOSDE TIC                                                                                                           COMPUTADORES                    4_370\n",
       "2                                                             SERVIÇOS DE COMPUTAÇÃO EM NUVEM                                                                                        SERVIÇOS DE COMPUTAÇÃO EM NUVEM                    2_550\n",
       "3             SERVIÇOS PARA A INFRAESTRUTURA  DE  TECNOLOGIA DA INFORMAÇÃOE COMUNICAÇÃO (TIC)                                          SERVIÇOS  DE  GERENCIAMENTO  EM TECNOLOGIA DA INFORMAÇÃO  E COMUNICAÇÃO (TIC)                    2_121\n",
       "4             SERVIÇOS PARA A INFRAESTRUTURA  DE  TECNOLOGIA DA INFORMAÇÃOE COMUNICAÇÃO (TIC)                                                  SERVIÇOS AUXILIARES DE TECNOLOGIA DA INFORMAÇÃO  E  COMUNICAÇÃO (TIC)                    1_743\n",
       "5                          INFORMÁTICA - EQUIPAMENTOS,  PEÇAS, ACESSÓRIOS E SUPRIMENTOSDE TIC                                                                           EQUIPAMENTOS DE REDE DE TIC - LOCAL E REMOTA                    1_413\n",
       "6             SERVIÇOS PARA A INFRAESTRUTURA  DE  TECNOLOGIA DA INFORMAÇÃOE COMUNICAÇÃO (TIC)                                                SERVIÇOS DE HOSPEDAGEM EM TECNOLOGIA DA INFORMAÇÃO E  COMUNICACÃO (TIC)                    1_220\n",
       "7                          INFORMÁTICA - EQUIPAMENTOS,  PEÇAS, ACESSÓRIOS E SUPRIMENTOSDE TIC                                                                                   PEÇAS E ACESSÓRIOS PARA COMPUTADORES                      869\n",
       "8             SERVIÇOS PARA A INFRAESTRUTURA  DE  TECNOLOGIA DA INFORMAÇÃOE COMUNICAÇÃO (TIC)                                    SERVIÇOS DE INTEGRAÇÃO DE SISTEMAS EM TECNOLOGIA DA INFORMA-ÇÃO E COMUNICAÇÃO (TIC)                      618\n",
       "9   SERVIÇOS DE  PESQUISA,  ANÁLISE  DE  DADOS  E  INDICADORES, CONSULTORIA E PROJETOS DE TIC                                                                      SERVIÇOS DE ANÁLISE DA DADOS E INDICADORES DE TIC                      496\n",
       "10                         INFORMÁTICA - EQUIPAMENTOS,  PEÇAS, ACESSÓRIOS E SUPRIMENTOSDE TIC                                                                                       SUPRIMENTOS DE INFORMÁTICA - TIC                      444\n",
       "11                       SERVIÇOS  DE DESENVOLVIMENTO,  MANUTENÇÃO  E  SUSTENTAÇÃO DESOFTWARE                                                                  SERVIÇOS  DE DESENVOLVIMENTO E MANUTENÇÃO DE SOFTWARE                      400\n",
       "12                       SERVIÇOS  DE DESENVOLVIMENTO,  MANUTENÇÃO  E  SUSTENTAÇÃO DESOFTWARE                                                                       SERVIÇOS DE MANUTENÇÃO E SUSTENTAÇÃO DE SOFTWARE                      396\n",
       "13                         INFORMÁTICA - EQUIPAMENTOS,  PEÇAS, ACESSÓRIOS E SUPRIMENTOSDE TIC                                                                      PEÇAS, ACESSÓRIOS E FERRAMENTAS PARA REDES DE TIC                      304\n",
       "14  SERVIÇOS DE  PESQUISA,  ANÁLISE  DE  DADOS  E  INDICADORES, CONSULTORIA E PROJETOS DE TIC                          SERVIÇOS DE PESQUISA,ANÁLISE E DESENVOLVIMENTO EM TECNOLOGIADA INFORMAÇÃO E COMUNICAÇÃO (TIC)                      288\n",
       "15            SERVIÇOS PARA A INFRAESTRUTURA  DE  TECNOLOGIA DA INFORMAÇÃOE COMUNICAÇÃO (TIC)  SERVICOS PARA  A  INFRAESTRUTURA DE TECNOLOGIA DA INFORMAÇÃOE COMUNICAÇÃO (TIC),  NAO CLASSIFICADOS EM OUTROS TÓPICOS                      287\n",
       "16                         INFORMÁTICA - EQUIPAMENTOS,  PEÇAS, ACESSÓRIOS E SUPRIMENTOSDE TIC                                                                                 EQUIPAMENTOS DE ARMAZENAMENTO DE DADOS                      272\n",
       "17                         INFORMÁTICA - EQUIPAMENTOS,  PEÇAS, ACESSÓRIOS E SUPRIMENTOSDE TIC                                                                                       EQUIPAMENTOS DE ENTRADA DE DADOS                      266\n",
       "18            SERVIÇOS PARA A INFRAESTRUTURA  DE  TECNOLOGIA DA INFORMAÇÃOE COMUNICAÇÃO (TIC)                                                             SERVIÇOS DE MANUTENÇÃO E INSTALAÇÃO DE EQUIPAMENTOS DE TIC                      210\n",
       "19  SERVIÇOS DE  PESQUISA,  ANÁLISE  DE  DADOS  E  INDICADORES, CONSULTORIA E PROJETOS DE TIC                                          SERVIÇOS  DE  CONSULTORIA  EM  TECNOLOGIA  DA  INFORMAÇÃO  ECOMUNICAÇÃO (TIC)                      192\n",
       "20                         INFORMÁTICA - EQUIPAMENTOS,  PEÇAS, ACESSÓRIOS E SUPRIMENTOSDE TIC                                                                                                            IMPRESSORAS                      181\n",
       "21                         INFORMÁTICA - EQUIPAMENTOS,  PEÇAS, ACESSÓRIOS E SUPRIMENTOSDE TIC                                                                                    PEÇAS E ACESSÓRIOS PARA IMPRESSORAS                       97\n",
       "22                         INFORMÁTICA - EQUIPAMENTOS,  PEÇAS, ACESSÓRIOS E SUPRIMENTOSDE TIC                                                                                                                 OUTROS                       55\n",
       "23                         INFORMÁTICA - EQUIPAMENTOS,  PEÇAS, ACESSÓRIOS E SUPRIMENTOSDE TIC                                                                  UNIDADES DE ARMAZENAMENTO DE ENTRADA E SAÍDA DE DADOS                       52\n",
       "24  SERVIÇOS DE  PESQUISA,  ANÁLISE  DE  DADOS  E  INDICADORES, CONSULTORIA E PROJETOS DE TIC                                                  SERVIÇOS DE PROJETOS EM TECNOLOGIA DA INFORMAÇÃO E COMUNICA-ÇÃO (TIC)                       37\n",
       "25                       SERVIÇOS  DE DESENVOLVIMENTO,  MANUTENÇÃO  E  SUSTENTAÇÃO DESOFTWARE                                                                                     SERVIÇOS DE MENSURAÇÃO DE SOFTWARE                       16\n",
       "26                         INFORMÁTICA - EQUIPAMENTOS,  PEÇAS, ACESSÓRIOS E SUPRIMENTOSDE TIC                                                                                      UNIDADES PARA MANUSEIO DE CARTÕES                        2\n",
       "27                       SERVIÇOS  DE DESENVOLVIMENTO,  MANUTENÇÃO  E  SUSTENTAÇÃO DESOFTWARE                                                                                   SERVIÇOS DE DOCUMENTAÇAO DE SOFTWARE                        1"
      ]
     },
     "execution_count": 24,
     "metadata": {},
     "output_type": "execute_result"
    }
   ],
   "source": [
    "%%sql\n",
    "SELECT\n",
    "  nome_grupo_ou_divisao,\n",
    "  nome_classe_ou_grupo,\n",
    "  SUM(valor_total_homologado) // 1_000_000 AS total_homologado__em_MM\n",
    "FROM compras_tic\n",
    "WHERE ano_compra = 2024\n",
    "GROUP BY ALL\n",
    "HAVING SUM(valor_total_homologado) // 1_000_000\n",
    "ORDER BY total_homologado__em_MM DESC"
   ]
  },
  {
   "cell_type": "markdown",
   "id": "8140df1a-53da-414f-83b1-961766073516",
   "metadata": {},
   "source": [
    "### SERVIÇOS DE LICENCIAMENTO E CONTRATOS DE TRANSFERÊNCIA DE TECNOLOGIA\t"
   ]
  },
  {
   "cell_type": "code",
   "execution_count": 25,
   "id": "4105d430-06ef-4d42-82b7-69da81937194",
   "metadata": {},
   "outputs": [
    {
     "data": {
      "text/html": [
       "<span style=\"None\">Running query in &#x27;duckdb:///../data/inputs/mgi/mgi.db&#x27;</span>"
      ],
      "text/plain": [
       "Running query in 'duckdb:///../data/inputs/mgi/mgi.db'"
      ]
     },
     "metadata": {},
     "output_type": "display_data"
    },
    {
     "data": {
      "text/html": [
       "<div>\n",
       "<style scoped>\n",
       "    .dataframe tbody tr th:only-of-type {\n",
       "        vertical-align: middle;\n",
       "    }\n",
       "\n",
       "    .dataframe tbody tr th {\n",
       "        vertical-align: top;\n",
       "    }\n",
       "\n",
       "    .dataframe thead th {\n",
       "        text-align: right;\n",
       "    }\n",
       "</style>\n",
       "<table border=\"1\" class=\"dataframe\">\n",
       "  <thead>\n",
       "    <tr style=\"text-align: right;\">\n",
       "      <th></th>\n",
       "      <th>cod_compra</th>\n",
       "      <th>fornecedor_top</th>\n",
       "      <th>orgao_entidade</th>\n",
       "      <th>poder</th>\n",
       "      <th>esfera</th>\n",
       "      <th>nome_classe_ou_grupo</th>\n",
       "      <th>objeto</th>\n",
       "      <th>total_homologado_MM</th>\n",
       "    </tr>\n",
       "  </thead>\n",
       "  <tbody>\n",
       "    <tr>\n",
       "      <th>0</th>\n",
       "      <td>7412986</td>\n",
       "      <td>BRASOFTWARE INFORMATICA LTDA</td>\n",
       "      <td>MINISTERIO DA GESTAO E DA INOVACAO EM SERVICOS PUBLICOS</td>\n",
       "      <td>E</td>\n",
       "      <td>F</td>\n",
       "      <td>SERVIÇOS DE  LICENCIAMENTO E  CONTRATOS DE TRANSFERÊNCIA DE TECNOLOGIA</td>\n",
       "      <td>Registro de Preços para contratação de empresa especializada para o fornecimento de licenças de softwares, aplicativos e sistemas operacionais Microsoft, destinados aos usuários finais, à camada cliente/servidor e banco de dados, incluindo serviços e consultoria técnica para implantação, projetos e utilização dos produtos, conforme condições e exigências estabelecidas no Edital e seus anexos.</td>\n",
       "      <td>731</td>\n",
       "    </tr>\n",
       "    <tr>\n",
       "      <th>1</th>\n",
       "      <td>6703700</td>\n",
       "      <td>DMK3 TECNOLOGIA LTDA</td>\n",
       "      <td>SECRETARIA DE AGRICULTURA E ABASTECIMENTO</td>\n",
       "      <td>E</td>\n",
       "      <td>E</td>\n",
       "      <td>SERVIÇOS DE  LICENCIAMENTO E  CONTRATOS DE TRANSFERÊNCIA DE TECNOLOGIA</td>\n",
       "      <td>Contratação de empresa para aquisição de licenças de software de segurança, incluindo serviços de instalação, configuração e suporte, treinamento e atualização do software, nos termos da tabela abaixo, conforme condições e exigências estabelecidas neste instrumento.</td>\n",
       "      <td>374</td>\n",
       "    </tr>\n",
       "    <tr>\n",
       "      <th>2</th>\n",
       "      <td>6942543</td>\n",
       "      <td>AMM TECNOLOGIA E SERVICOS DE INFORMATICA S/A</td>\n",
       "      <td>TRIBUNAL REGIONAL FEDERAL DA 2 REGIAO</td>\n",
       "      <td>J</td>\n",
       "      <td>F</td>\n",
       "      <td>SERVIÇOS DE  LICENCIAMENTO E  CONTRATOS DE TRANSFERÊNCIA DE TECNOLOGIA</td>\n",
       "      <td>Aquisição de licenças de subscrição dos softwares de virtualização de servidores, redes e de armazenamento do fabricante VMWARE, garantindo o direito ao suporte técnico, à atualização de versões e de correções de segurança dos produtos junto ao fabricante, pelo prazo de 60 meses, através do Sistema de Registro de Preços.</td>\n",
       "      <td>316</td>\n",
       "    </tr>\n",
       "    <tr>\n",
       "      <th>3</th>\n",
       "      <td>7107578</td>\n",
       "      <td>SISTTECH TECNOLOGIA EDUCACIONAL COMERCIO E REPRESENTACAO DE PRODUTOS S/A</td>\n",
       "      <td>INSTITUTO FEDERAL DE EDUCACAO CIENCIA E TECNOLOGIA DO ESPIRITO SANTO</td>\n",
       "      <td>E</td>\n",
       "      <td>F</td>\n",
       "      <td>SERVIÇOS DE  LICENCIAMENTO E  CONTRATOS DE TRANSFERÊNCIA DE TECNOLOGIA</td>\n",
       "      <td>Registro de preços  para futura e eventual aquisição de equipamentos para laboratórios de ensino, pesquisa e extensão, compostos de soluções que auxiliam no processo ensino aprendizagem, para os campi do Instituto Federal de Educação, Ciência e Tecnologia do Espírito Santo – Ifes e Órgãos Participantes, conforme condições e exigências do Edital e seus anexos. LINK do PROCESSO SIPAC:  https://sipac.ifes.edu.br/public/jsp/processos/processo_detalhado.jsf?id=164428</td>\n",
       "      <td>210</td>\n",
       "    </tr>\n",
       "    <tr>\n",
       "      <th>4</th>\n",
       "      <td>6514144</td>\n",
       "      <td>BRASOFTWARE INFORMATICA LTDA</td>\n",
       "      <td>SERVICO FEDERAL DE PROCESSAMENTO DE DADOS (SERPRO)</td>\n",
       "      <td>E</td>\n",
       "      <td>F</td>\n",
       "      <td>SERVIÇOS DE  LICENCIAMENTO E  CONTRATOS DE TRANSFERÊNCIA DE TECNOLOGIA</td>\n",
       "      <td>Contratação de direito de uso de subscrição de softwares sob demanda da plataforma Microsoft.</td>\n",
       "      <td>124</td>\n",
       "    </tr>\n",
       "  </tbody>\n",
       "</table>\n",
       "</div>"
      ],
      "text/plain": [
       "   cod_compra                                                            fornecedor_top                                                        orgao_entidade poder esfera                                                    nome_classe_ou_grupo                                                                                                                                                                                                                                                                                                                                                                                                                                                                              objeto  total_homologado_MM\n",
       "0     7412986                                              BRASOFTWARE INFORMATICA LTDA               MINISTERIO DA GESTAO E DA INOVACAO EM SERVICOS PUBLICOS     E      F  SERVIÇOS DE  LICENCIAMENTO E  CONTRATOS DE TRANSFERÊNCIA DE TECNOLOGIA                                                                         Registro de Preços para contratação de empresa especializada para o fornecimento de licenças de softwares, aplicativos e sistemas operacionais Microsoft, destinados aos usuários finais, à camada cliente/servidor e banco de dados, incluindo serviços e consultoria técnica para implantação, projetos e utilização dos produtos, conforme condições e exigências estabelecidas no Edital e seus anexos.                  731\n",
       "1     6703700                                                      DMK3 TECNOLOGIA LTDA                             SECRETARIA DE AGRICULTURA E ABASTECIMENTO     E      E  SERVIÇOS DE  LICENCIAMENTO E  CONTRATOS DE TRANSFERÊNCIA DE TECNOLOGIA                                                                                                                                                                                                          Contratação de empresa para aquisição de licenças de software de segurança, incluindo serviços de instalação, configuração e suporte, treinamento e atualização do software, nos termos da tabela abaixo, conforme condições e exigências estabelecidas neste instrumento.                  374\n",
       "2     6942543                              AMM TECNOLOGIA E SERVICOS DE INFORMATICA S/A                                 TRIBUNAL REGIONAL FEDERAL DA 2 REGIAO     J      F  SERVIÇOS DE  LICENCIAMENTO E  CONTRATOS DE TRANSFERÊNCIA DE TECNOLOGIA                                                                                                                                                  Aquisição de licenças de subscrição dos softwares de virtualização de servidores, redes e de armazenamento do fabricante VMWARE, garantindo o direito ao suporte técnico, à atualização de versões e de correções de segurança dos produtos junto ao fabricante, pelo prazo de 60 meses, através do Sistema de Registro de Preços.                  316\n",
       "3     7107578  SISTTECH TECNOLOGIA EDUCACIONAL COMERCIO E REPRESENTACAO DE PRODUTOS S/A  INSTITUTO FEDERAL DE EDUCACAO CIENCIA E TECNOLOGIA DO ESPIRITO SANTO     E      F  SERVIÇOS DE  LICENCIAMENTO E  CONTRATOS DE TRANSFERÊNCIA DE TECNOLOGIA  Registro de preços  para futura e eventual aquisição de equipamentos para laboratórios de ensino, pesquisa e extensão, compostos de soluções que auxiliam no processo ensino aprendizagem, para os campi do Instituto Federal de Educação, Ciência e Tecnologia do Espírito Santo – Ifes e Órgãos Participantes, conforme condições e exigências do Edital e seus anexos. LINK do PROCESSO SIPAC:  https://sipac.ifes.edu.br/public/jsp/processos/processo_detalhado.jsf?id=164428                  210\n",
       "4     6514144                                              BRASOFTWARE INFORMATICA LTDA                    SERVICO FEDERAL DE PROCESSAMENTO DE DADOS (SERPRO)     E      F  SERVIÇOS DE  LICENCIAMENTO E  CONTRATOS DE TRANSFERÊNCIA DE TECNOLOGIA                                                                                                                                                                                                                                                                                                                                                                                       Contratação de direito de uso de subscrição de softwares sob demanda da plataforma Microsoft.                  124"
      ]
     },
     "execution_count": 25,
     "metadata": {},
     "output_type": "execute_result"
    }
   ],
   "source": [
    "%%sql\n",
    "SELECT cod_compra, fornecedor_top, orgao_entidade, poder, esfera, nome_classe_ou_grupo, objeto, (valor_total_homologado//1_000_000) as total_homologado_MM  FROM compras_tic where ano_compra = 2024 and nome_classe_ou_grupo ilike '%TRANSFERÊNCIA DE TECNOLOGIA%' order by valor_total_homologado desc limit 5;"
   ]
  },
  {
   "cell_type": "markdown",
   "id": "e1812c82-a1f6-4aeb-9a1d-600edfc97cc1",
   "metadata": {},
   "source": [
    "### SERVIÇOS DE COMPUTAÇÃO EM NUVEM"
   ]
  },
  {
   "cell_type": "code",
   "execution_count": 26,
   "id": "acd94e22-caf3-44a2-8ed4-9388e8e65f7a",
   "metadata": {},
   "outputs": [
    {
     "data": {
      "text/html": [
       "<span style=\"None\">Running query in &#x27;duckdb:///../data/inputs/mgi/mgi.db&#x27;</span>"
      ],
      "text/plain": [
       "Running query in 'duckdb:///../data/inputs/mgi/mgi.db'"
      ]
     },
     "metadata": {},
     "output_type": "display_data"
    },
    {
     "data": {
      "text/html": [
       "<div>\n",
       "<style scoped>\n",
       "    .dataframe tbody tr th:only-of-type {\n",
       "        vertical-align: middle;\n",
       "    }\n",
       "\n",
       "    .dataframe tbody tr th {\n",
       "        vertical-align: top;\n",
       "    }\n",
       "\n",
       "    .dataframe thead th {\n",
       "        text-align: right;\n",
       "    }\n",
       "</style>\n",
       "<table border=\"1\" class=\"dataframe\">\n",
       "  <thead>\n",
       "    <tr style=\"text-align: right;\">\n",
       "      <th></th>\n",
       "      <th>cod_compra</th>\n",
       "      <th>fornecedor_top</th>\n",
       "      <th>orgao_entidade</th>\n",
       "      <th>poder</th>\n",
       "      <th>esfera</th>\n",
       "      <th>nome_classe_ou_grupo</th>\n",
       "      <th>objeto</th>\n",
       "      <th>total_homologado_MM</th>\n",
       "    </tr>\n",
       "  </thead>\n",
       "  <tbody>\n",
       "    <tr>\n",
       "      <th>0</th>\n",
       "      <td>6800599</td>\n",
       "      <td>EXTREME DIGITAL EXPERIENCE LTDA.</td>\n",
       "      <td>BANCO DO NORDESTE DO BRASIL</td>\n",
       "      <td>E</td>\n",
       "      <td>F</td>\n",
       "      <td>SERVIÇOS DE COMPUTAÇÃO EM NUVEM</td>\n",
       "      <td>Contratação de Plataforma Integrada na modalidade SaaS incluindo Serviços de Implantação, Treinamento, Serviços Técnicos Especializados, Suporte Técnico 24x7- N2 e N3, Operação e Sustentação 10x5 para o Gerenciamento Corporativo de Serviços.</td>\n",
       "      <td>313</td>\n",
       "    </tr>\n",
       "    <tr>\n",
       "      <th>1</th>\n",
       "      <td>7222711</td>\n",
       "      <td>VERY TECNOLOGIA LTDA</td>\n",
       "      <td>PMSP - EMPRESA DE TEC. DA INFORMAÇÃO - PRODAM</td>\n",
       "      <td>E</td>\n",
       "      <td>M</td>\n",
       "      <td>SERVIÇOS DE COMPUTAÇÃO EM NUVEM</td>\n",
       "      <td>Operacionalização do Acordo firmado entre a PRODAM e a PURE STORAGE do Brasil Soluções e Serviços de Armazenamento de Dados Ltda., para fornecimento/licenciamento de produtos e serviços que integram o Anexo II – Tabela de Produtos, Serviços e Preços do ACORDO OPERACIONAL AC-10.05/2024, Anexo XIII do Edital, para uso e implementação das tecnologias/plataformas da Pure Storage, por 03 (três) anos, conforme Edital e seus anexos.</td>\n",
       "      <td>144</td>\n",
       "    </tr>\n",
       "    <tr>\n",
       "      <th>2</th>\n",
       "      <td>7007621</td>\n",
       "      <td>CLM SOFTWARE COMERCIO IMPORTACAO E EXPORTACAO LTDA.</td>\n",
       "      <td>TRIBUNAL DE JUSTICA DO ESTADO DO PARA</td>\n",
       "      <td>J</td>\n",
       "      <td>E</td>\n",
       "      <td>SERVIÇOS DE COMPUTAÇÃO EM NUVEM</td>\n",
       "      <td>Registro de preços para eventual aquisição futura de expansão da solução de hiperconvergência já existente no tribunal, em conjunto com os respectivos serviços de implantação, instalação, configuração, integração, suporte técnico, transferência de  conhecimento  e  assistência  técnica/manutenção  preventiva, para  atender  as  demandas  atuais  e  futuras  do  Poder Judiciário do Estado do Pará.</td>\n",
       "      <td>86</td>\n",
       "    </tr>\n",
       "    <tr>\n",
       "      <th>3</th>\n",
       "      <td>5919955</td>\n",
       "      <td>BR BPO TECNOLOGIA E SERVICOS S.A.</td>\n",
       "      <td>SECRETARIA DE POLITICAS PARA AS MULHERES</td>\n",
       "      <td>E</td>\n",
       "      <td>F</td>\n",
       "      <td>SERVIÇOS DE COMPUTAÇÃO EM NUVEM</td>\n",
       "      <td>Prestação de serviço continuado de atendimento por meio de múltiplos canais (telefone, internet, físico, presencial e outros), destinados à operacionalização da Central de Atendimento à Mulher - Ligue 180, conforme condições e exigências estabelecidas no edital e seus anexos.</td>\n",
       "      <td>84</td>\n",
       "    </tr>\n",
       "    <tr>\n",
       "      <th>4</th>\n",
       "      <td>6840340</td>\n",
       "      <td>COMPANHIA DE PROCESSAMENTO DE DADOS DO ESTADO DE SAO PAULO - PRODESP</td>\n",
       "      <td>SECRETARIA DE ESTADO DA SAUDE</td>\n",
       "      <td>E</td>\n",
       "      <td>E</td>\n",
       "      <td>SERVIÇOS DE COMPUTAÇÃO EM NUVEM</td>\n",
       "      <td>Contratação de empresa para a prestação de serviços especializados em informática</td>\n",
       "      <td>77</td>\n",
       "    </tr>\n",
       "  </tbody>\n",
       "</table>\n",
       "</div>"
      ],
      "text/plain": [
       "   cod_compra                                                        fornecedor_top                                 orgao_entidade poder esfera             nome_classe_ou_grupo                                                                                                                                                                                                                                                                                                                                                                                                                                         objeto  total_homologado_MM\n",
       "0     6800599                                      EXTREME DIGITAL EXPERIENCE LTDA.                    BANCO DO NORDESTE DO BRASIL     E      F  SERVIÇOS DE COMPUTAÇÃO EM NUVEM                                                                                                                                                                                              Contratação de Plataforma Integrada na modalidade SaaS incluindo Serviços de Implantação, Treinamento, Serviços Técnicos Especializados, Suporte Técnico 24x7- N2 e N3, Operação e Sustentação 10x5 para o Gerenciamento Corporativo de Serviços.                  313\n",
       "1     7222711                                                  VERY TECNOLOGIA LTDA  PMSP - EMPRESA DE TEC. DA INFORMAÇÃO - PRODAM     E      M  SERVIÇOS DE COMPUTAÇÃO EM NUVEM  Operacionalização do Acordo firmado entre a PRODAM e a PURE STORAGE do Brasil Soluções e Serviços de Armazenamento de Dados Ltda., para fornecimento/licenciamento de produtos e serviços que integram o Anexo II – Tabela de Produtos, Serviços e Preços do ACORDO OPERACIONAL AC-10.05/2024, Anexo XIII do Edital, para uso e implementação das tecnologias/plataformas da Pure Storage, por 03 (três) anos, conforme Edital e seus anexos.                  144\n",
       "2     7007621                   CLM SOFTWARE COMERCIO IMPORTACAO E EXPORTACAO LTDA.          TRIBUNAL DE JUSTICA DO ESTADO DO PARA     J      E  SERVIÇOS DE COMPUTAÇÃO EM NUVEM                                Registro de preços para eventual aquisição futura de expansão da solução de hiperconvergência já existente no tribunal, em conjunto com os respectivos serviços de implantação, instalação, configuração, integração, suporte técnico, transferência de  conhecimento  e  assistência  técnica/manutenção  preventiva, para  atender  as  demandas  atuais  e  futuras  do  Poder Judiciário do Estado do Pará.                   86\n",
       "3     5919955                                     BR BPO TECNOLOGIA E SERVICOS S.A.       SECRETARIA DE POLITICAS PARA AS MULHERES     E      F  SERVIÇOS DE COMPUTAÇÃO EM NUVEM                                                                                                                                                           Prestação de serviço continuado de atendimento por meio de múltiplos canais (telefone, internet, físico, presencial e outros), destinados à operacionalização da Central de Atendimento à Mulher - Ligue 180, conforme condições e exigências estabelecidas no edital e seus anexos.                   84\n",
       "4     6840340  COMPANHIA DE PROCESSAMENTO DE DADOS DO ESTADO DE SAO PAULO - PRODESP                  SECRETARIA DE ESTADO DA SAUDE     E      E  SERVIÇOS DE COMPUTAÇÃO EM NUVEM                                                                                                                                                                                                                                                                                                                                                              Contratação de empresa para a prestação de serviços especializados em informática                   77"
      ]
     },
     "execution_count": 26,
     "metadata": {},
     "output_type": "execute_result"
    }
   ],
   "source": [
    "%%sql\n",
    "SELECT cod_compra, fornecedor_top, orgao_entidade, poder, esfera, nome_classe_ou_grupo, objeto, (valor_total_homologado//1_000_000) as total_homologado_MM  FROM compras_tic where ano_compra = 2024 and nome_classe_ou_grupo ilike '%EM NUVEM%' order by valor_total_homologado desc limit 5;"
   ]
  },
  {
   "cell_type": "markdown",
   "id": "92e5c00a-92e5-45c2-8f55-4b8b69141125",
   "metadata": {},
   "source": [
    "### SERVIÇOS DE GERENCIAMENTO EM TECNOLOGIA DA INFORMAÇÃO E COMUNICAÇÃO (TIC)"
   ]
  },
  {
   "cell_type": "code",
   "execution_count": 27,
   "id": "ba205249-9709-460d-9e63-0d7a093e03e3",
   "metadata": {},
   "outputs": [
    {
     "data": {
      "text/html": [
       "<span style=\"None\">Running query in &#x27;duckdb:///../data/inputs/mgi/mgi.db&#x27;</span>"
      ],
      "text/plain": [
       "Running query in 'duckdb:///../data/inputs/mgi/mgi.db'"
      ]
     },
     "metadata": {},
     "output_type": "display_data"
    },
    {
     "data": {
      "text/html": [
       "<div>\n",
       "<style scoped>\n",
       "    .dataframe tbody tr th:only-of-type {\n",
       "        vertical-align: middle;\n",
       "    }\n",
       "\n",
       "    .dataframe tbody tr th {\n",
       "        vertical-align: top;\n",
       "    }\n",
       "\n",
       "    .dataframe thead th {\n",
       "        text-align: right;\n",
       "    }\n",
       "</style>\n",
       "<table border=\"1\" class=\"dataframe\">\n",
       "  <thead>\n",
       "    <tr style=\"text-align: right;\">\n",
       "      <th></th>\n",
       "      <th>cod_compra</th>\n",
       "      <th>fornecedor_top</th>\n",
       "      <th>orgao_entidade</th>\n",
       "      <th>poder</th>\n",
       "      <th>esfera</th>\n",
       "      <th>nome_classe_ou_grupo</th>\n",
       "      <th>objeto</th>\n",
       "      <th>total_homologado_MM</th>\n",
       "    </tr>\n",
       "  </thead>\n",
       "  <tbody>\n",
       "  </tbody>\n",
       "</table>\n",
       "</div>"
      ],
      "text/plain": [
       "Empty DataFrame\n",
       "Columns: [cod_compra, fornecedor_top, orgao_entidade, poder, esfera, nome_classe_ou_grupo, objeto, total_homologado_MM]\n",
       "Index: []"
      ]
     },
     "execution_count": 27,
     "metadata": {},
     "output_type": "execute_result"
    }
   ],
   "source": [
    "%%sql\n",
    "SELECT cod_compra, fornecedor_top, orgao_entidade, poder, esfera, nome_classe_ou_grupo, objeto, (valor_total_homologado//1_000_000) as total_homologado_MM  FROM compras_tic where ano_compra = 2024 and nome_classe_ou_grupo ilike '%SERVIÇOS DE GERENCIAMENTO EM TECNOLOGIA DA INFORMAÇÃO E COMUNICAÇÃO (TIC)%' order by valor_total_homologado desc limit 5;"
   ]
  },
  {
   "cell_type": "code",
   "execution_count": 28,
   "id": "3e2dd865-973b-47f0-92f6-0ac2e8365d31",
   "metadata": {},
   "outputs": [],
   "source": [
    "### Só o Executivo Federal"
   ]
  },
  {
   "cell_type": "code",
   "execution_count": 29,
   "id": "6341ebd4-3b1a-45c5-91e2-46d4ad86b72e",
   "metadata": {},
   "outputs": [
    {
     "data": {
      "text/html": [
       "<span style=\"None\">Running query in &#x27;duckdb:///../data/inputs/mgi/mgi.db&#x27;</span>"
      ],
      "text/plain": [
       "Running query in 'duckdb:///../data/inputs/mgi/mgi.db'"
      ]
     },
     "metadata": {},
     "output_type": "display_data"
    },
    {
     "data": {
      "text/html": [
       "<div>\n",
       "<style scoped>\n",
       "    .dataframe tbody tr th:only-of-type {\n",
       "        vertical-align: middle;\n",
       "    }\n",
       "\n",
       "    .dataframe tbody tr th {\n",
       "        vertical-align: top;\n",
       "    }\n",
       "\n",
       "    .dataframe thead th {\n",
       "        text-align: right;\n",
       "    }\n",
       "</style>\n",
       "<table border=\"1\" class=\"dataframe\">\n",
       "  <thead>\n",
       "    <tr style=\"text-align: right;\">\n",
       "      <th></th>\n",
       "      <th>nome_grupo_ou_divisao</th>\n",
       "      <th>nome_classe_ou_grupo</th>\n",
       "      <th>total_homologado__em_MM</th>\n",
       "    </tr>\n",
       "  </thead>\n",
       "  <tbody>\n",
       "    <tr>\n",
       "      <th>0</th>\n",
       "      <td>SERVICOS DE ARRENDAMENTO, LICENCIAMENTO DE DIREITOS E TRANS-FERENCIA DE TECNOLOGIA</td>\n",
       "      <td>SERVIÇOS DE  LICENCIAMENTO E  CONTRATOS DE TRANSFERÊNCIA DE TECNOLOGIA</td>\n",
       "      <td>2_259</td>\n",
       "    </tr>\n",
       "    <tr>\n",
       "      <th>1</th>\n",
       "      <td>SERVIÇOS PARA A INFRAESTRUTURA  DE  TECNOLOGIA DA INFORMAÇÃOE COMUNICAÇÃO (TIC)</td>\n",
       "      <td>SERVIÇOS DE HOSPEDAGEM EM TECNOLOGIA DA INFORMAÇÃO E  COMUNICACÃO (TIC)</td>\n",
       "      <td>1_030</td>\n",
       "    </tr>\n",
       "    <tr>\n",
       "      <th>2</th>\n",
       "      <td>INFORMÁTICA - EQUIPAMENTOS,  PEÇAS, ACESSÓRIOS E SUPRIMENTOSDE TIC</td>\n",
       "      <td>COMPUTADORES</td>\n",
       "      <td>1_023</td>\n",
       "    </tr>\n",
       "    <tr>\n",
       "      <th>3</th>\n",
       "      <td>SERVIÇOS PARA A INFRAESTRUTURA  DE  TECNOLOGIA DA INFORMAÇÃOE COMUNICAÇÃO (TIC)</td>\n",
       "      <td>SERVIÇOS AUXILIARES DE TECNOLOGIA DA INFORMAÇÃO  E  COMUNICAÇÃO (TIC)</td>\n",
       "      <td>985</td>\n",
       "    </tr>\n",
       "    <tr>\n",
       "      <th>4</th>\n",
       "      <td>SERVIÇOS DE COMPUTAÇÃO EM NUVEM</td>\n",
       "      <td>SERVIÇOS DE COMPUTAÇÃO EM NUVEM</td>\n",
       "      <td>795</td>\n",
       "    </tr>\n",
       "    <tr>\n",
       "      <th>5</th>\n",
       "      <td>SERVIÇOS PARA A INFRAESTRUTURA  DE  TECNOLOGIA DA INFORMAÇÃOE COMUNICAÇÃO (TIC)</td>\n",
       "      <td>SERVIÇOS  DE  GERENCIAMENTO  EM TECNOLOGIA DA INFORMAÇÃO  E COMUNICAÇÃO (TIC)</td>\n",
       "      <td>683</td>\n",
       "    </tr>\n",
       "    <tr>\n",
       "      <th>6</th>\n",
       "      <td>INFORMÁTICA - EQUIPAMENTOS,  PEÇAS, ACESSÓRIOS E SUPRIMENTOSDE TIC</td>\n",
       "      <td>EQUIPAMENTOS DE REDE DE TIC - LOCAL E REMOTA</td>\n",
       "      <td>458</td>\n",
       "    </tr>\n",
       "    <tr>\n",
       "      <th>7</th>\n",
       "      <td>SERVIÇOS DE  PESQUISA,  ANÁLISE  DE  DADOS  E  INDICADORES, CONSULTORIA E PROJETOS DE TIC</td>\n",
       "      <td>SERVIÇOS DE ANÁLISE DA DADOS E INDICADORES DE TIC</td>\n",
       "      <td>426</td>\n",
       "    </tr>\n",
       "    <tr>\n",
       "      <th>8</th>\n",
       "      <td>INFORMÁTICA - EQUIPAMENTOS,  PEÇAS, ACESSÓRIOS E SUPRIMENTOSDE TIC</td>\n",
       "      <td>PEÇAS E ACESSÓRIOS PARA COMPUTADORES</td>\n",
       "      <td>251</td>\n",
       "    </tr>\n",
       "    <tr>\n",
       "      <th>9</th>\n",
       "      <td>INFORMÁTICA - EQUIPAMENTOS,  PEÇAS, ACESSÓRIOS E SUPRIMENTOSDE TIC</td>\n",
       "      <td>SUPRIMENTOS DE INFORMÁTICA - TIC</td>\n",
       "      <td>246</td>\n",
       "    </tr>\n",
       "  </tbody>\n",
       "</table>\n",
       "</div>"
      ],
      "text/plain": [
       "                                                                       nome_grupo_ou_divisao                                                           nome_classe_ou_grupo  total_homologado__em_MM\n",
       "0         SERVICOS DE ARRENDAMENTO, LICENCIAMENTO DE DIREITOS E TRANS-FERENCIA DE TECNOLOGIA         SERVIÇOS DE  LICENCIAMENTO E  CONTRATOS DE TRANSFERÊNCIA DE TECNOLOGIA                    2_259\n",
       "1            SERVIÇOS PARA A INFRAESTRUTURA  DE  TECNOLOGIA DA INFORMAÇÃOE COMUNICAÇÃO (TIC)        SERVIÇOS DE HOSPEDAGEM EM TECNOLOGIA DA INFORMAÇÃO E  COMUNICACÃO (TIC)                    1_030\n",
       "2                         INFORMÁTICA - EQUIPAMENTOS,  PEÇAS, ACESSÓRIOS E SUPRIMENTOSDE TIC                                                                   COMPUTADORES                    1_023\n",
       "3            SERVIÇOS PARA A INFRAESTRUTURA  DE  TECNOLOGIA DA INFORMAÇÃOE COMUNICAÇÃO (TIC)          SERVIÇOS AUXILIARES DE TECNOLOGIA DA INFORMAÇÃO  E  COMUNICAÇÃO (TIC)                      985\n",
       "4                                                            SERVIÇOS DE COMPUTAÇÃO EM NUVEM                                                SERVIÇOS DE COMPUTAÇÃO EM NUVEM                      795\n",
       "5            SERVIÇOS PARA A INFRAESTRUTURA  DE  TECNOLOGIA DA INFORMAÇÃOE COMUNICAÇÃO (TIC)  SERVIÇOS  DE  GERENCIAMENTO  EM TECNOLOGIA DA INFORMAÇÃO  E COMUNICAÇÃO (TIC)                      683\n",
       "6                         INFORMÁTICA - EQUIPAMENTOS,  PEÇAS, ACESSÓRIOS E SUPRIMENTOSDE TIC                                   EQUIPAMENTOS DE REDE DE TIC - LOCAL E REMOTA                      458\n",
       "7  SERVIÇOS DE  PESQUISA,  ANÁLISE  DE  DADOS  E  INDICADORES, CONSULTORIA E PROJETOS DE TIC                              SERVIÇOS DE ANÁLISE DA DADOS E INDICADORES DE TIC                      426\n",
       "8                         INFORMÁTICA - EQUIPAMENTOS,  PEÇAS, ACESSÓRIOS E SUPRIMENTOSDE TIC                                           PEÇAS E ACESSÓRIOS PARA COMPUTADORES                      251\n",
       "9                         INFORMÁTICA - EQUIPAMENTOS,  PEÇAS, ACESSÓRIOS E SUPRIMENTOSDE TIC                                               SUPRIMENTOS DE INFORMÁTICA - TIC                      246"
      ]
     },
     "execution_count": 29,
     "metadata": {},
     "output_type": "execute_result"
    }
   ],
   "source": [
    "%%sql\n",
    "SELECT\n",
    "  nome_grupo_ou_divisao,\n",
    "  nome_classe_ou_grupo,\n",
    "  SUM(valor_total_homologado) // 1_000_000 AS total_homologado__em_MM\n",
    "FROM compras_tic\n",
    "WHERE ano_compra = 2024 and poder = 'E' and esfera = 'F'\n",
    "GROUP BY ALL\n",
    "HAVING SUM(valor_total_homologado) // 1_000_000\n",
    "ORDER BY total_homologado__em_MM DESC limit 10;"
   ]
  },
  {
   "cell_type": "markdown",
   "id": "879c7ab7-b886-4b07-a70a-94c509d4ead0",
   "metadata": {},
   "source": [
    "### SERVIÇOS DE LICENCIAMENTO E CONTRATOS DE TRANSFERÊNCIA DE TECNOLOGIA\t"
   ]
  },
  {
   "cell_type": "code",
   "execution_count": 30,
   "id": "b830d1a7-3560-46d7-aefc-16b2707f1768",
   "metadata": {},
   "outputs": [
    {
     "data": {
      "text/html": [
       "<span style=\"None\">Running query in &#x27;duckdb:///../data/inputs/mgi/mgi.db&#x27;</span>"
      ],
      "text/plain": [
       "Running query in 'duckdb:///../data/inputs/mgi/mgi.db'"
      ]
     },
     "metadata": {},
     "output_type": "display_data"
    },
    {
     "data": {
      "text/html": [
       "<div>\n",
       "<style scoped>\n",
       "    .dataframe tbody tr th:only-of-type {\n",
       "        vertical-align: middle;\n",
       "    }\n",
       "\n",
       "    .dataframe tbody tr th {\n",
       "        vertical-align: top;\n",
       "    }\n",
       "\n",
       "    .dataframe thead th {\n",
       "        text-align: right;\n",
       "    }\n",
       "</style>\n",
       "<table border=\"1\" class=\"dataframe\">\n",
       "  <thead>\n",
       "    <tr style=\"text-align: right;\">\n",
       "      <th></th>\n",
       "      <th>cod_compra</th>\n",
       "      <th>fornecedor_top</th>\n",
       "      <th>orgao_entidade</th>\n",
       "      <th>poder</th>\n",
       "      <th>esfera</th>\n",
       "      <th>nome_classe_ou_grupo</th>\n",
       "      <th>objeto</th>\n",
       "      <th>total_homologado_MM</th>\n",
       "    </tr>\n",
       "  </thead>\n",
       "  <tbody>\n",
       "    <tr>\n",
       "      <th>0</th>\n",
       "      <td>7412986</td>\n",
       "      <td>BRASOFTWARE INFORMATICA LTDA</td>\n",
       "      <td>MINISTERIO DA GESTAO E DA INOVACAO EM SERVICOS PUBLICOS</td>\n",
       "      <td>E</td>\n",
       "      <td>F</td>\n",
       "      <td>SERVIÇOS DE  LICENCIAMENTO E  CONTRATOS DE TRANSFERÊNCIA DE TECNOLOGIA</td>\n",
       "      <td>Registro de Preços para contratação de empresa especializada para o fornecimento de licenças de softwares, aplicativos e sistemas operacionais Microsoft, destinados aos usuários finais, à camada cliente/servidor e banco de dados, incluindo serviços e consultoria técnica para implantação, projetos e utilização dos produtos, conforme condições e exigências estabelecidas no Edital e seus anexos.</td>\n",
       "      <td>731</td>\n",
       "    </tr>\n",
       "    <tr>\n",
       "      <th>1</th>\n",
       "      <td>7107578</td>\n",
       "      <td>SISTTECH TECNOLOGIA EDUCACIONAL COMERCIO E REPRESENTACAO DE PRODUTOS S/A</td>\n",
       "      <td>INSTITUTO FEDERAL DE EDUCACAO CIENCIA E TECNOLOGIA DO ESPIRITO SANTO</td>\n",
       "      <td>E</td>\n",
       "      <td>F</td>\n",
       "      <td>SERVIÇOS DE  LICENCIAMENTO E  CONTRATOS DE TRANSFERÊNCIA DE TECNOLOGIA</td>\n",
       "      <td>Registro de preços  para futura e eventual aquisição de equipamentos para laboratórios de ensino, pesquisa e extensão, compostos de soluções que auxiliam no processo ensino aprendizagem, para os campi do Instituto Federal de Educação, Ciência e Tecnologia do Espírito Santo – Ifes e Órgãos Participantes, conforme condições e exigências do Edital e seus anexos. LINK do PROCESSO SIPAC:  https://sipac.ifes.edu.br/public/jsp/processos/processo_detalhado.jsf?id=164428</td>\n",
       "      <td>210</td>\n",
       "    </tr>\n",
       "    <tr>\n",
       "      <th>2</th>\n",
       "      <td>6514144</td>\n",
       "      <td>BRASOFTWARE INFORMATICA LTDA</td>\n",
       "      <td>SERVICO FEDERAL DE PROCESSAMENTO DE DADOS (SERPRO)</td>\n",
       "      <td>E</td>\n",
       "      <td>F</td>\n",
       "      <td>SERVIÇOS DE  LICENCIAMENTO E  CONTRATOS DE TRANSFERÊNCIA DE TECNOLOGIA</td>\n",
       "      <td>Contratação de direito de uso de subscrição de softwares sob demanda da plataforma Microsoft.</td>\n",
       "      <td>124</td>\n",
       "    </tr>\n",
       "    <tr>\n",
       "      <th>3</th>\n",
       "      <td>6319401</td>\n",
       "      <td>MCR SISTEMAS E CONSULTORIA LTDA</td>\n",
       "      <td>MINISTERIO DA GESTAO E DA INOVACAO EM SERVICOS PUBLICOS</td>\n",
       "      <td>E</td>\n",
       "      <td>F</td>\n",
       "      <td>SERVIÇOS DE  LICENCIAMENTO E  CONTRATOS DE TRANSFERÊNCIA DE TECNOLOGIA</td>\n",
       "      <td>Contratação de licenças de softwares de Design Gráfico, com direito de atualização e suporte, conforme condições e exigências estabelecidas no Edital e em seus anexos.</td>\n",
       "      <td>101</td>\n",
       "    </tr>\n",
       "    <tr>\n",
       "      <th>4</th>\n",
       "      <td>7205198</td>\n",
       "      <td>NTSEC SOLUCOES EM TELEINFORMATICA LTDA</td>\n",
       "      <td>SERVICO FEDERAL DE PROCESSAMENTO DE DADOS (SERPRO)</td>\n",
       "      <td>E</td>\n",
       "      <td>F</td>\n",
       "      <td>SERVIÇOS DE  LICENCIAMENTO E  CONTRATOS DE TRANSFERÊNCIA DE TECNOLOGIA</td>\n",
       "      <td>Contratação de soluções de proteção de redes para os Clientes e Data Centers do Serpro e para Segmentação de suas Redes Locais internas, com garantia técnica, compostas por clusters de firewalls NGFW (Next-Generation Firewall, ou Firewall de Próxima Geração), clusters de virtualização de firewalls NGFW, e clusters de appliances virtuais de firewalls. As soluções devem incluir seus dispositivos, softwares, e as consoles de gerenciamento integrado, mediante criação de ARP.</td>\n",
       "      <td>83</td>\n",
       "    </tr>\n",
       "  </tbody>\n",
       "</table>\n",
       "</div>"
      ],
      "text/plain": [
       "   cod_compra                                                            fornecedor_top                                                        orgao_entidade poder esfera                                                    nome_classe_ou_grupo                                                                                                                                                                                                                                                                                                                                                                                                                                                                                       objeto  total_homologado_MM\n",
       "0     7412986                                              BRASOFTWARE INFORMATICA LTDA               MINISTERIO DA GESTAO E DA INOVACAO EM SERVICOS PUBLICOS     E      F  SERVIÇOS DE  LICENCIAMENTO E  CONTRATOS DE TRANSFERÊNCIA DE TECNOLOGIA                                                                                  Registro de Preços para contratação de empresa especializada para o fornecimento de licenças de softwares, aplicativos e sistemas operacionais Microsoft, destinados aos usuários finais, à camada cliente/servidor e banco de dados, incluindo serviços e consultoria técnica para implantação, projetos e utilização dos produtos, conforme condições e exigências estabelecidas no Edital e seus anexos.                  731\n",
       "1     7107578  SISTTECH TECNOLOGIA EDUCACIONAL COMERCIO E REPRESENTACAO DE PRODUTOS S/A  INSTITUTO FEDERAL DE EDUCACAO CIENCIA E TECNOLOGIA DO ESPIRITO SANTO     E      F  SERVIÇOS DE  LICENCIAMENTO E  CONTRATOS DE TRANSFERÊNCIA DE TECNOLOGIA           Registro de preços  para futura e eventual aquisição de equipamentos para laboratórios de ensino, pesquisa e extensão, compostos de soluções que auxiliam no processo ensino aprendizagem, para os campi do Instituto Federal de Educação, Ciência e Tecnologia do Espírito Santo – Ifes e Órgãos Participantes, conforme condições e exigências do Edital e seus anexos. LINK do PROCESSO SIPAC:  https://sipac.ifes.edu.br/public/jsp/processos/processo_detalhado.jsf?id=164428                  210\n",
       "2     6514144                                              BRASOFTWARE INFORMATICA LTDA                    SERVICO FEDERAL DE PROCESSAMENTO DE DADOS (SERPRO)     E      F  SERVIÇOS DE  LICENCIAMENTO E  CONTRATOS DE TRANSFERÊNCIA DE TECNOLOGIA                                                                                                                                                                                                                                                                                                                                                                                                Contratação de direito de uso de subscrição de softwares sob demanda da plataforma Microsoft.                  124\n",
       "3     6319401                                           MCR SISTEMAS E CONSULTORIA LTDA               MINISTERIO DA GESTAO E DA INOVACAO EM SERVICOS PUBLICOS     E      F  SERVIÇOS DE  LICENCIAMENTO E  CONTRATOS DE TRANSFERÊNCIA DE TECNOLOGIA                                                                                                                                                                                                                                                                                                                      Contratação de licenças de softwares de Design Gráfico, com direito de atualização e suporte, conforme condições e exigências estabelecidas no Edital e em seus anexos.                  101\n",
       "4     7205198                                    NTSEC SOLUCOES EM TELEINFORMATICA LTDA                    SERVICO FEDERAL DE PROCESSAMENTO DE DADOS (SERPRO)     E      F  SERVIÇOS DE  LICENCIAMENTO E  CONTRATOS DE TRANSFERÊNCIA DE TECNOLOGIA  Contratação de soluções de proteção de redes para os Clientes e Data Centers do Serpro e para Segmentação de suas Redes Locais internas, com garantia técnica, compostas por clusters de firewalls NGFW (Next-Generation Firewall, ou Firewall de Próxima Geração), clusters de virtualização de firewalls NGFW, e clusters de appliances virtuais de firewalls. As soluções devem incluir seus dispositivos, softwares, e as consoles de gerenciamento integrado, mediante criação de ARP.                   83"
      ]
     },
     "execution_count": 30,
     "metadata": {},
     "output_type": "execute_result"
    }
   ],
   "source": [
    "%%sql\n",
    "SELECT cod_compra, fornecedor_top, orgao_entidade, poder, esfera, nome_classe_ou_grupo, objeto, (valor_total_homologado//1_000_000) as total_homologado_MM  FROM compras_tic where ano_compra = 2024 and poder = 'E' and esfera = 'F'and nome_classe_ou_grupo ilike '%TRANSFERÊNCIA DE TECNOLOGIA%' order by valor_total_homologado desc limit 5;"
   ]
  },
  {
   "cell_type": "markdown",
   "id": "3ad5d883-e08c-42e1-9494-58caba89e694",
   "metadata": {},
   "source": [
    "### SERVIÇOS DE HOSPEDAGEM EM TECNOLOGIA DA INFORMAÇÃO E COMUNICACÃO (TIC)\t"
   ]
  },
  {
   "cell_type": "code",
   "execution_count": 31,
   "id": "d9668a4f-3b5f-4bcf-a301-511d41f6f589",
   "metadata": {},
   "outputs": [
    {
     "data": {
      "text/html": [
       "<span style=\"None\">Running query in &#x27;duckdb:///../data/inputs/mgi/mgi.db&#x27;</span>"
      ],
      "text/plain": [
       "Running query in 'duckdb:///../data/inputs/mgi/mgi.db'"
      ]
     },
     "metadata": {},
     "output_type": "display_data"
    },
    {
     "data": {
      "text/html": [
       "<div>\n",
       "<style scoped>\n",
       "    .dataframe tbody tr th:only-of-type {\n",
       "        vertical-align: middle;\n",
       "    }\n",
       "\n",
       "    .dataframe tbody tr th {\n",
       "        vertical-align: top;\n",
       "    }\n",
       "\n",
       "    .dataframe thead th {\n",
       "        text-align: right;\n",
       "    }\n",
       "</style>\n",
       "<table border=\"1\" class=\"dataframe\">\n",
       "  <thead>\n",
       "    <tr style=\"text-align: right;\">\n",
       "      <th></th>\n",
       "      <th>cod_compra</th>\n",
       "      <th>fornecedor_top</th>\n",
       "      <th>orgao_entidade</th>\n",
       "      <th>poder</th>\n",
       "      <th>esfera</th>\n",
       "      <th>nome_classe_ou_grupo</th>\n",
       "      <th>objeto</th>\n",
       "      <th>total_homologado_MM</th>\n",
       "    </tr>\n",
       "  </thead>\n",
       "  <tbody>\n",
       "    <tr>\n",
       "      <th>0</th>\n",
       "      <td>6901065</td>\n",
       "      <td>EMPRESA DE TECNOLOGIA E INFORMACOES DA PREVIDENCIA S.A. - DATAPREV</td>\n",
       "      <td>MINISTERIO DO TRABALHO</td>\n",
       "      <td>E</td>\n",
       "      <td>F</td>\n",
       "      <td>SERVIÇOS DE HOSPEDAGEM EM TECNOLOGIA DA INFORMAÇÃO E  COMUNICACÃO (TIC)</td>\n",
       "      <td>Contratação da Empresa de Tecnologia e Informações da Previdência (DATAPREV S.A.), por\\nmeio de dispensa de licitação, conforme inciso IX, artigo 75 da Lei n.º 14.133/2021, para execução\\nde serviços técnicos especializados de tecnologia da informação e comunicações - TIC, buscando\\natendimento das necessidades do Ministério do Trabalho e Emprego (MTE).</td>\n",
       "      <td>817</td>\n",
       "    </tr>\n",
       "    <tr>\n",
       "      <th>1</th>\n",
       "      <td>6093713</td>\n",
       "      <td>BLACK BOOK EDITORA LTDA</td>\n",
       "      <td>CONSELHO REGIONAL DE MEDICINA DO DISTRITO FEDERAL</td>\n",
       "      <td>E</td>\n",
       "      <td>F</td>\n",
       "      <td>SERVIÇOS DE HOSPEDAGEM EM TECNOLOGIA DA INFORMAÇÃO E  COMUNICACÃO (TIC)</td>\n",
       "      <td>Aquisição de licença de uso para aplicativo/funcionalidade de base de evidências médicas, denominado Aplicativo Blackbook, desenvolvido e comercializado pela empresa BLACK BOOK EDITORA LTDA.</td>\n",
       "      <td>117</td>\n",
       "    </tr>\n",
       "    <tr>\n",
       "      <th>2</th>\n",
       "      <td>6138454</td>\n",
       "      <td>CIRION TECHNOLOGIES DO BRASIL LTDA</td>\n",
       "      <td>CONSELHO REGIONAL DE ENGENHARIA E AGRONOMIA DO ESTADO DE SAO PAULO</td>\n",
       "      <td>E</td>\n",
       "      <td>F</td>\n",
       "      <td>SERVIÇOS DE HOSPEDAGEM EM TECNOLOGIA DA INFORMAÇÃO E  COMUNICACÃO (TIC)</td>\n",
       "      <td>Serviços de infraestrutura de datacenter, com hospedagem privada de sistemas de software e arquivos, com seus respetivos sistemas operacionais, aplicações e bancos de dados, composto por seus equipamentos (hardware), softwares, licenciamento, planejamento, instalação, migração de dados e aplicações, manutenção, comunicação de dados, suporte, operação, treinamento e gerenciamento da solução de Hospedagem.</td>\n",
       "      <td>36</td>\n",
       "    </tr>\n",
       "    <tr>\n",
       "      <th>3</th>\n",
       "      <td>5887229</td>\n",
       "      <td>SOLUCTION LOGISTICA E EVENTOS LTDA</td>\n",
       "      <td>INSTITUTO FEDERAL DE EDUCACAO, CIENCIA E TECNOLOGIA DE SAO PAULO</td>\n",
       "      <td>E</td>\n",
       "      <td>F</td>\n",
       "      <td>SERVIÇOS DE HOSPEDAGEM EM TECNOLOGIA DA INFORMAÇÃO E  COMUNICACÃO (TIC)</td>\n",
       "      <td>Registro de preços para eventual contratação de serviço especializado visando a organização e realização de eventos diversos de pequeno, médio e grande porte para o Instituto Federal de Educação, Ciência e Tecnologia de São Paulo – IFSP e demais órgãos participantes.</td>\n",
       "      <td>33</td>\n",
       "    </tr>\n",
       "    <tr>\n",
       "      <th>4</th>\n",
       "      <td>7185511</td>\n",
       "      <td>CIRION TECHNOLOGIES DO BRASIL LTDA</td>\n",
       "      <td>SUPERINTENDENCIA DE SEGUROS PRIVADOS</td>\n",
       "      <td>E</td>\n",
       "      <td>F</td>\n",
       "      <td>SERVIÇOS DE HOSPEDAGEM EM TECNOLOGIA DA INFORMAÇÃO E  COMUNICACÃO (TIC)</td>\n",
       "      <td>Contratação de empresa especializada para prestação de serviços de hospedagem de aplicações e soluções de TIC em   data center da Contratada (hosting), para atender às necessidades da Susep - Superintendência de Seguros Privados, conforme condições e exigências estabelecidas no edital e em seus anexos.</td>\n",
       "      <td>8</td>\n",
       "    </tr>\n",
       "  </tbody>\n",
       "</table>\n",
       "</div>"
      ],
      "text/plain": [
       "   cod_compra                                                      fornecedor_top                                                      orgao_entidade poder esfera                                                     nome_classe_ou_grupo                                                                                                                                                                                                                                                                                                                                                                                                                   objeto  total_homologado_MM\n",
       "0     6901065  EMPRESA DE TECNOLOGIA E INFORMACOES DA PREVIDENCIA S.A. - DATAPREV                                              MINISTERIO DO TRABALHO     E      F  SERVIÇOS DE HOSPEDAGEM EM TECNOLOGIA DA INFORMAÇÃO E  COMUNICACÃO (TIC)                                                      Contratação da Empresa de Tecnologia e Informações da Previdência (DATAPREV S.A.), por\\nmeio de dispensa de licitação, conforme inciso IX, artigo 75 da Lei n.º 14.133/2021, para execução\\nde serviços técnicos especializados de tecnologia da informação e comunicações - TIC, buscando\\natendimento das necessidades do Ministério do Trabalho e Emprego (MTE).                  817\n",
       "1     6093713                                             BLACK BOOK EDITORA LTDA                   CONSELHO REGIONAL DE MEDICINA DO DISTRITO FEDERAL     E      F  SERVIÇOS DE HOSPEDAGEM EM TECNOLOGIA DA INFORMAÇÃO E  COMUNICACÃO (TIC)                                                                                                                                                                                                                           Aquisição de licença de uso para aplicativo/funcionalidade de base de evidências médicas, denominado Aplicativo Blackbook, desenvolvido e comercializado pela empresa BLACK BOOK EDITORA LTDA.                  117\n",
       "2     6138454                                  CIRION TECHNOLOGIES DO BRASIL LTDA  CONSELHO REGIONAL DE ENGENHARIA E AGRONOMIA DO ESTADO DE SAO PAULO     E      F  SERVIÇOS DE HOSPEDAGEM EM TECNOLOGIA DA INFORMAÇÃO E  COMUNICACÃO (TIC)  Serviços de infraestrutura de datacenter, com hospedagem privada de sistemas de software e arquivos, com seus respetivos sistemas operacionais, aplicações e bancos de dados, composto por seus equipamentos (hardware), softwares, licenciamento, planejamento, instalação, migração de dados e aplicações, manutenção, comunicação de dados, suporte, operação, treinamento e gerenciamento da solução de Hospedagem.                   36\n",
       "3     5887229                                  SOLUCTION LOGISTICA E EVENTOS LTDA    INSTITUTO FEDERAL DE EDUCACAO, CIENCIA E TECNOLOGIA DE SAO PAULO     E      F  SERVIÇOS DE HOSPEDAGEM EM TECNOLOGIA DA INFORMAÇÃO E  COMUNICACÃO (TIC)                                                                                                                                              Registro de preços para eventual contratação de serviço especializado visando a organização e realização de eventos diversos de pequeno, médio e grande porte para o Instituto Federal de Educação, Ciência e Tecnologia de São Paulo – IFSP e demais órgãos participantes.                   33\n",
       "4     7185511                                  CIRION TECHNOLOGIES DO BRASIL LTDA                                SUPERINTENDENCIA DE SEGUROS PRIVADOS     E      F  SERVIÇOS DE HOSPEDAGEM EM TECNOLOGIA DA INFORMAÇÃO E  COMUNICACÃO (TIC)                                                                                                          Contratação de empresa especializada para prestação de serviços de hospedagem de aplicações e soluções de TIC em   data center da Contratada (hosting), para atender às necessidades da Susep - Superintendência de Seguros Privados, conforme condições e exigências estabelecidas no edital e em seus anexos.                    8"
      ]
     },
     "execution_count": 31,
     "metadata": {},
     "output_type": "execute_result"
    }
   ],
   "source": [
    "%%sql\n",
    "SELECT cod_compra, fornecedor_top, orgao_entidade, poder, esfera, nome_classe_ou_grupo, objeto, (valor_total_homologado//1_000_000) as total_homologado_MM  FROM compras_tic where ano_compra = 2024 and poder = 'E' and esfera = 'F'and nome_classe_ou_grupo ilike '%HOSPEDAGEM%' order by valor_total_homologado desc limit 5;"
   ]
  },
  {
   "cell_type": "code",
   "execution_count": 32,
   "id": "603a93fd-4007-42aa-b1d9-8ef0a082422d",
   "metadata": {},
   "outputs": [],
   "source": [
    "### SERVIÇOS DE COMPUTAÇÃO EM NUVEM"
   ]
  },
  {
   "cell_type": "code",
   "execution_count": 33,
   "id": "0a897217-741d-4b78-9b65-c5b138aa5255",
   "metadata": {},
   "outputs": [
    {
     "data": {
      "text/html": [
       "<span style=\"None\">Running query in &#x27;duckdb:///../data/inputs/mgi/mgi.db&#x27;</span>"
      ],
      "text/plain": [
       "Running query in 'duckdb:///../data/inputs/mgi/mgi.db'"
      ]
     },
     "metadata": {},
     "output_type": "display_data"
    },
    {
     "data": {
      "text/html": [
       "<div>\n",
       "<style scoped>\n",
       "    .dataframe tbody tr th:only-of-type {\n",
       "        vertical-align: middle;\n",
       "    }\n",
       "\n",
       "    .dataframe tbody tr th {\n",
       "        vertical-align: top;\n",
       "    }\n",
       "\n",
       "    .dataframe thead th {\n",
       "        text-align: right;\n",
       "    }\n",
       "</style>\n",
       "<table border=\"1\" class=\"dataframe\">\n",
       "  <thead>\n",
       "    <tr style=\"text-align: right;\">\n",
       "      <th></th>\n",
       "      <th>cod_compra</th>\n",
       "      <th>fornecedor_top</th>\n",
       "      <th>orgao_entidade</th>\n",
       "      <th>poder</th>\n",
       "      <th>esfera</th>\n",
       "      <th>nome_classe_ou_grupo</th>\n",
       "      <th>objeto</th>\n",
       "      <th>total_homologado_MM</th>\n",
       "    </tr>\n",
       "  </thead>\n",
       "  <tbody>\n",
       "    <tr>\n",
       "      <th>0</th>\n",
       "      <td>6800599</td>\n",
       "      <td>EXTREME DIGITAL EXPERIENCE LTDA.</td>\n",
       "      <td>BANCO DO NORDESTE DO BRASIL</td>\n",
       "      <td>E</td>\n",
       "      <td>F</td>\n",
       "      <td>SERVIÇOS DE COMPUTAÇÃO EM NUVEM</td>\n",
       "      <td>Contratação de Plataforma Integrada na modalidade SaaS incluindo Serviços de Implantação, Treinamento, Serviços Técnicos Especializados, Suporte Técnico 24x7- N2 e N3, Operação e Sustentação 10x5 para o Gerenciamento Corporativo de Serviços.</td>\n",
       "      <td>313</td>\n",
       "    </tr>\n",
       "    <tr>\n",
       "      <th>1</th>\n",
       "      <td>5919955</td>\n",
       "      <td>BR BPO TECNOLOGIA E SERVICOS S.A.</td>\n",
       "      <td>SECRETARIA DE POLITICAS PARA AS MULHERES</td>\n",
       "      <td>E</td>\n",
       "      <td>F</td>\n",
       "      <td>SERVIÇOS DE COMPUTAÇÃO EM NUVEM</td>\n",
       "      <td>Prestação de serviço continuado de atendimento por meio de múltiplos canais (telefone, internet, físico, presencial e outros), destinados à operacionalização da Central de Atendimento à Mulher - Ligue 180, conforme condições e exigências estabelecidas no edital e seus anexos.</td>\n",
       "      <td>84</td>\n",
       "    </tr>\n",
       "    <tr>\n",
       "      <th>2</th>\n",
       "      <td>6211426</td>\n",
       "      <td>BRASOFTWARE INFORMATICA LTDA</td>\n",
       "      <td>MINISTERIO DA FAZENDA</td>\n",
       "      <td>E</td>\n",
       "      <td>F</td>\n",
       "      <td>SERVIÇOS DE COMPUTAÇÃO EM NUVEM</td>\n",
       "      <td>Registro de preços para eventual contratação de uma Solução de Serviços Integrados para Receita Federal do Brasil com suporte e garantia por 12 (doze) meses, prorrogável por até 10 (dez) anos.</td>\n",
       "      <td>59</td>\n",
       "    </tr>\n",
       "    <tr>\n",
       "      <th>3</th>\n",
       "      <td>6990206</td>\n",
       "      <td>TPZ INFORMATICA LTDA</td>\n",
       "      <td>SERVICO FEDERAL DE PROCESSAMENTO DE DADOS (SERPRO)</td>\n",
       "      <td>E</td>\n",
       "      <td>F</td>\n",
       "      <td>SERVIÇOS DE COMPUTAÇÃO EM NUVEM</td>\n",
       "      <td>Contratação da Solução OFD (Online Fraud Detection) no modelo SaaS de computação em nuvem para detecção e prevenção de fraudes com objetivo de combater o abuso de contas da plataforma Acesso Gov.br, prioritariamente, e demais sistemas do SERPRO, suportando seus canais web e mobile.</td>\n",
       "      <td>37</td>\n",
       "    </tr>\n",
       "    <tr>\n",
       "      <th>4</th>\n",
       "      <td>5680224</td>\n",
       "      <td>TAREA GERENCIAMENTO LTDA</td>\n",
       "      <td>ADVOCACIA GERAL DA UNIAO</td>\n",
       "      <td>E</td>\n",
       "      <td>F</td>\n",
       "      <td>SERVIÇOS DE COMPUTAÇÃO EM NUVEM</td>\n",
       "      <td>Contratação de solução de tecnologia da informação e comunicação de contratação de solução redundante de nuvem privada Oracle Exadata Cloud at Customer (ExaCC), na versão X10M ou superior, incluindo Oracle PaaS e IaaS Universal Credits por demanda e sem consumo mínimo, bem como os serviços necessários para ativação completa da solução, migração dos dados e serviços técnicos especializados por demanda, conforme condições, quantidades e exigências estabelecidas no Edital</td>\n",
       "      <td>19</td>\n",
       "    </tr>\n",
       "  </tbody>\n",
       "</table>\n",
       "</div>"
      ],
      "text/plain": [
       "   cod_compra                     fornecedor_top                                      orgao_entidade poder esfera             nome_classe_ou_grupo                                                                                                                                                                                                                                                                                                                                                                                                                                                                                     objeto  total_homologado_MM\n",
       "0     6800599   EXTREME DIGITAL EXPERIENCE LTDA.                         BANCO DO NORDESTE DO BRASIL     E      F  SERVIÇOS DE COMPUTAÇÃO EM NUVEM                                                                                                                                                                                                                                          Contratação de Plataforma Integrada na modalidade SaaS incluindo Serviços de Implantação, Treinamento, Serviços Técnicos Especializados, Suporte Técnico 24x7- N2 e N3, Operação e Sustentação 10x5 para o Gerenciamento Corporativo de Serviços.                  313\n",
       "1     5919955  BR BPO TECNOLOGIA E SERVICOS S.A.            SECRETARIA DE POLITICAS PARA AS MULHERES     E      F  SERVIÇOS DE COMPUTAÇÃO EM NUVEM                                                                                                                                                                                                       Prestação de serviço continuado de atendimento por meio de múltiplos canais (telefone, internet, físico, presencial e outros), destinados à operacionalização da Central de Atendimento à Mulher - Ligue 180, conforme condições e exigências estabelecidas no edital e seus anexos.                   84\n",
       "2     6211426       BRASOFTWARE INFORMATICA LTDA                               MINISTERIO DA FAZENDA     E      F  SERVIÇOS DE COMPUTAÇÃO EM NUVEM                                                                                                                                                                                                                                                                                           Registro de preços para eventual contratação de uma Solução de Serviços Integrados para Receita Federal do Brasil com suporte e garantia por 12 (doze) meses, prorrogável por até 10 (dez) anos.                   59\n",
       "3     6990206               TPZ INFORMATICA LTDA  SERVICO FEDERAL DE PROCESSAMENTO DE DADOS (SERPRO)     E      F  SERVIÇOS DE COMPUTAÇÃO EM NUVEM                                                                                                                                                                                                 Contratação da Solução OFD (Online Fraud Detection) no modelo SaaS de computação em nuvem para detecção e prevenção de fraudes com objetivo de combater o abuso de contas da plataforma Acesso Gov.br, prioritariamente, e demais sistemas do SERPRO, suportando seus canais web e mobile.                   37\n",
       "4     5680224           TAREA GERENCIAMENTO LTDA                            ADVOCACIA GERAL DA UNIAO     E      F  SERVIÇOS DE COMPUTAÇÃO EM NUVEM  Contratação de solução de tecnologia da informação e comunicação de contratação de solução redundante de nuvem privada Oracle Exadata Cloud at Customer (ExaCC), na versão X10M ou superior, incluindo Oracle PaaS e IaaS Universal Credits por demanda e sem consumo mínimo, bem como os serviços necessários para ativação completa da solução, migração dos dados e serviços técnicos especializados por demanda, conforme condições, quantidades e exigências estabelecidas no Edital                   19"
      ]
     },
     "execution_count": 33,
     "metadata": {},
     "output_type": "execute_result"
    }
   ],
   "source": [
    "%%sql\n",
    "SELECT cod_compra, fornecedor_top, orgao_entidade, poder, esfera, nome_classe_ou_grupo, objeto, (valor_total_homologado//1_000_000) as total_homologado_MM  FROM compras_tic where ano_compra = 2024 and poder = 'E' and esfera = 'F'and nome_classe_ou_grupo ilike '%NUVEM%' order by valor_total_homologado desc limit 5;"
   ]
  },
  {
   "cell_type": "code",
   "execution_count": 34,
   "id": "208cb6b8-d048-43b9-a6f7-37bd46df5933",
   "metadata": {},
   "outputs": [],
   "source": [
    "## MGI"
   ]
  },
  {
   "cell_type": "code",
   "execution_count": 35,
   "id": "230204f2-e946-4144-b6f0-ce8053f2c4cd",
   "metadata": {},
   "outputs": [
    {
     "data": {
      "text/html": [
       "<span style=\"None\">Running query in &#x27;duckdb:///../data/inputs/mgi/mgi.db&#x27;</span>"
      ],
      "text/plain": [
       "Running query in 'duckdb:///../data/inputs/mgi/mgi.db'"
      ]
     },
     "metadata": {},
     "output_type": "display_data"
    },
    {
     "data": {
      "text/html": [
       "<div>\n",
       "<style scoped>\n",
       "    .dataframe tbody tr th:only-of-type {\n",
       "        vertical-align: middle;\n",
       "    }\n",
       "\n",
       "    .dataframe tbody tr th {\n",
       "        vertical-align: top;\n",
       "    }\n",
       "\n",
       "    .dataframe thead th {\n",
       "        text-align: right;\n",
       "    }\n",
       "</style>\n",
       "<table border=\"1\" class=\"dataframe\">\n",
       "  <thead>\n",
       "    <tr style=\"text-align: right;\">\n",
       "      <th></th>\n",
       "      <th>cod_compra</th>\n",
       "      <th>fornecedor_top</th>\n",
       "      <th>orgao_entidade</th>\n",
       "      <th>poder</th>\n",
       "      <th>esfera</th>\n",
       "      <th>nome_classe_ou_grupo</th>\n",
       "      <th>objeto</th>\n",
       "      <th>total_homologado_MM</th>\n",
       "    </tr>\n",
       "  </thead>\n",
       "  <tbody>\n",
       "    <tr>\n",
       "      <th>0</th>\n",
       "      <td>7412986</td>\n",
       "      <td>BRASOFTWARE INFORMATICA LTDA</td>\n",
       "      <td>MINISTERIO DA GESTAO E DA INOVACAO EM SERVICOS PUBLICOS</td>\n",
       "      <td>E</td>\n",
       "      <td>F</td>\n",
       "      <td>SERVIÇOS DE  LICENCIAMENTO E  CONTRATOS DE TRANSFERÊNCIA DE TECNOLOGIA</td>\n",
       "      <td>Registro de Preços para contratação de empresa especializada para o fornecimento de licenças de softwares, aplicativos e sistemas operacionais Microsoft, destinados aos usuários finais, à camada cliente/servidor e banco de dados, incluindo serviços e consultoria técnica para implantação, projetos e utilização dos produtos, conforme condições e exigências estabelecidas no Edital e seus anexos.</td>\n",
       "      <td>731</td>\n",
       "    </tr>\n",
       "    <tr>\n",
       "      <th>1</th>\n",
       "      <td>6319401</td>\n",
       "      <td>MCR SISTEMAS E CONSULTORIA LTDA</td>\n",
       "      <td>MINISTERIO DA GESTAO E DA INOVACAO EM SERVICOS PUBLICOS</td>\n",
       "      <td>E</td>\n",
       "      <td>F</td>\n",
       "      <td>SERVIÇOS DE  LICENCIAMENTO E  CONTRATOS DE TRANSFERÊNCIA DE TECNOLOGIA</td>\n",
       "      <td>Contratação de licenças de softwares de Design Gráfico, com direito de atualização e suporte, conforme condições e exigências estabelecidas no Edital e em seus anexos.</td>\n",
       "      <td>101</td>\n",
       "    </tr>\n",
       "    <tr>\n",
       "      <th>2</th>\n",
       "      <td>7361502</td>\n",
       "      <td>GTQ PLANEJAMENTO, PROMOCOES ARTISTICAS E CULTURAIS LTDA</td>\n",
       "      <td>MINISTERIO DA GESTAO E DA INOVACAO EM SERVICOS PUBLICOS</td>\n",
       "      <td>E</td>\n",
       "      <td>F</td>\n",
       "      <td>SERVICOS PARA  A  INFRAESTRUTURA DE TECNOLOGIA DA INFORMAÇÃOE COMUNICAÇÃO (TIC),  NAO CLASSIFICADOS EM OUTROS TÓPICOS</td>\n",
       "      <td>Contratação de serviços de organização de eventos para a realização das reuniões oficiais internacionais de grupos multilaterais no país, incluindo o BRICS durante a presidência rotativa exercida pelo Brasil em 2025, reuniões estas a serem demandadas pelos órgãos com linhas de trabalho no âmbito do grupo multilateral em questão.</td>\n",
       "      <td>23</td>\n",
       "    </tr>\n",
       "    <tr>\n",
       "      <th>3</th>\n",
       "      <td>7576495</td>\n",
       "      <td>GARTNER DO BRASIL SERVICOS DE PESQUISAS LTDA.</td>\n",
       "      <td>MINISTERIO DA GESTAO E DA INOVACAO EM SERVICOS PUBLICOS</td>\n",
       "      <td>E</td>\n",
       "      <td>F</td>\n",
       "      <td>SERVIÇOS DE  LICENCIAMENTO E  CONTRATOS DE TRANSFERÊNCIA DE TECNOLOGIA</td>\n",
       "      <td>Contratação de serviços técnicos especializados de pesquisa e aconselhamento imparcial em Tecnologia da Informação e Comunicação (TIC) da empresa GARTNER DO BRASIL SERVIÇOS DE PESQUISA LTDA, para o atendimento das demandas do Ministério da Gestão e da Inovação em Serviços Públicos (MGI), nas condições estabelecidas no Termo de Referência.</td>\n",
       "      <td>20</td>\n",
       "    </tr>\n",
       "    <tr>\n",
       "      <th>4</th>\n",
       "      <td>6651758</td>\n",
       "      <td>TECNO - IT, TECNOLOGIA, SERVICOS E COMUNICACAO SA</td>\n",
       "      <td>MINISTERIO DA GESTAO E DA INOVACAO EM SERVICOS PUBLICOS</td>\n",
       "      <td>E</td>\n",
       "      <td>F</td>\n",
       "      <td>SERVIÇOS DE COMPUTAÇÃO EM NUVEM</td>\n",
       "      <td>Contratação de serviços de locação de sistema integrado de vigilância eletrônica, com fornecimento de equipamentos e  software, composto pelos circuito fechado de televisão (CFTV), sistema de controle de acesso (SCA), com elaboração de  projeto executivo, infraestrutura, instalação e manutenção, com monitoramento correspondente pelo contratante, para o  MAPA, MPA e Ministério do Desenvolvimento Agrário e Agric. Familiar, conforme condições e exigências estabelecidas em Edital</td>\n",
       "      <td>4</td>\n",
       "    </tr>\n",
       "  </tbody>\n",
       "</table>\n",
       "</div>"
      ],
      "text/plain": [
       "   cod_compra                                           fornecedor_top                                           orgao_entidade poder esfera                                                                                                   nome_classe_ou_grupo                                                                                                                                                                                                                                                                                                                                                                                                                                                                                            objeto  total_homologado_MM\n",
       "0     7412986                             BRASOFTWARE INFORMATICA LTDA  MINISTERIO DA GESTAO E DA INOVACAO EM SERVICOS PUBLICOS     E      F                                                 SERVIÇOS DE  LICENCIAMENTO E  CONTRATOS DE TRANSFERÊNCIA DE TECNOLOGIA                                                                                       Registro de Preços para contratação de empresa especializada para o fornecimento de licenças de softwares, aplicativos e sistemas operacionais Microsoft, destinados aos usuários finais, à camada cliente/servidor e banco de dados, incluindo serviços e consultoria técnica para implantação, projetos e utilização dos produtos, conforme condições e exigências estabelecidas no Edital e seus anexos.                  731\n",
       "1     6319401                          MCR SISTEMAS E CONSULTORIA LTDA  MINISTERIO DA GESTAO E DA INOVACAO EM SERVICOS PUBLICOS     E      F                                                 SERVIÇOS DE  LICENCIAMENTO E  CONTRATOS DE TRANSFERÊNCIA DE TECNOLOGIA                                                                                                                                                                                                                                                                                                                           Contratação de licenças de softwares de Design Gráfico, com direito de atualização e suporte, conforme condições e exigências estabelecidas no Edital e em seus anexos.                  101\n",
       "2     7361502  GTQ PLANEJAMENTO, PROMOCOES ARTISTICAS E CULTURAIS LTDA  MINISTERIO DA GESTAO E DA INOVACAO EM SERVICOS PUBLICOS     E      F  SERVICOS PARA  A  INFRAESTRUTURA DE TECNOLOGIA DA INFORMAÇÃOE COMUNICAÇÃO (TIC),  NAO CLASSIFICADOS EM OUTROS TÓPICOS                                                                                                                                                        Contratação de serviços de organização de eventos para a realização das reuniões oficiais internacionais de grupos multilaterais no país, incluindo o BRICS durante a presidência rotativa exercida pelo Brasil em 2025, reuniões estas a serem demandadas pelos órgãos com linhas de trabalho no âmbito do grupo multilateral em questão.                   23\n",
       "3     7576495            GARTNER DO BRASIL SERVICOS DE PESQUISAS LTDA.  MINISTERIO DA GESTAO E DA INOVACAO EM SERVICOS PUBLICOS     E      F                                                 SERVIÇOS DE  LICENCIAMENTO E  CONTRATOS DE TRANSFERÊNCIA DE TECNOLOGIA                                                                                                                                              Contratação de serviços técnicos especializados de pesquisa e aconselhamento imparcial em Tecnologia da Informação e Comunicação (TIC) da empresa GARTNER DO BRASIL SERVIÇOS DE PESQUISA LTDA, para o atendimento das demandas do Ministério da Gestão e da Inovação em Serviços Públicos (MGI), nas condições estabelecidas no Termo de Referência.                   20\n",
       "4     6651758        TECNO - IT, TECNOLOGIA, SERVICOS E COMUNICACAO SA  MINISTERIO DA GESTAO E DA INOVACAO EM SERVICOS PUBLICOS     E      F                                                                                        SERVIÇOS DE COMPUTAÇÃO EM NUVEM  Contratação de serviços de locação de sistema integrado de vigilância eletrônica, com fornecimento de equipamentos e  software, composto pelos circuito fechado de televisão (CFTV), sistema de controle de acesso (SCA), com elaboração de  projeto executivo, infraestrutura, instalação e manutenção, com monitoramento correspondente pelo contratante, para o  MAPA, MPA e Ministério do Desenvolvimento Agrário e Agric. Familiar, conforme condições e exigências estabelecidas em Edital                    4"
      ]
     },
     "execution_count": 35,
     "metadata": {},
     "output_type": "execute_result"
    }
   ],
   "source": [
    "%%sql\n",
    "SELECT cod_compra, fornecedor_top, orgao_entidade, poder, esfera, nome_classe_ou_grupo, objeto, (valor_total_homologado//1_000_000) as total_homologado_MM  FROM compras_tic where ano_compra = 2024 and orgao_entidade ilike  '%MINISTERIO DA GESTAO%' order by valor_total_homologado desc limit 5;"
   ]
  },
  {
   "cell_type": "code",
   "execution_count": null,
   "id": "02f9ff45-fbac-443a-a72d-bbe07fe0cf71",
   "metadata": {},
   "outputs": [],
   "source": []
  },
  {
   "cell_type": "code",
   "execution_count": null,
   "id": "dee01b22-1cf2-43de-ba20-2c4772da661c",
   "metadata": {},
   "outputs": [],
   "source": []
  }
 ],
 "metadata": {
  "kernelspec": {
   "display_name": "Python 3 (ipykernel)",
   "language": "python",
   "name": "python3"
  },
  "language_info": {
   "codemirror_mode": {
    "name": "ipython",
    "version": 3
   },
   "file_extension": ".py",
   "mimetype": "text/x-python",
   "name": "python",
   "nbconvert_exporter": "python",
   "pygments_lexer": "ipython3",
   "version": "3.13.0"
  }
 },
 "nbformat": 4,
 "nbformat_minor": 5
}
