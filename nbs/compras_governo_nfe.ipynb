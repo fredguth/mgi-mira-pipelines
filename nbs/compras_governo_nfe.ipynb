{
 "cells": [
  {
   "cell_type": "markdown",
   "id": "72c21e47",
   "metadata": {},
   "source": [
    "# Notas Fiscais Eletrônicas da União - Portal da Transparência CGU NFe"
   ]
  },
  {
   "cell_type": "code",
   "execution_count": null,
   "id": "fd512cbe",
   "metadata": {},
   "outputs": [],
   "source": [
    "#| hide: true\n",
    "! rm -rf ../data/inputs/cgu_nfe/*"
   ]
  },
  {
   "cell_type": "markdown",
   "id": "07e68277",
   "metadata": {},
   "source": [
    "## Fonte dos dados"
   ]
  },
  {
   "cell_type": "markdown",
   "id": "b7edd999",
   "metadata": {},
   "source": [
    "O Portal da Transparência do Governo Federal disponibiliza dados sobre Notas Fiscais Eletrônicas (NFE) da União que podem ser baixados no endereço:\n",
    "\n",
    "https://portaldatransparencia.gov.br/download-de-dados/notas-fiscais/\n",
    "\n",
    "Cada mês possui um arquivo zipado que contém os dados das notas fiscais eletrônicas emitidas no período. O nome do arquivo segue o padrão `YYYYMM_NFe.zip`, onde `YYYY` é o ano e `MM` é o mês.\n",
    "\n",
    "Dentro do Zip encontramos os seguintes arquivos em formato CSV e codificação `latin-1`:\n",
    "- `YYYYMM_NFe_NotaFiscal.csv`: Contém os dados das notas fiscais eletrônicas.\n",
    "- `YYYYMM_NFe_NotaFiscalItem.csv`: Contém os dados dos itens das notas fiscais eletrônicas.\n",
    "- `YYYYMM_NFe_NotaFiscalEvento.csv`: Contém os dados dos eventos atribuidos às notas fiscais eletrônicas.\n",
    "\n",
    "Para baixar os dados de um mês específico, é preciso baixar da url:\n",
    "\n",
    "https://portaldatransparencia.gov.br/download-de-dados/notas-fiscais/[YYYYMM]\n",
    "\n",
    "\n",
    "No portal da transparência, há dados de Novembro de 2019 até o mês atual com exceção do período de janeiro de 2020 até abril de 2021. Não há nada que indique se os dados do mês atual são atualizados diariamente. \n"
   ]
  },
  {
   "cell_type": "markdown",
   "id": "045c5da5",
   "metadata": {},
   "source": [
    "\n",
    "## Baixando os dados\n",
    "\n",
    "Vamos baixar os dados 2022 a 2024. Mas primeiro, um teste."
   ]
  },
  {
   "cell_type": "code",
   "execution_count": null,
   "id": "7077bbbc",
   "metadata": {},
   "outputs": [],
   "source": [
    "import io, zipfile, pandas as pd\n",
    "from pathlib import Path\n",
    "from urllib import request\n",
    "\n",
    "\n",
    "def cgu_download(year, month):\n",
    "    out_dir = Path(\"../data/inputs/cgu_nfe/\"); out_dir.mkdir(parents=True, exist_ok=True)\n",
    "    url = f\"https://portaldatransparencia.gov.br/download-de-dados/notas-fiscais/{year}{month:02d}\"\n",
    "    with request.urlopen(url) as response:\n",
    "        buf = io.BytesIO(response.read())\n",
    "    with zipfile.ZipFile(buf) as z:\n",
    "        [(out_dir / Path(n).name).write_bytes(z.read(n)) for n in z.namelist() if n.lower().endswith(\".csv\")]"
   ]
  },
  {
   "cell_type": "code",
   "execution_count": null,
   "id": "91434313",
   "metadata": {},
   "outputs": [],
   "source": [
    "cgu_download(2022, 1)"
   ]
  },
  {
   "cell_type": "code",
   "execution_count": null,
   "id": "542e39c0",
   "metadata": {},
   "outputs": [],
   "source": [
    "import os\n",
    "os.listdir(\"../data/inputs/cgu_nfe/\")"
   ]
  },
  {
   "cell_type": "markdown",
   "id": "a2ecbd5b",
   "metadata": {},
   "source": [
    "Ok, um download funcionou.  Vamos baixar todos em paralelo."
   ]
  },
  {
   "cell_type": "code",
   "execution_count": null,
   "id": "37ec9230",
   "metadata": {},
   "outputs": [],
   "source": [
    "import asyncio, nest_asyncio, tqdm.asyncio as tqdma\n",
    "nest_asyncio.apply() # Jupyter notebook async compatibility\n",
    "\n",
    "\n",
    "for year in range(2022, 2025): # max of 12 concurrent downloads\n",
    "    tasks = [asyncio.to_thread(cgu_download, year, month) for month in range(1, 13)]\n",
    "    await tqdma.tqdm.gather(*tasks, desc=f\"Downloading {year}\", total=len(tasks))"
   ]
  },
  {
   "cell_type": "code",
   "execution_count": null,
   "id": "e67b4b24",
   "metadata": {},
   "outputs": [],
   "source": [
    "os.listdir(\"../data/inputs/cgu_nfe/\")[:9]"
   ]
  },
  {
   "cell_type": "markdown",
   "id": "b6c42011",
   "metadata": {},
   "source": [
    "## Usando DuckDB para manipular os dados \n",
    "\n",
    "\n",
    "O primeiro passo é criar um arquivo duckdb com as extensões necessárias para manipular os dados."
   ]
  },
  {
   "cell_type": "code",
   "execution_count": null,
   "id": "b69cdfa8",
   "metadata": {},
   "outputs": [],
   "source": [
    "import duckdb\n",
    "def create_db(p, ext_core=(\"spatial\",\"httpfs\",\"json\",\"excel\"), ext_community=(\"zipfs\",)):\n",
    "    c = duckdb.connect(p)\n",
    "    for e in ext_core: c.install_extension(e); c.load_extension(e)\n",
    "    for e in ext_community: c.install_extension(e, repository=\"community\"); c.load_extension(e)\n",
    "    return c\n",
    "\n",
    "db = create_db(\"../data/outputs/cgu/nfe.db\")\n",
    "db.execute(\"PRAGMA version\").df()"
   ]
  },
  {
   "cell_type": "markdown",
   "id": "16fd87d5",
   "metadata": {},
   "source": [
    "Note que estamos usando versão 1.3.2 do DuckDB."
   ]
  },
  {
   "cell_type": "markdown",
   "id": "8ed1932e",
   "metadata": {},
   "source": [
    "### RAW.NFE__NOTAS"
   ]
  },
  {
   "cell_type": "code",
   "execution_count": null,
   "id": "45f36479",
   "metadata": {},
   "outputs": [],
   "source": [
    "### CGU.NOTAS"
   ]
  },
  {
   "cell_type": "code",
   "execution_count": null,
   "id": "8062c20a",
   "metadata": {},
   "outputs": [],
   "source": [
    "db.execute(\"\"\"\n",
    "CREATE SCHEMA IF NOT EXISTS raw;\n",
    "\n",
    "CREATE OR REPLACE TABLE raw.nfe__notas AS\n",
    "SELECT *\n",
    "FROM read_csv(\n",
    "    '../data/inputs/cgu_nfe/*Fiscal.csv',\n",
    "    delim=';',\n",
    "    header=true,\n",
    "    encoding='latin-1',\n",
    "    escape='\\\"',\n",
    "    auto_type_candidates=['VARCHAR']\n",
    ");\n",
    "\"\"\").df()"
   ]
  },
  {
   "cell_type": "markdown",
   "id": "78189126",
   "metadata": {
    "vscode": {
     "languageId": "bat"
    }
   },
   "source": [
    "Criamos uma tabela `raw.nfe__notas` com 5 milhões de linhas."
   ]
  },
  {
   "cell_type": "code",
   "execution_count": null,
   "id": "da8d59d8",
   "metadata": {},
   "outputs": [],
   "source": [
    "db.execute(\"describe raw.nfe__notas\").df()"
   ]
  },
  {
   "cell_type": "markdown",
   "id": "adc2faf1",
   "metadata": {},
   "source": [
    "\n",
    "O dicionário de dados com as colunas de cada arquivo pode ser encontrado em:\n",
    "\n",
    "https://portaldatransparencia.gov.br/dicionario-de-dados/notas-fiscais"
   ]
  },
  {
   "cell_type": "code",
   "execution_count": null,
   "id": "38201f58",
   "metadata": {},
   "outputs": [],
   "source": [
    "db.query(\"from raw.nfe__notas\").df().head(3)"
   ]
  },
  {
   "cell_type": "code",
   "execution_count": null,
   "id": "88fc4898",
   "metadata": {},
   "outputs": [],
   "source": [
    "db.execute(\"summarize raw.nfe__notas\").df()"
   ]
  },
  {
   "cell_type": "markdown",
   "id": "30ad5c06",
   "metadata": {},
   "source": [
    "MODELO é sempre o mesmo. \"DATA EMISSÃO\" e \"DATA/HORA EVENTO MAIS RECENTE\" são do tipo `timestamp` e \"VALOR NOTA FISCAL\" é do tipo `decimal`.  Assumindo que nenhum valor ultrapassa 999 bilhões, podemos usar decimal(14,2)."
   ]
  },
  {
   "cell_type": "code",
   "execution_count": null,
   "id": "c9d461dc",
   "metadata": {},
   "outputs": [],
   "source": [
    "db.execute(\"SELECT COUNT(*) AS n_rows FROM raw.nfe__notas\").df()\n"
   ]
  },
  {
   "cell_type": "markdown",
   "id": "f7542bd0",
   "metadata": {},
   "source": [
    "A tabela de notas tem aproximadamente 5.2 milhões de linhas.  Mas algumas são repetidas. "
   ]
  },
  {
   "cell_type": "code",
   "execution_count": null,
   "id": "4364c941",
   "metadata": {},
   "outputs": [],
   "source": [
    "db.execute(\"\"\"\n",
    "           SELECT \"CHAVE DE ACESSO\", COUNT(*) AS n_rows \n",
    "           FROM raw.nfe__notas group by \"CHAVE DE ACESSO\" \n",
    "           order by n_rows desc\"\"\").df()"
   ]
  },
  {
   "cell_type": "code",
   "execution_count": null,
   "id": "3f4c8e3a",
   "metadata": {},
   "outputs": [],
   "source": [
    "db.execute(\"\"\"       \n",
    "    SELECT \"DATA EMISSÃO\", \"EVENTO MAIS RECENTE\", \"DATA/HORA EVENTO MAIS RECENTE\", \"VALOR NOTA FISCAL\" from raw.nfe__notas where \"CHAVE DE ACESSO\" = '21240706049258000169550010002625451000741910'\n",
    "    \"\"\").df()"
   ]
  },
  {
   "cell_type": "code",
   "execution_count": null,
   "id": "74fb5f07",
   "metadata": {},
   "outputs": [],
   "source": [
    "db.execute(\"\"\"       \n",
    "    SELECT DISTINCT * from raw.nfe__notas where \"CHAVE DE ACESSO\" = '21240706049258000169550010002625451000741910'\n",
    "    \"\"\").df()"
   ]
  },
  {
   "cell_type": "code",
   "execution_count": null,
   "id": "208dfc0e",
   "metadata": {},
   "outputs": [],
   "source": [
    "distinct_notas = db.execute(\"SELECT DISTINCT * FROM raw.nfe__notas\").df()\n",
    "distinct_notas.shape"
   ]
  },
  {
   "cell_type": "code",
   "execution_count": null,
   "id": "ed1e74c0",
   "metadata": {},
   "outputs": [],
   "source": [
    "db.execute(\"\"\"SELECT SUM((REPLACE(\"VALOR NOTA FISCAL\", ',', '.')::DECIMAL(14,2))) as valor_nota FROM distinct_notas\"\"\").df()"
   ]
  },
  {
   "cell_type": "markdown",
   "id": "88fec03c",
   "metadata": {},
   "source": [
    "100 mil linhas, aproximadamente, são repetidas. E o valor total das notas é aproximadamente 232 bilhões de reais."
   ]
  },
  {
   "cell_type": "markdown",
   "id": "369325b0",
   "metadata": {},
   "source": [
    "## Normalizando os dados"
   ]
  },
  {
   "cell_type": "code",
   "execution_count": null,
   "id": "2e27bf14",
   "metadata": {},
   "outputs": [],
   "source": [
    "\n",
    "from IPython.display import display\n",
    "import numpy as np\n",
    "from decimal import Decimal\n",
    "\n",
    "pd.set_option(\"display.float_format\", lambda x: f\"{x:_.2f}\") \n",
    "def underscore_fmt(x):\n",
    "    if pd.isna(x): return \"\"\n",
    "    if isinstance(x, (int, np.integer)):   return f\"{x:_d}\"\n",
    "    if isinstance(x, (float, np.floating)): return f\"{x:_.0f}\"\n",
    "    if isinstance(x, Decimal):             return f\"{x:_.0f}\"\n",
    "    return x\n",
    "\n"
   ]
  },
  {
   "cell_type": "code",
   "execution_count": null,
   "id": "3ea36699",
   "metadata": {},
   "outputs": [],
   "source": [
    "cols = db.execute(\"\"\"\n",
    "SELECT column_name\n",
    "FROM (summarize raw.nfe__notas)\n",
    "WHERE approx_unique < 30\n",
    "\"\"\").df()[\"column_name\"].tolist()\n",
    "cols"
   ]
  },
  {
   "cell_type": "code",
   "execution_count": null,
   "id": "f3706048",
   "metadata": {},
   "outputs": [],
   "source": [
    "\n",
    "qid = lambda c: '\"' + c.replace('\"', '\"\"') + '\"'\n",
    "\n",
    "# build UNION of per-column distinct lists\n",
    "sql = \" UNION ALL \".join(\n",
    "    f\"\"\"\n",
    "    SELECT \n",
    "        '{c}' AS column_name, \n",
    "        len(LIST(DISTINCT {qid(c)})) AS n_distinct,\n",
    "        LIST_SORT(LIST(DISTINCT {qid(c)})) AS distinct_values\n",
    "    FROM raw.nfe__notas\n",
    "    \"\"\"\n",
    "    for c in cols\n",
    ")\n",
    "\n",
    "\n",
    "enum_df = db.execute(sql).df()\n",
    "\n",
    "enum_df"
   ]
  },
  {
   "cell_type": "code",
   "execution_count": null,
   "id": "165a70b9",
   "metadata": {},
   "outputs": [],
   "source": [
    "list(enum_df.distinct_values)"
   ]
  },
  {
   "cell_type": "code",
   "execution_count": null,
   "id": "e0796be5",
   "metadata": {},
   "outputs": [],
   "source": [
    "create_enums_sql = \"\"\"\n",
    "DROP TYPE IF EXISTS tipo_modelo;\n",
    "CREATE TYPE tipo_modelo AS ENUM ('55 - NF-E EMITIDA EM SUBSTITUIÇÃO AO MODELO 1 OU 1A');\n",
    "\n",
    "DROP TYPE IF EXISTS tipo_evento;\n",
    "CREATE TYPE tipo_evento AS ENUM (\n",
    "    'Autorização de Uso', \n",
    "    'Cancelamento da NF-e', \n",
    "    'Carta de correção',\n",
    "    'Manifestação do destinatário - Ciência da operação',\n",
    "    'Manifestação do destinatário - Confirmação da operação',\n",
    "    'Manifestação do destinatário - Desconhecimento da operação',\n",
    "    'Manifestação do destinatário - Operação não realizada',\n",
    "    'Sem informação'\n",
    ");\n",
    "\n",
    "DROP TYPE IF EXISTS uf;\n",
    "CREATE TYPE uf AS ENUM (\n",
    "    'AC', 'AL', 'AM', 'AP', 'BA', 'CE', 'DF', 'ES', 'GO',\n",
    "    'MA', 'MG', 'MS', 'MT', 'PA', 'PB', 'PE', 'PI', 'PR',\n",
    "    'RJ', 'RN', 'RO', 'RR', 'RS', 'SC', 'SE', 'SP', 'TO'\n",
    ");\n",
    "\n",
    "DROP TYPE IF EXISTS tipo_contribuinte;\n",
    "CREATE TYPE tipo_contribuinte AS ENUM (\n",
    "    'CONTRIBUINTE ICMS',\n",
    "    'CONTRIBUINTE ISENTO', \n",
    "    'NÃO CONTRIBUINTE'\n",
    ");\n",
    "\n",
    "DROP TYPE IF EXISTS tipo_destino;\n",
    "CREATE TYPE tipo_destino AS ENUM (\n",
    "    '1 - OPERAÇÃO INTERNA',\n",
    "    '2 - OPERAÇÃO INTERESTADUAL',\n",
    "    '3 - OPERAÇÃO COM EXTERIOR'\n",
    ");\n",
    "\n",
    "DROP TYPE IF EXISTS tipo_consumidor;\n",
    "CREATE TYPE tipo_consumidor AS ENUM (\n",
    "    '0 - NORMAL',\n",
    "    '1 - CONSUMIDOR FINAL'\n",
    ");\n",
    "\n",
    "DROP TYPE IF EXISTS tipo_presenca;\n",
    "CREATE TYPE tipo_presenca AS ENUM (\n",
    "    '0 - NÃO SE APLICA',\n",
    "    '1 - OPERAÇÃO PRESENCIAL',\n",
    "    '2 - OPERAÇÃO NÃO PRESENCIAL, PELA INTERNET',\n",
    "    '3 - OPERAÇÃO NÃO PRESENCIAL, TELEATENDIMENTO',\n",
    "    '5 - NÃO INFORMADO',\n",
    "    '9 - OPERAÇÃO NÃO PRESENCIAL, OUTROS'\n",
    ");\n",
    "\"\"\""
   ]
  },
  {
   "cell_type": "code",
   "execution_count": null,
   "id": "9d472530",
   "metadata": {},
   "outputs": [],
   "source": [
    "db.execute(\"CREATE SCHEMA IF NOT EXISTS cgu;\")\n",
    "db.execute(create_enums_sql)\n"
   ]
  },
  {
   "cell_type": "code",
   "execution_count": null,
   "id": "e1a9e578",
   "metadata": {},
   "outputs": [],
   "source": [
    "db.execute(\"select column_name from (describe raw.nfe__notas)\").df()[\"column_name\"].to_list()"
   ]
  },
  {
   "cell_type": "code",
   "execution_count": null,
   "id": "6785c340",
   "metadata": {},
   "outputs": [],
   "source": [
    "create_cgu__notas_sql = \"\"\"\n",
    "SELECT DISTINCT\n",
    "  \"CHAVE DE ACESSO\" AS chave_acesso, -- identificador único da nota fiscal eletrônica\n",
    "  \"MODELO\"::tipo_modelo AS modelo, -- código do modelo de documento fiscal (sempre 55 - NFE)\n",
    "  \"SÉRIE\"::USMALLINT AS serie, -- série da nota fiscal. juntamente com o número identifica unicamente a nota fiscal\n",
    "  \"NÚMERO\"::BIGINT AS numero, -- número da nota fiscal. juntamente com a série identifica unicamente a nota fiscal\n",
    "  \"NATUREZA DA OPERAÇÃO\" AS natureza_operacao, -- descrição da natureza da operação. campo de preenchimento livre.\n",
    "  strptime(\"DATA EMISSÃO\", '%d/%m/%Y %H:%M:%S') AS timestamp_emissao, -- data e hora de emissão da nota fiscal\n",
    "  timestamp_emissao::date AS data_emissao, -- data de emissão da nota fiscal\n",
    "  month(data_emissao)::INT AS mes_emissao, -- mês de emissão da nota fiscal\n",
    "  year(data_emissao)::INT AS ano_emissao, -- ano de emissão da nota fiscal\n",
    "  \"EVENTO MAIS RECENTE\"::tipo_evento AS ultimo_evento, -- evento mais recente associado a nota fiscal (indica status atual da nota)\n",
    "  strptime(\"DATA/HORA EVENTO MAIS RECENTE\", '%d/%m/%Y %H:%M:%S') AS timestamp_ultimo_evento, -- data e hora da última atualização do status da nota fiscal\n",
    "  \"CPF/CNPJ Emitente\" AS emitente, -- cpf ou cnpj emissor da nota fiscal. fornecedor.\n",
    "  \"RAZÃO SOCIAL EMITENTE\" AS nome_emitente, -- razão social do emissor da nota fiscal\n",
    "  \"INSCRIÇÃO ESTADUAL EMITENTE\"::BIGINT AS inscricao_estadual_emitente, -- inscrição estadual do emissor da nota fiscal\n",
    "  \"UF EMITENTE\"::uf AS uf_emitente, -- sigla unidade federativa do emissor da nota fiscal\n",
    "  \"MUNICÍPIO EMITENTE\" AS municipio_emitente, -- nome município do emissor da nota fiscal. \n",
    "  \"CÓDIGO ÓRGÃO SUPERIOR DESTINATÁRIO\"::INT as codigo_orgao_superior_destinatario, -- código do órgão superior destinatário da nota fiscal\n",
    "  \"ÓRGÃO SUPERIOR DESTINATÁRIO\" AS orgao_superior_destinatario, -- código do órgão superior destinatário da nota fiscal\n",
    "  \"CÓDIGO ÓRGÃO DESTINATÁRIO\"::INT AS codigo_orgao_destinatario, -- código do órgão destinatário da nota fiscal\n",
    "  \"ÓRGÃO DESTINATÁRIO\" AS orgao_destinatario,\n",
    "  \"CNPJ DESTINATÁRIO\" AS destinatario, -- cnpj do destinatário da nota fiscal. cliente.\n",
    "  \"NOME DESTINATÁRIO\" AS nome_destinatario, -- nome do destinatário da nota fiscal\n",
    "  \"UF DESTINATÁRIO\"::uf AS uf_destinatario, -- sigla da unidade federativa do destinatário da nota fiscal\n",
    "  \"INDICADOR IE DESTINATÁRIO\"::tipo_contribuinte AS indicador_ie_destinatario, -- indicador de inscrição estadual do destinatário da nota fiscal\n",
    "  \"DESTINO DA OPERAÇÃO\"::tipo_destino AS destino_operacao, -- destino da operação da nota fiscal (interna, interestadual, exterior)\n",
    "  \"CONSUMIDOR FINAL\"::tipo_consumidor AS indicador_consumidor_final, -- indica se o destinatário é consumidor final (0 - normal, 1 - consumidor final)\n",
    "  \"PRESENÇA DO COMPRADOR\"::tipo_presenca AS indicador_presenca_comprador, -- indica se o comprador estava presente na operação (0 - não se aplica, 1 - presencial, 2 - não presencial, 3 - teleatendimento, 5 - não informado, 9 - outros)  \n",
    "  REPLACE(\"VALOR NOTA FISCAL\", ',', '.')::decimal(14,2) AS valor_nota_fiscal -- valor total da nota fiscal\n",
    "FROM raw.nfe__notas order by timestamp_emissao; \n",
    "\"\"\""
   ]
  },
  {
   "cell_type": "code",
   "execution_count": null,
   "id": "7be1d5b0",
   "metadata": {},
   "outputs": [],
   "source": [
    "db.execute(\"CREATE OR REPLACE TABLE cgu.notas AS \" + create_cgu__notas_sql).df()"
   ]
  },
  {
   "cell_type": "code",
   "execution_count": null,
   "id": "8e8ab499",
   "metadata": {},
   "outputs": [],
   "source": [
    "db.execute(\"from cgu.notas limit 2\").df()"
   ]
  },
  {
   "cell_type": "code",
   "execution_count": null,
   "id": "18a97e2d",
   "metadata": {},
   "outputs": [],
   "source": [
    "db.execute(\"select sum(valor_nota_fiscal) as sum_decimal, sum(valor_nota_fiscal::float) as sum_float from cgu.notas\").df()"
   ]
  },
  {
   "cell_type": "markdown",
   "id": "9db3c879",
   "metadata": {},
   "source": [
    "É importante usar decimal para evitar problemas de precisão com valores monetários."
   ]
  },
  {
   "cell_type": "markdown",
   "id": "97be0ced",
   "metadata": {},
   "source": [
    "#### Usando 2024 para checar os dados"
   ]
  },
  {
   "cell_type": "code",
   "execution_count": null,
   "id": "84e8c6c3",
   "metadata": {},
   "outputs": [],
   "source": [
    "db.execute(\"select sum(valor_nota_fiscal) from cgu.notas where ano_emissao = 2024\").df()"
   ]
  },
  {
   "cell_type": "markdown",
   "id": "576bb8a2",
   "metadata": {},
   "source": [
    "Esse valor ainda não bate com o relatório do Portal da Transparência, que diz que há 1.7 milhões de notas e um valor de 72 bilhões de reais.\n",
    "\n",
    "![](./portal_2024.png)"
   ]
  },
  {
   "cell_type": "code",
   "execution_count": null,
   "id": "51a04529",
   "metadata": {},
   "outputs": [],
   "source": [
    "df = db.execute(\"FROM cgu.notas where ano_emissao = 2024\").df()\n",
    "df.shape"
   ]
  },
  {
   "cell_type": "markdown",
   "id": "58ae83b0",
   "metadata": {},
   "source": [
    "Mas a quantidade de notas é bem próxima. Provavelmente estamos contando notas que foram canceladas. O estranho é que considerando então menos notas, o valor total deveria ser ainda menor."
   ]
  },
  {
   "cell_type": "code",
   "execution_count": null,
   "id": "3cd21485",
   "metadata": {},
   "outputs": [],
   "source": [
    "db.execute(\"\"\"\n",
    "SELECT numero, serie, emitente, destinatario, COUNT(*) AS chaves\n",
    "FROM cgu.notas where ano_emissao = 2024\n",
    "GROUP BY ALL\n",
    "HAVING chaves > 1\n",
    "ORDER BY chaves DESC\n",
    "\"\"\").df()"
   ]
  },
  {
   "cell_type": "code",
   "execution_count": null,
   "id": "8b7d451c",
   "metadata": {},
   "outputs": [],
   "source": [
    "1_631_584 - 1_631_490"
   ]
  },
  {
   "cell_type": "code",
   "execution_count": null,
   "id": "af794bac",
   "metadata": {},
   "outputs": [],
   "source": [
    "dedupl = db.execute(\"\"\"\n",
    "SELECT *\n",
    "FROM (\n",
    "  SELECT\n",
    "    chave_acesso, numero, serie, emitente, destinatario,\n",
    "    timestamp_emissao, ultimo_evento, timestamp_ultimo_evento,\n",
    "    ROW_NUMBER() OVER (\n",
    "      PARTITION BY numero, serie, emitente, destinatario\n",
    "      ORDER BY timestamp_emissao DESC, timestamp_ultimo_evento DESC\n",
    "    ) AS rn\n",
    "  FROM cgu.notas\n",
    ")\n",
    "WHERE rn = 1\n",
    "ORDER BY numero, serie, emitente, destinatario, timestamp_emissao DESC, timestamp_ultimo_evento DESC\n",
    "\"\"\").df()\n",
    "dedupl"
   ]
  },
  {
   "cell_type": "code",
   "execution_count": null,
   "id": "1420f29b",
   "metadata": {},
   "outputs": [],
   "source": [
    "dedupl_sql = \"\"\"\n",
    "ALTER TABLE cgu.notas\n",
    "ADD COLUMN IF NOT EXISTS duplicada BOOLEAN DEFAULT FALSE;\n",
    "\n",
    "UPDATE cgu.notas AS n\n",
    "SET duplicada = TRUE\n",
    "FROM (\n",
    "  SELECT\n",
    "    chave_acesso,\n",
    "    ROW_NUMBER() OVER (\n",
    "      PARTITION BY numero, serie, emitente, destinatario\n",
    "      ORDER BY timestamp_emissao DESC, timestamp_ultimo_evento DESC\n",
    "    ) AS rn\n",
    "  FROM cgu.notas\n",
    ") d\n",
    "WHERE n.chave_acesso = d.chave_acesso\n",
    "  AND d.rn > 1;\n",
    "\"\"\"\n",
    "db.execute(dedupl_sql)\n"
   ]
  },
  {
   "cell_type": "code",
   "execution_count": null,
   "id": "16fedc49",
   "metadata": {},
   "outputs": [],
   "source": [
    "db.query(\"SELECT COUNT(*) AS valid_rows FROM cgu.notas WHERE duplicada=FALSE AND ano_emissao = 2024\").df()"
   ]
  },
  {
   "cell_type": "code",
   "execution_count": null,
   "id": "9a44515c",
   "metadata": {},
   "outputs": [],
   "source": [
    "db.query(\"SELECT sum(valor_nota_fiscal) FROM cgu.notas WHERE duplicada=FALSE AND ano_emissao = 2024\").df()"
   ]
  },
  {
   "cell_type": "markdown",
   "id": "e50e5762",
   "metadata": {},
   "source": [
    "Agora há 1_631_342 notas válidas para 2024, com um total de aproximadamente 70 bilhões de reais.\n",
    "Um pouco diferente do que o Portal da Transparência diz, mas bem próximo (1_631_490 e 72 bilhões de reais).\n",
    "Vamos ver se os valores fazem sentido."
   ]
  },
  {
   "cell_type": "code",
   "execution_count": null,
   "id": "f1eec771",
   "metadata": {},
   "outputs": [],
   "source": [
    "db.query(\"SELECT uf_destinatario, sum(valor_nota_fiscal) FROM cgu.notas WHERE uf_destinatario in ('PB', 'SP') and duplicada=FALSE AND ano_emissao = 2024 group by ALL\").df()"
   ]
  },
  {
   "cell_type": "code",
   "execution_count": null,
   "id": "acb84135",
   "metadata": {},
   "outputs": [],
   "source": []
  },
  {
   "cell_type": "code",
   "execution_count": null,
   "id": "0df9075f",
   "metadata": {},
   "outputs": [],
   "source": [
    "db.query(\"SELECT ultimo_evento, count(*) as n  FROM cgu.notas WHERE duplicada=FALSE AND ano_emissao = 2024 group by all\").df()"
   ]
  },
  {
   "cell_type": "code",
   "execution_count": null,
   "id": "7363302b",
   "metadata": {},
   "outputs": [],
   "source": [
    "db.execute(\"\"\"\n",
    "SELECT chave_acesso, numero, serie, emitente, timestamp_emissao, ultimo_evento, timestamp_ultimo_evento, valor_nota_fiscal\n",
    "FROM cgu.notas\n",
    "WHERE ultimo_evento = 'Cancelamento da NF-e'\n",
    "\"\"\").df()"
   ]
  },
  {
   "cell_type": "code",
   "execution_count": null,
   "id": "e9421f88",
   "metadata": {},
   "outputs": [],
   "source": [
    "db.execute(\"\"\"\n",
    "SELECT *\n",
    "FROM cgu.notas where ultimo_evento = 'Cancelamento da NF-e'\n",
    "and ano_emissao = 2024\n",
    "\"\"\").df()"
   ]
  },
  {
   "cell_type": "markdown",
   "id": "c1c6c6c4",
   "metadata": {},
   "source": [
    "Só há cancelamentos em 2022 e 2023. Em 2024 não há cancelamentos."
   ]
  },
  {
   "cell_type": "code",
   "execution_count": null,
   "id": "939c8c88",
   "metadata": {},
   "outputs": [],
   "source": [
    "db.execute(\"\"\"\n",
    "SELECT chave_acesso, numero, serie, emitente, timestamp_emissao, ultimo_evento, timestamp_ultimo_evento, valor_nota_fiscal\n",
    "FROM cgu.notas\n",
    "WHERE (numero, serie, emitente) IN (\n",
    "  SELECT numero, serie, emitente\n",
    "  FROM cgu.notas\n",
    "  GROUP BY ALL\n",
    "  HAVING COUNT(*) > 1\n",
    ")\n",
    "ORDER BY numero asc, serie asc, emitente asc, timestamp_emissao desc\n",
    "\"\"\").df()"
   ]
  },
  {
   "cell_type": "code",
   "execution_count": null,
   "id": "4afb8856",
   "metadata": {},
   "outputs": [],
   "source": [
    "db.execute(\"\"\"\n",
    "SELECT chave_acesso, numero, serie, emitente, destinatario, timestamp_emissao,ultimo_evento, valor_nota_fiscal\n",
    "FROM cgu.notas\n",
    "WHERE (numero, serie, emitente, destinatario) IN (\n",
    "    SELECT numero, serie, emitente, destinatario\n",
    "    FROM cgu.notas where ano_emissao = 2024\n",
    "    GROUP BY ALL\n",
    "    HAVING COUNT(*) > 1\n",
    "    \n",
    ")\n",
    "ORDER BY numero asc, serie asc, emitente asc, timestamp_emissao desc\n",
    "\"\"\").df()"
   ]
  },
  {
   "cell_type": "markdown",
   "id": "e443ad7b",
   "metadata": {},
   "source": [
    "#### Usando 2023"
   ]
  },
  {
   "cell_type": "markdown",
   "id": "df4dd67b",
   "metadata": {},
   "source": [
    "![](./portal2023.png)"
   ]
  },
  {
   "cell_type": "code",
   "execution_count": null,
   "id": "3f1f121b",
   "metadata": {},
   "outputs": [],
   "source": [
    "display(db.execute(\"\"\"\n",
    "SELECT count(*)\n",
    "FROM cgu.notas \n",
    "where ano_emissao = 2023\n",
    "\"\"\").df().style.format(underscore_fmt))"
   ]
  },
  {
   "cell_type": "code",
   "execution_count": null,
   "id": "077ff5ad",
   "metadata": {},
   "outputs": [],
   "source": [
    "db.execute(\"\"\"\n",
    "SELECT sum(valor_nota_fiscal) as valor_total\n",
    "FROM cgu.notas \n",
    "where ano_emissao = 2023\n",
    "\"\"\").df()"
   ]
  },
  {
   "cell_type": "code",
   "execution_count": null,
   "id": "553d5639",
   "metadata": {},
   "outputs": [],
   "source": [
    "display(db.execute(\"\"\"\n",
    "SELECT count(*)\n",
    "FROM cgu.notas \n",
    "where ano_emissao = 2023 and ultimo_evento != 'Cancelamento da NF-e'\n",
    "\"\"\").df().style.format(underscore_fmt))"
   ]
  },
  {
   "cell_type": "code",
   "execution_count": null,
   "id": "dd052a31",
   "metadata": {},
   "outputs": [],
   "source": [
    "db.execute(\"\"\"\n",
    "SELECT sum(valor_nota_fiscal) as valor_total\n",
    "FROM cgu.notas \n",
    "where ano_emissao = 2023 and ultimo_evento != 'Cancelamento da NF-e'\n",
    "\"\"\").df()"
   ]
  },
  {
   "cell_type": "code",
   "execution_count": null,
   "id": "dd4f46a9",
   "metadata": {},
   "outputs": [],
   "source": [
    "display(db.execute(\"\"\"\n",
    "SELECT count(*)\n",
    "FROM cgu.notas \n",
    "where ano_emissao = 2023 and duplicada=FALSE\n",
    "\"\"\").df().style.format(underscore_fmt))"
   ]
  },
  {
   "cell_type": "code",
   "execution_count": null,
   "id": "c09e8fbf",
   "metadata": {},
   "outputs": [],
   "source": [
    "display(db.execute(\"\"\"\n",
    "SELECT count(*)\n",
    "FROM cgu.notas \n",
    "where ano_emissao = 2023 and duplicada=FALSE and ultimo_evento != 'Cancelamento da NF-e'\n",
    "\"\"\").df().style.format(underscore_fmt))"
   ]
  },
  {
   "cell_type": "code",
   "execution_count": null,
   "id": "3e467d45",
   "metadata": {},
   "outputs": [],
   "source": [
    "db.execute(\"\"\"\n",
    "SELECT sum(valor_nota_fiscal) as valor_total\n",
    "FROM cgu.notas \n",
    "where ano_emissao = 2023 and duplicada=FALSE and ultimo_evento != 'Cancelamento da NF-e'\n",
    "\"\"\").df()"
   ]
  },
  {
   "cell_type": "markdown",
   "id": "4f428ee1",
   "metadata": {},
   "source": [
    "### Checando participação da Saúde"
   ]
  },
  {
   "cell_type": "code",
   "execution_count": null,
   "id": "5dcf1685",
   "metadata": {},
   "outputs": [],
   "source": [
    "db.execute(\"\"\" SELECT distinct orgao_superior_destinatario, codigo_orgao_superior_destinatario FROM cgu.notas order by codigo_orgao_superior_destinatario\"\"\").df()"
   ]
  },
  {
   "cell_type": "code",
   "execution_count": null,
   "id": "01c2d112",
   "metadata": {},
   "outputs": [],
   "source": [
    "db.execute(\"\"\"\n",
    "SELECT ano_emissao, sum(valor_nota_fiscal) as valor_total\n",
    "FROM cgu.notas \n",
    "where duplicada=FALSE and ultimo_evento != 'Cancelamento da NF-e' and codigo_orgao_superior_destinatario = 36000\n",
    "group by ano_emissao\n",
    "\"\"\").df()"
   ]
  },
  {
   "cell_type": "code",
   "execution_count": null,
   "id": "e1a5d2c0",
   "metadata": {},
   "outputs": [],
   "source": [
    "db.execute(\"\"\"\n",
    "SELECT \n",
    "    ano_emissao,\n",
    "    SUM(CASE WHEN codigo_orgao_superior_destinatario = 36000 THEN valor_nota_fiscal ELSE 0 END) AS valor_saude,\n",
    "    SUM(valor_nota_fiscal) AS valor_total,\n",
    "    100.0 * SUM(CASE WHEN codigo_orgao_superior_destinatario = 36000 THEN valor_nota_fiscal ELSE 0 END) \n",
    "          / SUM(valor_nota_fiscal) AS pct\n",
    "FROM cgu.notas \n",
    "WHERE duplicada = FALSE \n",
    "  AND ultimo_evento != 'Cancelamento da NF-e'\n",
    "GROUP BY ano_emissao\n",
    "ORDER BY ano_emissao\n",
    "\"\"\").df()"
   ]
  },
  {
   "cell_type": "code",
   "execution_count": null,
   "id": "b6e604fe",
   "metadata": {},
   "outputs": [],
   "source": []
  },
  {
   "cell_type": "code",
   "execution_count": null,
   "id": "56aadb2a",
   "metadata": {},
   "outputs": [],
   "source": []
  },
  {
   "cell_type": "markdown",
   "id": "8ff164c4",
   "metadata": {},
   "source": [
    "### RAW.NFE__ITENS"
   ]
  },
  {
   "cell_type": "code",
   "execution_count": null,
   "id": "f948ca05",
   "metadata": {},
   "outputs": [],
   "source": [
    "db.execute(\"\"\"\n",
    "CREATE OR REPLACE TABLE raw.nfe__itens AS\n",
    "SELECT *\n",
    "FROM read_csv(\n",
    "    '../data/inputs/cgu_nfe/*Item.csv',\n",
    "    delim=';',\n",
    "    header=true,\n",
    "    encoding='latin-1',\n",
    "    escape='\\\"',\n",
    "    auto_type_candidates=['VARCHAR']\n",
    ");\n",
    "\"\"\").df()"
   ]
  },
  {
   "cell_type": "code",
   "execution_count": null,
   "id": "d0d4b7c7",
   "metadata": {},
   "outputs": [],
   "source": [
    "num_itens = db.execute(\"\"\" SELECT COUNT(*) FROM raw.nfe__itens \"\"\").df()\n",
    "num_itens.style.format(underscore_fmt)\n"
   ]
  },
  {
   "cell_type": "code",
   "execution_count": null,
   "id": "2752378a",
   "metadata": {},
   "outputs": [],
   "source": [
    "db.execute(\"DESCRIBE raw.nfe__itens\").df()"
   ]
  },
  {
   "cell_type": "code",
   "execution_count": null,
   "id": "54e13fd1",
   "metadata": {},
   "outputs": [],
   "source": [
    "db.query(\"SELECT sum(valor_nota_fiscal) FROM cgu.notas WHERE duplicada=FALSE AND ano_emissao = 2024\").df()"
   ]
  },
  {
   "cell_type": "code",
   "execution_count": null,
   "id": "2749f7cf",
   "metadata": {},
   "outputs": [],
   "source": [
    "db.execute(\"\"\" SELECT sum((REPLACE(\"VALOR TOTAL\", ',', '.')::decimal(14,2))) as valor_total FROM raw.nfe__itens where \"CHAVE DE ACESSO\" in (select chave_acesso from cgu.notas where ano_emissao = 2024 and duplicada = FALSE)\"\"\").df()"
   ]
  },
  {
   "cell_type": "markdown",
   "id": "01d677e3",
   "metadata": {},
   "source": [
    "Valores deveriam bater"
   ]
  },
  {
   "cell_type": "code",
   "execution_count": null,
   "id": "5aa058e6",
   "metadata": {},
   "outputs": [],
   "source": [
    "db.execute(\"\"\" SELECT sum((REPLACE(\"VALOR TOTAL\", ',', '.')::decimal(14,2))) as valor_total FROM raw.nfe__itens where \"CHAVE DE ACESSO\" in (select chave_acesso from cgu.notas where ano_emissao = 2023 and duplicada = FALSE and ultimo_evento!= 'Cancelamento da NF-e')\"\"\").df()"
   ]
  },
  {
   "cell_type": "code",
   "execution_count": null,
   "id": "642be457",
   "metadata": {},
   "outputs": [],
   "source": [
    "db.execute(\"\"\"SELECT \"CHAVE DE ACESSO\" from raw.nfe__itens where \"CHAVE DE ACESSO\" not in (select chave_acesso from cgu.notas)\"\"\").df()"
   ]
  },
  {
   "cell_type": "markdown",
   "id": "5b425aea",
   "metadata": {},
   "source": [
    "Ok, todas as chaves de acesso da tabela de itens estão na tabela de notas."
   ]
  },
  {
   "cell_type": "code",
   "execution_count": null,
   "id": "d00edce9",
   "metadata": {},
   "outputs": [],
   "source": [
    "db.execute(\"select column_name from (describe raw.nfe__itens)\").df()[\"column_name\"].to_list()"
   ]
  },
  {
   "cell_type": "code",
   "execution_count": null,
   "id": "b1eda63b",
   "metadata": {},
   "outputs": [],
   "source": [
    "itens_sql = \"\"\"\n",
    "SELECT DISTINCT\n",
    "  \"CHAVE DE ACESSO\" AS chave_acesso,\n",
    "  strptime(\"DATA EMISSÃO\", '%d/%m/%Y %H:%M:%S') AS timestamp_emissao,\n",
    "  \"CÓDIGO ÓRGÃO SUPERIOR DESTINATÁRIO\"::INT AS codigo_orgao_superior_destinatario, -- código do órgão superior destinatário da nota fiscal\n",
    "  \"CÓDIGO ÓRGÃO DESTINATÁRIO\"::INT AS codigo_orgao_destinatario, -- código do órgão destinatário da nota fiscal\n",
    "  timestamp_emissao::date AS data_emissao, -- data de emissão da nota fiscal\n",
    "  month(data_emissao)::INT AS mes_emissao, -- mês de emissão da nota fiscal\n",
    "  year(data_emissao)::INT AS ano_emissao, -- ano de emissão da nota fiscal\n",
    "  \"NÚMERO PRODUTO\"::SMALLINT AS numero_produto,\n",
    "  \"DESCRIÇÃO DO PRODUTO/SERVIÇO\" AS descricao_produto,\n",
    "  \"CÓDIGO NCM/SH\" AS ncm,\n",
    "  \"NCM/SH (TIPO DE PRODUTO)\" AS descricao_ncm,\n",
    "  \"CFOP\"::SMALLINT AS cfop,\n",
    "  REPLACE(\"QUANTIDADE\", ',', '.')::DECIMAL(14,2) AS quantidade,\n",
    "  \"UNIDADE\" AS unidade,\n",
    "  REPLACE(\"VALOR UNITÁRIO\", ',', '.')::DECIMAL(14,2) AS valor_unitario,\n",
    "  REPLACE(\"VALOR TOTAL\", ',', '.')::DECIMAL(14,2) AS valor_item\n",
    "FROM raw.nfe__itens order by chave_acesso, numero_produto\n",
    "\"\"\"\n",
    "\n",
    "db.execute(f\"CREATE OR REPLACE TABLE cgu.itens AS {itens_sql}\").df()"
   ]
  },
  {
   "cell_type": "code",
   "execution_count": null,
   "id": "67161c38",
   "metadata": {},
   "outputs": [],
   "source": [
    "db.execute(\"\"\" FROM cgu.itens limit 3\"\"\").df()"
   ]
  },
  {
   "cell_type": "code",
   "execution_count": null,
   "id": "06c82392",
   "metadata": {},
   "outputs": [],
   "source": [
    "db.execute(\"\"\"SELECT ano_emissao, sum(valor_item) FROM cgu.itens group by ano_emissao order by ano_emissao\"\"\").df()"
   ]
  },
  {
   "cell_type": "code",
   "execution_count": null,
   "id": "a70fc467",
   "metadata": {},
   "outputs": [],
   "source": []
  },
  {
   "cell_type": "code",
   "execution_count": null,
   "id": "ac143eea",
   "metadata": {},
   "outputs": [],
   "source": []
  },
  {
   "cell_type": "markdown",
   "id": "645f1e4c",
   "metadata": {},
   "source": [
    "### RAW.NFE__EVENTOS"
   ]
  },
  {
   "cell_type": "code",
   "execution_count": null,
   "id": "a56d70ff",
   "metadata": {},
   "outputs": [],
   "source": [
    "db.execute(\"\"\"\n",
    "CREATE OR REPLACE TABLE raw.nfe__eventos AS\n",
    "SELECT *\n",
    "FROM read_csv(\n",
    "    '../data/inputs/cgu_nfe/*Evento.csv',\n",
    "    delim=';',\n",
    "    header=true,\n",
    "    encoding='latin-1',\n",
    "    escape='\\\"',\n",
    "    auto_type_candidates=['VARCHAR']\n",
    ");\n",
    "\"\"\").df()"
   ]
  },
  {
   "cell_type": "code",
   "execution_count": null,
   "id": "d30a4f6f",
   "metadata": {},
   "outputs": [],
   "source": [
    "num_eventos = db.execute(\"\"\" SELECT COUNT(*) FROM raw.nfe__eventos \"\"\").df()\n",
    "num_eventos.style.format(underscore_fmt)"
   ]
  },
  {
   "cell_type": "code",
   "execution_count": null,
   "id": "26cf4cf7",
   "metadata": {},
   "outputs": [],
   "source": [
    "num_eventos = db.execute(\"\"\" SELECT COUNT(*) FROM (SELECT DISTINCT * FROM raw.nfe__eventos) AS subquery \"\"\").df()\n",
    "num_eventos.style.format(underscore_fmt)"
   ]
  },
  {
   "cell_type": "code",
   "execution_count": null,
   "id": "9586b1c8",
   "metadata": {},
   "outputs": [],
   "source": [
    "db.execute(\"summarize raw.nfe__eventos\").df()"
   ]
  },
  {
   "cell_type": "code",
   "execution_count": null,
   "id": "bb8ca0bf",
   "metadata": {},
   "outputs": [],
   "source": [
    "eventos_sql = \"\"\"\n",
    "SELECT DISTINCT\n",
    "    \"CHAVE DE ACESSO\" AS chave_acesso, -- identificador da nota fiscal em que este evento foi registrado. juntamente com timestamp_evento, forma a chave primária\n",
    "    \"SÉRIE\" AS serie, -- série da nota fiscal. juntamente com o número identifica unicamente a nota fiscal de um emitente\n",
    "    \"NÚMERO\" AS numero, -- número da nota fiscal. juntamente com a série identifica unicamente a nota fiscal de um emitente\n",
    "    \"NATUREZA DA OPERAÇÃO\" AS natureza_operacao, -- descrição da natureza da operação. campo de preenchimento livre.\n",
    "    strptime(\"DATA EMISSÃO\", '%d/%m/%Y %H:%M:%S') AS timestamp_emissao, -- data e hora de emissão da nota fiscal\n",
    "    \"EVENTO\" AS evento, -- tipo de evento registrado (autorização de uso, cancelamento, etc)\n",
    "    strptime(\"DATA/HORA EVENTO\", '%d/%m/%Y %H:%M:%S') AS timestamp_evento, -- data e hora do evento\n",
    "    \"DESCRIÇÃO EVENTO\" AS descricao_evento, -- descrição do evento (Protocolo)\n",
    "    \"MOTIVO EVENTO\" AS motivo_evento, -- motivo do evento. campo de preenchimento livre.\n",
    "FROM raw.nfe__eventos order by chave_acesso, timestamp_evento desc; \n",
    "\"\"\"\n",
    "num_eventos = db.execute(\"CREATE TABLE IF NOT EXISTS cgu.eventos AS \" + eventos_sql).df()\n",
    "num_eventos.style.format(underscore_fmt)"
   ]
  },
  {
   "cell_type": "code",
   "execution_count": null,
   "id": "9c944763",
   "metadata": {},
   "outputs": [],
   "source": [
    "eventos = db.execute(\"\"\"FROM cgu.eventos\"\"\").df()\n",
    "eventos"
   ]
  },
  {
   "cell_type": "code",
   "execution_count": null,
   "id": "96ec85dd",
   "metadata": {},
   "outputs": [],
   "source": [
    "db.execute(\"SELECT * FROM cgu.notas where chave_acesso = '28220137937325000105550010000003631472879112'\").df()\n"
   ]
  },
  {
   "cell_type": "code",
   "execution_count": null,
   "id": "832ed2f6",
   "metadata": {},
   "outputs": [],
   "source": [
    "db.execute(\"SELECT * FROM cgu.eventos where emitente = '29369516000351'\").df()"
   ]
  }
 ],
 "metadata": {
  "kernelspec": {
   "display_name": "pipelines (3.13.0)",
   "language": "python",
   "name": "python3"
  },
  "language_info": {
   "codemirror_mode": {
    "name": "ipython",
    "version": 3
   },
   "file_extension": ".py",
   "mimetype": "text/x-python",
   "name": "python",
   "nbconvert_exporter": "python",
   "pygments_lexer": "ipython3",
   "version": "3.13.0"
  }
 },
 "nbformat": 4,
 "nbformat_minor": 5
}
