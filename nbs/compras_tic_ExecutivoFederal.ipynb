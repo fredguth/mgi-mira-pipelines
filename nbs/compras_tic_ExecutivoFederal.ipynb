{
 "cells": [
  {
   "cell_type": "markdown",
   "id": "e134b6d3-7cfd-4600-a8f3-baa47f2e4d80",
   "metadata": {},
   "source": [
    "# Compras Públicas em TIC"
   ]
  },
  {
   "cell_type": "code",
   "execution_count": 1,
   "id": "8b715e0c-5b8b-4192-867a-92455301f6aa",
   "metadata": {},
   "outputs": [],
   "source": [
    "import pandas as pd\n",
    "pd.options.display.float_format = \"{:_.0f}\".format "
   ]
  },
  {
   "cell_type": "code",
   "execution_count": 2,
   "id": "47038a03-764e-4c3c-bc75-555aae2f9cc1",
   "metadata": {},
   "outputs": [
    {
     "data": {
      "text/html": [
       "<span style=\"None\">Tip: You may define configurations in /Users/fredguth/Code/mgi/pipelines/pyproject.toml or /Users/fredguth/.jupysql/config. </span>"
      ],
      "text/plain": [
       "Tip: You may define configurations in /Users/fredguth/Code/mgi/pipelines/pyproject.toml or /Users/fredguth/.jupysql/config. "
      ]
     },
     "metadata": {},
     "output_type": "display_data"
    },
    {
     "data": {
      "text/html": [
       "Please review our <a href='https://jupysql.ploomber.io/en/latest/api/configuration.html#loading-from-a-file'>configuration guideline</a>."
      ],
      "text/plain": [
       "<IPython.core.display.HTML object>"
      ]
     },
     "metadata": {},
     "output_type": "display_data"
    },
    {
     "data": {
      "text/html": [
       "<span style=\"None\">Did not find user configurations in /Users/fredguth/Code/mgi/pipelines/pyproject.toml.</span>"
      ],
      "text/plain": [
       "Did not find user configurations in /Users/fredguth/Code/mgi/pipelines/pyproject.toml."
      ]
     },
     "metadata": {},
     "output_type": "display_data"
    }
   ],
   "source": [
    "%reload_ext sql"
   ]
  },
  {
   "cell_type": "code",
   "execution_count": 3,
   "id": "efe830f3-8f4e-42c4-b1fb-3ce0d99039d8",
   "metadata": {},
   "outputs": [],
   "source": [
    "%config SqlMagic.style = 'DEFAULT'   # or 'DEFAULT', 'MARKDOWN', etc.\n",
    "%config SqlMagic.autopandas = True         # optional: return DataFrames\n",
    "%config SqlMagic.feedback = True\n",
    "%config SqlMagic.named_parameters=\"disabled\"\n",
    "pd.set_option(\"display.max_rows\", 50)\n",
    "pd.set_option(\"display.max_columns\", 20)\n",
    "pd.set_option(\"display.max_colwidth\", None)\n",
    "pd.set_option(\"display.width\", 800)"
   ]
  },
  {
   "cell_type": "markdown",
   "id": "91ee51d4-e283-4305-829e-24015d8db7f8",
   "metadata": {},
   "source": [
    "## Inputs\n",
    "Baixei do Databricks as bases parquet:\n",
    "- vw_dm_material_item_silver.parquet: base do catmat\n",
    "- vw_dm_servico_item_silver.parquet: base do catser\n",
    "- db_prd__vw_ft_pncp_compra_item.parquet: view de itens de compras do pncp no db prd da api_v2 do pncp\n",
    "- db_prd__vw_ft_pncp_compra.parquet: view de compras do pncp no db prd da api_v2 do pncp"
   ]
  },
  {
   "cell_type": "markdown",
   "id": "cfecb5d8",
   "metadata": {},
   "source": [
    "!!! Importante: Conforme foi explicado dia 25/08/2025 pelo Stefano e Guilherme, base **db_prd__vw_ft_pncp_...** só tem dados do PNCP que vem do sistema Compras do governo federal, há outras 250+ fontes possíveis que não estão incluídas.  O sistema Compras é usado por pequena parcela de estados e municípios e na totalidade pelo governo federal."
   ]
  },
  {
   "cell_type": "code",
   "execution_count": null,
   "id": "e10d0ea5-a1be-4b52-9d05-11b5f7436755",
   "metadata": {},
   "outputs": [],
   "source": [
    "rm ../data/inputs/mgi/mgi.db"
   ]
  },
  {
   "cell_type": "code",
   "execution_count": null,
   "id": "a6b08524-9b2f-42e3-a7fa-1da5abdae9e8",
   "metadata": {},
   "outputs": [
    {
     "name": "stdout",
     "output_type": "stream",
     "text": [
      "catmat_catser.parquet                  scn.parquet\n",
      "\u001b[1m\u001b[34mcontratacoes_pncp\u001b[m\u001b[m                      selecao_compra_item.parquet\n",
      "db_prd__vw_ft_pncp_compra_item.parquet vw_dm_material_item_silver.parquet\n",
      "db_prd__vw_ft_pncp_compra.parquet      vw_dm_servico_item_silver.parquet\n",
      "de_ncm_para_scn128.parquet\n"
     ]
    }
   ],
   "source": [
    "!ls ../data/inputs/mgi"
   ]
  },
  {
   "cell_type": "code",
   "execution_count": 4,
   "id": "6556ea9c-9b94-49fb-b88d-cc63608fabb0",
   "metadata": {},
   "outputs": [
    {
     "data": {
      "text/html": [
       "<span style=\"None\">Connecting to &#x27;duckdb:///../data/inputs/mgi/mgi__2.db&#x27;</span>"
      ],
      "text/plain": [
       "Connecting to 'duckdb:///../data/inputs/mgi/mgi__2.db'"
      ]
     },
     "metadata": {},
     "output_type": "display_data"
    }
   ],
   "source": [
    "%sql duckdb:///../data/inputs/mgi/mgi__2.db"
   ]
  },
  {
   "cell_type": "markdown",
   "id": "0e8b08b2-89c5-4dc8-b27a-7deb12a94c8a",
   "metadata": {},
   "source": [
    "### Importando os dados brutos para o DuckDB"
   ]
  },
  {
   "cell_type": "code",
   "execution_count": 5,
   "id": "07ac2f18-da49-44c3-84cb-c979ae7e2b61",
   "metadata": {},
   "outputs": [
    {
     "data": {
      "text/html": [
       "<span style=\"None\">Running query in &#x27;duckdb:///../data/inputs/mgi/mgi__2.db&#x27;</span>"
      ],
      "text/plain": [
       "Running query in 'duckdb:///../data/inputs/mgi/mgi__2.db'"
      ]
     },
     "metadata": {},
     "output_type": "display_data"
    },
    {
     "data": {
      "application/vnd.jupyter.widget-view+json": {
       "model_id": "d5d477abd06a4efdb451fe8b20faf544",
       "version_major": 2,
       "version_minor": 0
      },
      "text/plain": [
       "FloatProgress(value=0.0, layout=Layout(width='auto'), style=ProgressStyle(bar_color='black'))"
      ]
     },
     "metadata": {},
     "output_type": "display_data"
    },
    {
     "data": {
      "application/vnd.jupyter.widget-view+json": {
       "model_id": "c49b3378d2004c6da3fd70408591c88e",
       "version_major": 2,
       "version_minor": 0
      },
      "text/plain": [
       "FloatProgress(value=0.0, layout=Layout(width='auto'), style=ProgressStyle(bar_color='black'))"
      ]
     },
     "metadata": {},
     "output_type": "display_data"
    },
    {
     "data": {
      "text/html": [
       "<div>\n",
       "<style scoped>\n",
       "    .dataframe tbody tr th:only-of-type {\n",
       "        vertical-align: middle;\n",
       "    }\n",
       "\n",
       "    .dataframe tbody tr th {\n",
       "        vertical-align: top;\n",
       "    }\n",
       "\n",
       "    .dataframe thead th {\n",
       "        text-align: right;\n",
       "    }\n",
       "</style>\n",
       "<table border=\"1\" class=\"dataframe\">\n",
       "  <thead>\n",
       "    <tr style=\"text-align: right;\">\n",
       "      <th></th>\n",
       "      <th>Success</th>\n",
       "    </tr>\n",
       "  </thead>\n",
       "  <tbody>\n",
       "  </tbody>\n",
       "</table>\n",
       "</div>"
      ],
      "text/plain": [
       "Empty DataFrame\n",
       "Columns: [Success]\n",
       "Index: []"
      ]
     },
     "execution_count": 5,
     "metadata": {},
     "output_type": "execute_result"
    }
   ],
   "source": [
    "%%sql\n",
    "CREATE OR REPLACE TABLE catmat as SELECT DISTINCT * FROM READ_PARQUET('../data/inputs/mgi/vw_dm_material_item_silver.parquet');\n",
    "CREATE OR REPLACE TABLE catser as SELECT DISTINCT * FROM READ_PARQUET('../data/inputs/mgi/vw_dm_servico_item_silver.parquet');\n",
    "CREATE OR REPLACE TABLE pncp_compras as SELECT DISTINCT * FROM READ_PARQUET ('../data/inputs/mgi/db_prd__vw_ft_pncp_compra.parquet');\n",
    "CREATE OR REPLACE TABLE pncp_itens as SELECT DISTINCT * FROM READ_PARQUET ('../data/inputs/mgi/db_prd__vw_ft_pncp_compra_item.parquet');"
   ]
  },
  {
   "cell_type": "markdown",
   "id": "361a7dab-eaa0-46b6-8758-67a045db3060",
   "metadata": {},
   "source": [
    "## Itens de Compras de TIC no PNCP"
   ]
  },
  {
   "cell_type": "code",
   "execution_count": 6,
   "id": "25981281-a189-4656-a9c2-f9c51ebb6b5d",
   "metadata": {},
   "outputs": [
    {
     "data": {
      "text/html": [
       "<span style=\"None\">Running query in &#x27;duckdb:///../data/inputs/mgi/mgi__2.db&#x27;</span>"
      ],
      "text/plain": [
       "Running query in 'duckdb:///../data/inputs/mgi/mgi__2.db'"
      ]
     },
     "metadata": {},
     "output_type": "display_data"
    },
    {
     "data": {
      "text/html": [
       "<div>\n",
       "<style scoped>\n",
       "    .dataframe tbody tr th:only-of-type {\n",
       "        vertical-align: middle;\n",
       "    }\n",
       "\n",
       "    .dataframe tbody tr th {\n",
       "        vertical-align: top;\n",
       "    }\n",
       "\n",
       "    .dataframe thead th {\n",
       "        text-align: right;\n",
       "    }\n",
       "</style>\n",
       "<table border=\"1\" class=\"dataframe\">\n",
       "  <thead>\n",
       "    <tr style=\"text-align: right;\">\n",
       "      <th></th>\n",
       "      <th>Success</th>\n",
       "    </tr>\n",
       "  </thead>\n",
       "  <tbody>\n",
       "  </tbody>\n",
       "</table>\n",
       "</div>"
      ],
      "text/plain": [
       "Empty DataFrame\n",
       "Columns: [Success]\n",
       "Index: []"
      ]
     },
     "execution_count": 6,
     "metadata": {},
     "output_type": "execute_result"
    }
   ],
   "source": [
    "%%sql\n",
    "DROP VIEW IF EXISTS itens_tic;\n",
    "CREATE VIEW itens_tic AS\n",
    "SELECT *\n",
    "FROM pncp_itens\n",
    "WHERE tem_resultado\n",
    "  AND (\n",
    "    codigo_classe // 100 = 70\n",
    "    OR codigo_grupo IN (111,112,113,115,131,162,163,164,165,166,168,171,172,173,174,182)\n",
    "  )\n",
    "GROUP BY ALL;"
   ]
  },
  {
   "cell_type": "code",
   "execution_count": 7,
   "id": "f4581e8b-29eb-4570-ac84-69c8b4728aae",
   "metadata": {},
   "outputs": [
    {
     "data": {
      "text/html": [
       "<span style=\"None\">Running query in &#x27;duckdb:///../data/inputs/mgi/mgi__2.db&#x27;</span>"
      ],
      "text/plain": [
       "Running query in 'duckdb:///../data/inputs/mgi/mgi__2.db'"
      ]
     },
     "metadata": {},
     "output_type": "display_data"
    },
    {
     "data": {
      "text/html": [
       "<div>\n",
       "<style scoped>\n",
       "    .dataframe tbody tr th:only-of-type {\n",
       "        vertical-align: middle;\n",
       "    }\n",
       "\n",
       "    .dataframe tbody tr th {\n",
       "        vertical-align: top;\n",
       "    }\n",
       "\n",
       "    .dataframe thead th {\n",
       "        text-align: right;\n",
       "    }\n",
       "</style>\n",
       "<table border=\"1\" class=\"dataframe\">\n",
       "  <thead>\n",
       "    <tr style=\"text-align: right;\">\n",
       "      <th></th>\n",
       "      <th>ano_compra</th>\n",
       "      <th>valor_total_homologado</th>\n",
       "    </tr>\n",
       "  </thead>\n",
       "  <tbody>\n",
       "    <tr>\n",
       "      <th>0</th>\n",
       "      <td>2023</td>\n",
       "      <td>16_920</td>\n",
       "    </tr>\n",
       "    <tr>\n",
       "      <th>1</th>\n",
       "      <td>2022</td>\n",
       "      <td>47_800</td>\n",
       "    </tr>\n",
       "  </tbody>\n",
       "</table>\n",
       "</div>"
      ],
      "text/plain": [
       "   ano_compra  valor_total_homologado\n",
       "0        2023                  16_920\n",
       "1        2022                  47_800"
      ]
     },
     "execution_count": 7,
     "metadata": {},
     "output_type": "execute_result"
    }
   ],
   "source": [
    "%%sql\n",
    "SELECT ano_compra, valor_total_homologado FROM pncp_compras limit 2"
   ]
  },
  {
   "cell_type": "markdown",
   "id": "366c0230-49dd-4dbf-b280-3e0d92bcaa3d",
   "metadata": {},
   "source": [
    "## Normalizando os dados de itens de compra"
   ]
  },
  {
   "cell_type": "markdown",
   "id": "99aae588-9a1d-4fad-8dd0-068aea7e8006",
   "metadata": {},
   "source": [
    "Os itens de compra tem um cod_item_catalogo que pode ser do CATMAT ou CATSER.  Os códigos do CATMAT sao divididos em `grupos` e `classes` e os do CATSER em `divisão` e `grupos`.  \n"
   ]
  },
  {
   "cell_type": "code",
   "execution_count": 8,
   "id": "c674a4dc",
   "metadata": {},
   "outputs": [
    {
     "data": {
      "text/html": [
       "<span style=\"None\">Running query in &#x27;duckdb:///../data/inputs/mgi/mgi__2.db&#x27;</span>"
      ],
      "text/plain": [
       "Running query in 'duckdb:///../data/inputs/mgi/mgi__2.db'"
      ]
     },
     "metadata": {},
     "output_type": "display_data"
    },
    {
     "data": {
      "text/html": [
       "<div>\n",
       "<style scoped>\n",
       "    .dataframe tbody tr th:only-of-type {\n",
       "        vertical-align: middle;\n",
       "    }\n",
       "\n",
       "    .dataframe tbody tr th {\n",
       "        vertical-align: top;\n",
       "    }\n",
       "\n",
       "    .dataframe thead th {\n",
       "        text-align: right;\n",
       "    }\n",
       "</style>\n",
       "<table border=\"1\" class=\"dataframe\">\n",
       "  <thead>\n",
       "    <tr style=\"text-align: right;\">\n",
       "      <th></th>\n",
       "      <th>Success</th>\n",
       "    </tr>\n",
       "  </thead>\n",
       "  <tbody>\n",
       "  </tbody>\n",
       "</table>\n",
       "</div>"
      ],
      "text/plain": [
       "Empty DataFrame\n",
       "Columns: [Success]\n",
       "Index: []"
      ]
     },
     "execution_count": 8,
     "metadata": {},
     "output_type": "execute_result"
    }
   ],
   "source": [
    "%%sql\n",
    "    \n",
    ";CREATE OR REPLACE VIEW itens_tic__normalizados AS\n",
    "WITH catalogo AS (\n",
    "  SELECT\n",
    "    i.ano_compra,\n",
    "    i.cod_compra,\n",
    "    i.cod_item_compra,\n",
    "    i.ID_contratacao_PNCP AS id_contratacao_pncp,\n",
    "    i.cod_fornecedor,\n",
    "    i.nome_fornecedor,\n",
    "    i.material_ou_servico,\n",
    "    CASE\n",
    "      WHEN i.codigo_classe IS NOT NULL THEN m.codigo_grupo\n",
    "      WHEN i.codigo_grupo  IS NOT NULL THEN s.codigo_divisao\n",
    "      ELSE NULL\n",
    "    END AS codigo_grupo_ou_divisao,\n",
    "    CASE\n",
    "      WHEN i.codigo_classe IS NOT NULL THEN COALESCE(m.nome_grupo,   '-- desconhecido --')\n",
    "      WHEN i.codigo_grupo  IS NOT NULL THEN COALESCE(s.nome_divisao, '-- desconhecido --')\n",
    "      ELSE '-- desconhecido --'\n",
    "    END AS nome_grupo_ou_divisao,\n",
    "    CASE\n",
    "      WHEN i.codigo_classe IS NOT NULL THEN i.codigo_classe\n",
    "      WHEN i.codigo_grupo  IS NOT NULL THEN i.codigo_grupo::INT\n",
    "      ELSE NULL\n",
    "    END AS codigo_classe_ou_grupo,\n",
    "    CASE\n",
    "      WHEN i.codigo_classe IS NOT NULL THEN COALESCE(m.nome_classe, '-- desconhecido --')\n",
    "      WHEN i.codigo_grupo  IS NOT NULL THEN COALESCE(s.nome_grupo,  '-- desconhecido --')\n",
    "      ELSE '-- desconhecido --'\n",
    "    END AS nome_classe_ou_grupo,\n",
    "    i.cod_item_catalogo,\n",
    "    i.descricao,\n",
    "    i.valor_total_resultado\n",
    "  FROM itens_tic i\n",
    "  LEFT JOIN (\n",
    "    SELECT\n",
    "      codigo_classe,\n",
    "      MIN(nome_classe)  AS nome_classe,\n",
    "      MIN(codigo_grupo) AS codigo_grupo,\n",
    "      MIN(nome_grupo)   AS nome_grupo\n",
    "    FROM catmat\n",
    "    GROUP BY codigo_classe\n",
    "  ) m ON i.codigo_classe::INT = m.codigo_classe::INT\n",
    "  LEFT JOIN (\n",
    "    SELECT\n",
    "      codigo_grupo,\n",
    "      MIN(nome_grupo)     AS nome_grupo,\n",
    "      MIN(codigo_divisao) AS codigo_divisao,\n",
    "      MIN(nome_divisao)   AS nome_divisao\n",
    "    FROM catser\n",
    "    GROUP BY codigo_grupo\n",
    "  ) s ON i.codigo_grupo::INT = s.codigo_grupo::INT\n",
    "),\n",
    "per_group AS (\n",
    "  SELECT\n",
    "    ano_compra, cod_compra,\n",
    "    cod_item_compra, cod_fornecedor,\n",
    "    nome_fornecedor,\n",
    "    material_ou_servico,\n",
    "    codigo_grupo_ou_divisao,\n",
    "    nome_grupo_ou_divisao,\n",
    "    codigo_classe_ou_grupo,\n",
    "    nome_classe_ou_grupo,\n",
    "    SUM(valor_total_resultado) AS valor_total_resultado\n",
    "  FROM catalogo\n",
    "  GROUP BY ALL\n",
    "),\n",
    "ranked AS (\n",
    "  SELECT\n",
    "    p.*,\n",
    "    ROW_NUMBER() OVER (\n",
    "      PARTITION BY p.cod_item_compra\n",
    "      ORDER BY p.valor_total_resultado DESC\n",
    "    ) AS rn\n",
    "  FROM per_group p\n",
    ")\n",
    "SELECT DISTINCT\n",
    "  ano_compra, cod_compra, cod_item_compra, cod_fornecedor,\n",
    "  nome_fornecedor, material_ou_servico,\n",
    "  codigo_grupo_ou_divisao, nome_grupo_ou_divisao,codigo_classe_ou_grupo,\n",
    "  nome_classe_ou_grupo, valor_total_resultado\n",
    "FROM ranked\n",
    "WHERE rn = 1;"
   ]
  },
  {
   "cell_type": "code",
   "execution_count": 9,
   "id": "871e17c9-4bac-404a-9736-5e34c28ab643",
   "metadata": {},
   "outputs": [
    {
     "data": {
      "text/html": [
       "<span style=\"None\">Running query in &#x27;duckdb:///../data/inputs/mgi/mgi__2.db&#x27;</span>"
      ],
      "text/plain": [
       "Running query in 'duckdb:///../data/inputs/mgi/mgi__2.db'"
      ]
     },
     "metadata": {},
     "output_type": "display_data"
    },
    {
     "data": {
      "text/html": [
       "<div>\n",
       "<style scoped>\n",
       "    .dataframe tbody tr th:only-of-type {\n",
       "        vertical-align: middle;\n",
       "    }\n",
       "\n",
       "    .dataframe tbody tr th {\n",
       "        vertical-align: top;\n",
       "    }\n",
       "\n",
       "    .dataframe thead th {\n",
       "        text-align: right;\n",
       "    }\n",
       "</style>\n",
       "<table border=\"1\" class=\"dataframe\">\n",
       "  <thead>\n",
       "    <tr style=\"text-align: right;\">\n",
       "      <th></th>\n",
       "      <th>rows_count</th>\n",
       "      <th>distinct_coditem_compra</th>\n",
       "      <th>counts_match</th>\n",
       "    </tr>\n",
       "  </thead>\n",
       "  <tbody>\n",
       "    <tr>\n",
       "      <th>0</th>\n",
       "      <td>101122</td>\n",
       "      <td>101122</td>\n",
       "      <td>True</td>\n",
       "    </tr>\n",
       "  </tbody>\n",
       "</table>\n",
       "</div>"
      ],
      "text/plain": [
       "   rows_count  distinct_coditem_compra  counts_match\n",
       "0      101122                   101122          True"
      ]
     },
     "execution_count": 9,
     "metadata": {},
     "output_type": "execute_result"
    }
   ],
   "source": [
    "%%sql\n",
    "SELECT\n",
    "  COUNT(cod_item_compra)                  AS rows_count,\n",
    "  COUNT(DISTINCT cod_item_compra)         AS distinct_coditem_compra,\n",
    "  COUNT(*) = COUNT(DISTINCT cod_item_compra) AS counts_match\n",
    "FROM itens_tic__normalizados;"
   ]
  },
  {
   "cell_type": "code",
   "execution_count": 10,
   "id": "865443ac",
   "metadata": {},
   "outputs": [
    {
     "data": {
      "text/html": [
       "<span style=\"None\">Running query in &#x27;duckdb:///../data/inputs/mgi/mgi__2.db&#x27;</span>"
      ],
      "text/plain": [
       "Running query in 'duckdb:///../data/inputs/mgi/mgi__2.db'"
      ]
     },
     "metadata": {},
     "output_type": "display_data"
    },
    {
     "data": {
      "text/html": [
       "<div>\n",
       "<style scoped>\n",
       "    .dataframe tbody tr th:only-of-type {\n",
       "        vertical-align: middle;\n",
       "    }\n",
       "\n",
       "    .dataframe tbody tr th {\n",
       "        vertical-align: top;\n",
       "    }\n",
       "\n",
       "    .dataframe thead th {\n",
       "        text-align: right;\n",
       "    }\n",
       "</style>\n",
       "<table border=\"1\" class=\"dataframe\">\n",
       "  <thead>\n",
       "    <tr style=\"text-align: right;\">\n",
       "      <th></th>\n",
       "      <th>ano_compra</th>\n",
       "      <th>cod_compra</th>\n",
       "      <th>cod_item_compra</th>\n",
       "      <th>cod_fornecedor</th>\n",
       "      <th>nome_fornecedor</th>\n",
       "      <th>material_ou_servico</th>\n",
       "      <th>codigo_grupo_ou_divisao</th>\n",
       "      <th>nome_grupo_ou_divisao</th>\n",
       "      <th>codigo_classe_ou_grupo</th>\n",
       "      <th>nome_classe_ou_grupo</th>\n",
       "      <th>valor_total_resultado</th>\n",
       "    </tr>\n",
       "  </thead>\n",
       "  <tbody>\n",
       "    <tr>\n",
       "      <th>0</th>\n",
       "      <td>2021</td>\n",
       "      <td>3566</td>\n",
       "      <td>13421</td>\n",
       "      <td>33134920000151</td>\n",
       "      <td>CARLOS EDUARDO DE OLIVA ANDRADE 83044825504</td>\n",
       "      <td>M</td>\n",
       "      <td>70</td>\n",
       "      <td>INFORMÁTICA - EQUIPAMENTOS,  PEÇAS, ACESSÓRIOS E SUPRIMENTOSDE TIC</td>\n",
       "      <td>7060</td>\n",
       "      <td>PEÇAS E ACESSÓRIOS PARA COMPUTADORES</td>\n",
       "      <td>680</td>\n",
       "    </tr>\n",
       "    <tr>\n",
       "      <th>1</th>\n",
       "      <td>2021</td>\n",
       "      <td>17928</td>\n",
       "      <td>396121</td>\n",
       "      <td>21308808000100</td>\n",
       "      <td>A.F.H. COMERCIO E SERVICOS TECNICOS EIRELI</td>\n",
       "      <td>M</td>\n",
       "      <td>70</td>\n",
       "      <td>INFORMÁTICA - EQUIPAMENTOS,  PEÇAS, ACESSÓRIOS E SUPRIMENTOSDE TIC</td>\n",
       "      <td>7080</td>\n",
       "      <td>PEÇAS, ACESSÓRIOS E FERRAMENTAS PARA REDES DE TIC</td>\n",
       "      <td>12_470</td>\n",
       "    </tr>\n",
       "    <tr>\n",
       "      <th>2</th>\n",
       "      <td>2021</td>\n",
       "      <td>18046</td>\n",
       "      <td>398063</td>\n",
       "      <td>07483598000166</td>\n",
       "      <td>GTMAX TECNOLOGIA EM ELETRONICA LTDA</td>\n",
       "      <td>M</td>\n",
       "      <td>70</td>\n",
       "      <td>INFORMÁTICA - EQUIPAMENTOS,  PEÇAS, ACESSÓRIOS E SUPRIMENTOSDE TIC</td>\n",
       "      <td>7020</td>\n",
       "      <td>IMPRESSORAS</td>\n",
       "      <td>3_672</td>\n",
       "    </tr>\n",
       "  </tbody>\n",
       "</table>\n",
       "</div>"
      ],
      "text/plain": [
       "   ano_compra  cod_compra  cod_item_compra  cod_fornecedor                              nome_fornecedor material_ou_servico  codigo_grupo_ou_divisao                                               nome_grupo_ou_divisao  codigo_classe_ou_grupo                               nome_classe_ou_grupo  valor_total_resultado\n",
       "0        2021        3566            13421  33134920000151  CARLOS EDUARDO DE OLIVA ANDRADE 83044825504                   M                       70  INFORMÁTICA - EQUIPAMENTOS,  PEÇAS, ACESSÓRIOS E SUPRIMENTOSDE TIC                    7060               PEÇAS E ACESSÓRIOS PARA COMPUTADORES                    680\n",
       "1        2021       17928           396121  21308808000100   A.F.H. COMERCIO E SERVICOS TECNICOS EIRELI                   M                       70  INFORMÁTICA - EQUIPAMENTOS,  PEÇAS, ACESSÓRIOS E SUPRIMENTOSDE TIC                    7080  PEÇAS, ACESSÓRIOS E FERRAMENTAS PARA REDES DE TIC                 12_470\n",
       "2        2021       18046           398063  07483598000166          GTMAX TECNOLOGIA EM ELETRONICA LTDA                   M                       70  INFORMÁTICA - EQUIPAMENTOS,  PEÇAS, ACESSÓRIOS E SUPRIMENTOSDE TIC                    7020                                        IMPRESSORAS                  3_672"
      ]
     },
     "execution_count": 10,
     "metadata": {},
     "output_type": "execute_result"
    }
   ],
   "source": [
    "%%sql\n",
    "FROM itens_tic__normalizados limit 3"
   ]
  },
  {
   "cell_type": "markdown",
   "id": "fff194c0-b52d-4d72-87c5-72a0457313af",
   "metadata": {},
   "source": [
    "Uma outra questão é que precisamos do valor_homologado, que é da `compra` e não do `item`, mas uma compra pode ter vários itens. Por isso, na normalização, adotamos um `codigo_classe_ou_grupo` representante da compra. \n",
    "\n",
    "Mas uma dúvida fica:\n",
    "- Uma compra tem itens muito diferentes ou agrupando por `codigo_grupo_ou_divisao` e `codigo_classe_ou_grupo` os itens de uma compra estão numa mesma categoria?\n",
    "\n",
    "Vamos ver:"
   ]
  },
  {
   "cell_type": "markdown",
   "id": "d40eebcd-2521-4b23-b68d-ea22263dbd60",
   "metadata": {},
   "source": [
    "## "
   ]
  },
  {
   "cell_type": "code",
   "execution_count": 13,
   "id": "e245e395-1774-4b47-aa81-33f1ca3f99e8",
   "metadata": {},
   "outputs": [
    {
     "data": {
      "text/html": [
       "<span style=\"None\">Running query in &#x27;duckdb:///../data/inputs/mgi/mgi__2.db&#x27;</span>"
      ],
      "text/plain": [
       "Running query in 'duckdb:///../data/inputs/mgi/mgi__2.db'"
      ]
     },
     "metadata": {},
     "output_type": "display_data"
    },
    {
     "data": {
      "text/html": [
       "<div>\n",
       "<style scoped>\n",
       "    .dataframe tbody tr th:only-of-type {\n",
       "        vertical-align: middle;\n",
       "    }\n",
       "\n",
       "    .dataframe tbody tr th {\n",
       "        vertical-align: top;\n",
       "    }\n",
       "\n",
       "    .dataframe thead th {\n",
       "        text-align: right;\n",
       "    }\n",
       "</style>\n",
       "<table border=\"1\" class=\"dataframe\">\n",
       "  <thead>\n",
       "    <tr style=\"text-align: right;\">\n",
       "      <th></th>\n",
       "      <th>cod_compra</th>\n",
       "      <th>material_ou_servico</th>\n",
       "      <th>classe</th>\n",
       "      <th>n_itens_classe</th>\n",
       "      <th>n_itens</th>\n",
       "      <th>classe_%</th>\n",
       "    </tr>\n",
       "  </thead>\n",
       "  <tbody>\n",
       "    <tr>\n",
       "      <th>0</th>\n",
       "      <td>6810070</td>\n",
       "      <td>M</td>\n",
       "      <td>EQUIPAMENTOS DE ENTRADA DE DADOS</td>\n",
       "      <td>1</td>\n",
       "      <td>1</td>\n",
       "      <td>100</td>\n",
       "    </tr>\n",
       "    <tr>\n",
       "      <th>1</th>\n",
       "      <td>6810084</td>\n",
       "      <td>M</td>\n",
       "      <td>COMPUTADORES</td>\n",
       "      <td>1</td>\n",
       "      <td>1</td>\n",
       "      <td>100</td>\n",
       "    </tr>\n",
       "    <tr>\n",
       "      <th>2</th>\n",
       "      <td>6810123</td>\n",
       "      <td>S</td>\n",
       "      <td>SERVIÇOS DE  LICENCIAMENTO E  CONTRATOS DE TRANSFERÊNCIA DE TECNOLOGIA</td>\n",
       "      <td>1</td>\n",
       "      <td>1</td>\n",
       "      <td>100</td>\n",
       "    </tr>\n",
       "    <tr>\n",
       "      <th>3</th>\n",
       "      <td>6810156</td>\n",
       "      <td>S</td>\n",
       "      <td>SERVIÇOS  DE  CONSULTORIA  EM  TECNOLOGIA  DA  INFORMAÇÃO  ECOMUNICAÇÃO (TIC)</td>\n",
       "      <td>1</td>\n",
       "      <td>1</td>\n",
       "      <td>100</td>\n",
       "    </tr>\n",
       "    <tr>\n",
       "      <th>4</th>\n",
       "      <td>6810164</td>\n",
       "      <td>S</td>\n",
       "      <td>SERVIÇOS DE  LICENCIAMENTO E  CONTRATOS DE TRANSFERÊNCIA DE TECNOLOGIA</td>\n",
       "      <td>3</td>\n",
       "      <td>3</td>\n",
       "      <td>100</td>\n",
       "    </tr>\n",
       "    <tr>\n",
       "      <th>...</th>\n",
       "      <td>...</td>\n",
       "      <td>...</td>\n",
       "      <td>...</td>\n",
       "      <td>...</td>\n",
       "      <td>...</td>\n",
       "      <td>...</td>\n",
       "    </tr>\n",
       "    <tr>\n",
       "      <th>46088</th>\n",
       "      <td>7516733</td>\n",
       "      <td>M</td>\n",
       "      <td>PEÇAS, ACESSÓRIOS E FERRAMENTAS PARA REDES DE TIC</td>\n",
       "      <td>1</td>\n",
       "      <td>113</td>\n",
       "      <td>1</td>\n",
       "    </tr>\n",
       "    <tr>\n",
       "      <th>46089</th>\n",
       "      <td>7516733</td>\n",
       "      <td>M</td>\n",
       "      <td>EQUIPAMENTOS DE ENTRADA DE DADOS</td>\n",
       "      <td>1</td>\n",
       "      <td>113</td>\n",
       "      <td>1</td>\n",
       "    </tr>\n",
       "    <tr>\n",
       "      <th>46090</th>\n",
       "      <td>7562211</td>\n",
       "      <td>M</td>\n",
       "      <td>EQUIPAMENTOS DE REDE DE TIC - LOCAL E REMOTA</td>\n",
       "      <td>1</td>\n",
       "      <td>116</td>\n",
       "      <td>1</td>\n",
       "    </tr>\n",
       "    <tr>\n",
       "      <th>46091</th>\n",
       "      <td>5647319</td>\n",
       "      <td>S</td>\n",
       "      <td>SERVIÇOS DE  LICENCIAMENTO E  CONTRATOS DE TRANSFERÊNCIA DE TECNOLOGIA</td>\n",
       "      <td>1</td>\n",
       "      <td>152</td>\n",
       "      <td>1</td>\n",
       "    </tr>\n",
       "    <tr>\n",
       "      <th>46092</th>\n",
       "      <td>5817927</td>\n",
       "      <td>M</td>\n",
       "      <td>ARTIGOS DIVERSOS PARA PROCESSAMENTO AUTOMÁTICO DE DADOS</td>\n",
       "      <td>5</td>\n",
       "      <td>1025</td>\n",
       "      <td>0</td>\n",
       "    </tr>\n",
       "  </tbody>\n",
       "</table>\n",
       "<p>46093 rows × 6 columns</p>\n",
       "</div>"
      ],
      "text/plain": [
       "       cod_compra material_ou_servico                                                                         classe  n_itens_classe  n_itens  classe_%\n",
       "0         6810070                   M                                               EQUIPAMENTOS DE ENTRADA DE DADOS               1        1       100\n",
       "1         6810084                   M                                                                   COMPUTADORES               1        1       100\n",
       "2         6810123                   S         SERVIÇOS DE  LICENCIAMENTO E  CONTRATOS DE TRANSFERÊNCIA DE TECNOLOGIA               1        1       100\n",
       "3         6810156                   S  SERVIÇOS  DE  CONSULTORIA  EM  TECNOLOGIA  DA  INFORMAÇÃO  ECOMUNICAÇÃO (TIC)               1        1       100\n",
       "4         6810164                   S         SERVIÇOS DE  LICENCIAMENTO E  CONTRATOS DE TRANSFERÊNCIA DE TECNOLOGIA               3        3       100\n",
       "...           ...                 ...                                                                            ...             ...      ...       ...\n",
       "46088     7516733                   M                              PEÇAS, ACESSÓRIOS E FERRAMENTAS PARA REDES DE TIC               1      113         1\n",
       "46089     7516733                   M                                               EQUIPAMENTOS DE ENTRADA DE DADOS               1      113         1\n",
       "46090     7562211                   M                                   EQUIPAMENTOS DE REDE DE TIC - LOCAL E REMOTA               1      116         1\n",
       "46091     5647319                   S         SERVIÇOS DE  LICENCIAMENTO E  CONTRATOS DE TRANSFERÊNCIA DE TECNOLOGIA               1      152         1\n",
       "46092     5817927                   M                        ARTIGOS DIVERSOS PARA PROCESSAMENTO AUTOMÁTICO DE DADOS               5     1025         0\n",
       "\n",
       "[46093 rows x 6 columns]"
      ]
     },
     "execution_count": 13,
     "metadata": {},
     "output_type": "execute_result"
    }
   ],
   "source": [
    "%%sql\n",
    "CREATE OR REPLACE VIEW TEMP AS (WITH base AS (\n",
    "  SELECT\n",
    "    cod_compra,\n",
    "    cod_item_compra,\n",
    "    material_ou_servico,\n",
    "    nome_classe_ou_grupo AS classe\n",
    "  FROM itens_tic__normalizados\n",
    "),\n",
    "tot AS (\n",
    "  SELECT cod_compra, COUNT(DISTINCT cod_item_compra) AS n_itens\n",
    "  FROM base GROUP BY ALL\n",
    "),\n",
    "por_classe AS (\n",
    "  SELECT\n",
    "    cod_compra,\n",
    "    material_ou_servico,\n",
    "    classe,\n",
    "    COUNT(DISTINCT cod_item_compra) AS n_itens_classe\n",
    "  FROM base\n",
    "  GROUP BY ALL\n",
    ")\n",
    "SELECT DISTINCT\n",
    "  p.cod_compra, p.material_ou_servico,\n",
    "  p.classe,\n",
    "  p.n_itens_classe,\n",
    "  t.n_itens,\n",
    "  ROUND(100.0 * p.n_itens_classe / NULLIF(t.n_itens, 0), 2) AS \"classe_%\"\n",
    "FROM por_classe p\n",
    "JOIN tot t USING (cod_compra)\n",
    "ORDER BY p.cod_compra, p.n_itens_classe DESC);\n",
    "SELECT * FROM TEMP ORDER BY \"classe_%\" desc;"
   ]
  },
  {
   "cell_type": "code",
   "execution_count": 14,
   "id": "b183d531-909a-45dd-8957-88911ffbbe0c",
   "metadata": {},
   "outputs": [
    {
     "data": {
      "text/html": [
       "<span style=\"None\">Running query in &#x27;duckdb:///../data/inputs/mgi/mgi__2.db&#x27;</span>"
      ],
      "text/plain": [
       "Running query in 'duckdb:///../data/inputs/mgi/mgi__2.db'"
      ]
     },
     "metadata": {},
     "output_type": "display_data"
    },
    {
     "data": {
      "text/html": [
       "<div>\n",
       "<style scoped>\n",
       "    .dataframe tbody tr th:only-of-type {\n",
       "        vertical-align: middle;\n",
       "    }\n",
       "\n",
       "    .dataframe tbody tr th {\n",
       "        vertical-align: top;\n",
       "    }\n",
       "\n",
       "    .dataframe thead th {\n",
       "        text-align: right;\n",
       "    }\n",
       "</style>\n",
       "<table border=\"1\" class=\"dataframe\">\n",
       "  <thead>\n",
       "    <tr style=\"text-align: right;\">\n",
       "      <th></th>\n",
       "      <th>column_name</th>\n",
       "      <th>column_type</th>\n",
       "      <th>min</th>\n",
       "      <th>max</th>\n",
       "      <th>approx_unique</th>\n",
       "      <th>avg</th>\n",
       "      <th>std</th>\n",
       "      <th>q25</th>\n",
       "      <th>q50</th>\n",
       "      <th>q75</th>\n",
       "      <th>count</th>\n",
       "      <th>null_percentage</th>\n",
       "    </tr>\n",
       "  </thead>\n",
       "  <tbody>\n",
       "    <tr>\n",
       "      <th>0</th>\n",
       "      <td>cod_compra</td>\n",
       "      <td>BIGINT</td>\n",
       "      <td>10</td>\n",
       "      <td>9162794</td>\n",
       "      <td>41446</td>\n",
       "      <td>6328160.4552969</td>\n",
       "      <td>2196702.366708751</td>\n",
       "      <td>5628972</td>\n",
       "      <td>6718523</td>\n",
       "      <td>7570651</td>\n",
       "      <td>46093</td>\n",
       "      <td>0</td>\n",
       "    </tr>\n",
       "    <tr>\n",
       "      <th>1</th>\n",
       "      <td>material_ou_servico</td>\n",
       "      <td>VARCHAR</td>\n",
       "      <td>M</td>\n",
       "      <td>S</td>\n",
       "      <td>2</td>\n",
       "      <td>None</td>\n",
       "      <td>None</td>\n",
       "      <td>None</td>\n",
       "      <td>None</td>\n",
       "      <td>None</td>\n",
       "      <td>46093</td>\n",
       "      <td>0</td>\n",
       "    </tr>\n",
       "    <tr>\n",
       "      <th>2</th>\n",
       "      <td>classe</td>\n",
       "      <td>VARCHAR</td>\n",
       "      <td>ARTIGOS DIVERSOS PARA PROCESSAMENTO AUTOMÁTICO DE DADOS</td>\n",
       "      <td>UNIDADES PARA MANUSEIO DE CARTÕES</td>\n",
       "      <td>29</td>\n",
       "      <td>None</td>\n",
       "      <td>None</td>\n",
       "      <td>None</td>\n",
       "      <td>None</td>\n",
       "      <td>None</td>\n",
       "      <td>46093</td>\n",
       "      <td>0</td>\n",
       "    </tr>\n",
       "    <tr>\n",
       "      <th>3</th>\n",
       "      <td>n_itens_classe</td>\n",
       "      <td>BIGINT</td>\n",
       "      <td>1</td>\n",
       "      <td>930</td>\n",
       "      <td>83</td>\n",
       "      <td>2.193868917189161</td>\n",
       "      <td>6.068538768999759</td>\n",
       "      <td>1</td>\n",
       "      <td>1</td>\n",
       "      <td>2</td>\n",
       "      <td>46093</td>\n",
       "      <td>0</td>\n",
       "    </tr>\n",
       "    <tr>\n",
       "      <th>4</th>\n",
       "      <td>n_itens</td>\n",
       "      <td>BIGINT</td>\n",
       "      <td>1</td>\n",
       "      <td>1025</td>\n",
       "      <td>101</td>\n",
       "      <td>5.133881500444753</td>\n",
       "      <td>13.556105764513319</td>\n",
       "      <td>1</td>\n",
       "      <td>2</td>\n",
       "      <td>5</td>\n",
       "      <td>46093</td>\n",
       "      <td>0</td>\n",
       "    </tr>\n",
       "    <tr>\n",
       "      <th>5</th>\n",
       "      <td>classe_%</td>\n",
       "      <td>DOUBLE</td>\n",
       "      <td>0.49</td>\n",
       "      <td>100.0</td>\n",
       "      <td>562</td>\n",
       "      <td>73.5707669277331</td>\n",
       "      <td>33.864257594070715</td>\n",
       "      <td>46.84050775737045</td>\n",
       "      <td>100.0</td>\n",
       "      <td>100.0</td>\n",
       "      <td>46093</td>\n",
       "      <td>0</td>\n",
       "    </tr>\n",
       "  </tbody>\n",
       "</table>\n",
       "</div>"
      ],
      "text/plain": [
       "           column_name column_type                                                      min                                max  approx_unique                avg                 std                q25      q50      q75  count  null_percentage\n",
       "0           cod_compra      BIGINT                                                       10                            9162794          41446    6328160.4552969   2196702.366708751            5628972  6718523  7570651  46093                0\n",
       "1  material_ou_servico     VARCHAR                                                        M                                  S              2               None                None               None     None     None  46093                0\n",
       "2               classe     VARCHAR  ARTIGOS DIVERSOS PARA PROCESSAMENTO AUTOMÁTICO DE DADOS  UNIDADES PARA MANUSEIO DE CARTÕES             29               None                None               None     None     None  46093                0\n",
       "3       n_itens_classe      BIGINT                                                        1                                930             83  2.193868917189161   6.068538768999759                  1        1        2  46093                0\n",
       "4              n_itens      BIGINT                                                        1                               1025            101  5.133881500444753  13.556105764513319                  1        2        5  46093                0\n",
       "5             classe_%      DOUBLE                                                     0.49                              100.0            562   73.5707669277331  33.864257594070715  46.84050775737045    100.0    100.0  46093                0"
      ]
     },
     "execution_count": 14,
     "metadata": {},
     "output_type": "execute_result"
    }
   ],
   "source": [
    "%%sql\n",
    "SELECT * FROM (SUMMARIZE TEMP)"
   ]
  },
  {
   "cell_type": "markdown",
   "id": "faed8414-4ff0-4705-b25b-b959cdff909f",
   "metadata": {},
   "source": [
    "A média de representatividade é ~75%, ok."
   ]
  },
  {
   "cell_type": "markdown",
   "id": "8bd50eb8-2217-428a-a97e-53a41bc080af",
   "metadata": {},
   "source": [
    "## Compras no PNCP"
   ]
  },
  {
   "cell_type": "markdown",
   "id": "682bb4e5-1253-447f-ae8f-04a035d64193",
   "metadata": {},
   "source": [
    "Vamos olhar as compras no PNCP."
   ]
  },
  {
   "cell_type": "code",
   "execution_count": 15,
   "id": "51e2529a-b6fb-4d13-bee1-4fc61dbbb64a",
   "metadata": {},
   "outputs": [
    {
     "data": {
      "text/html": [
       "<span style=\"None\">Running query in &#x27;duckdb:///../data/inputs/mgi/mgi__2.db&#x27;</span>"
      ],
      "text/plain": [
       "Running query in 'duckdb:///../data/inputs/mgi/mgi__2.db'"
      ]
     },
     "metadata": {},
     "output_type": "display_data"
    },
    {
     "data": {
      "text/html": [
       "<div>\n",
       "<style scoped>\n",
       "    .dataframe tbody tr th:only-of-type {\n",
       "        vertical-align: middle;\n",
       "    }\n",
       "\n",
       "    .dataframe tbody tr th {\n",
       "        vertical-align: top;\n",
       "    }\n",
       "\n",
       "    .dataframe thead th {\n",
       "        text-align: right;\n",
       "    }\n",
       "</style>\n",
       "<table border=\"1\" class=\"dataframe\">\n",
       "  <thead>\n",
       "    <tr style=\"text-align: right;\">\n",
       "      <th></th>\n",
       "      <th>ano_compra</th>\n",
       "      <th>homologado_em_bilhoes</th>\n",
       "    </tr>\n",
       "  </thead>\n",
       "  <tbody>\n",
       "    <tr>\n",
       "      <th>0</th>\n",
       "      <td>2021</td>\n",
       "      <td>1</td>\n",
       "    </tr>\n",
       "    <tr>\n",
       "      <th>1</th>\n",
       "      <td>2022</td>\n",
       "      <td>9</td>\n",
       "    </tr>\n",
       "    <tr>\n",
       "      <th>2</th>\n",
       "      <td>2023</td>\n",
       "      <td>124</td>\n",
       "    </tr>\n",
       "    <tr>\n",
       "      <th>3</th>\n",
       "      <td>2024</td>\n",
       "      <td>3_807</td>\n",
       "    </tr>\n",
       "    <tr>\n",
       "      <th>4</th>\n",
       "      <td>2025</td>\n",
       "      <td>3_023</td>\n",
       "    </tr>\n",
       "    <tr>\n",
       "      <th>5</th>\n",
       "      <td>2026</td>\n",
       "      <td>5</td>\n",
       "    </tr>\n",
       "  </tbody>\n",
       "</table>\n",
       "</div>"
      ],
      "text/plain": [
       "   ano_compra  homologado_em_bilhoes\n",
       "0        2021                      1\n",
       "1        2022                      9\n",
       "2        2023                    124\n",
       "3        2024                  3_807\n",
       "4        2025                  3_023\n",
       "5        2026                      5"
      ]
     },
     "execution_count": 15,
     "metadata": {},
     "output_type": "execute_result"
    }
   ],
   "source": [
    "%%sql\n",
    "SELECT ano_compra, (sum(valor_total_homologado)//1_000_000_000) as homologado_em_bilhoes from pncp_compras group by all order by all"
   ]
  },
  {
   "cell_type": "markdown",
   "id": "3b27b00f-5dc3-4cfe-9d3e-20d71ea7b6dd",
   "metadata": {},
   "source": [
    "### Todas as Compras válidas"
   ]
  },
  {
   "cell_type": "code",
   "execution_count": 16,
   "id": "8e5b1d47",
   "metadata": {},
   "outputs": [
    {
     "data": {
      "text/html": [
       "<span style=\"None\">Running query in &#x27;duckdb:///../data/inputs/mgi/mgi__2.db&#x27;</span>"
      ],
      "text/plain": [
       "Running query in 'duckdb:///../data/inputs/mgi/mgi__2.db'"
      ]
     },
     "metadata": {},
     "output_type": "display_data"
    },
    {
     "data": {
      "text/html": [
       "<div>\n",
       "<style scoped>\n",
       "    .dataframe tbody tr th:only-of-type {\n",
       "        vertical-align: middle;\n",
       "    }\n",
       "\n",
       "    .dataframe tbody tr th {\n",
       "        vertical-align: top;\n",
       "    }\n",
       "\n",
       "    .dataframe thead th {\n",
       "        text-align: right;\n",
       "    }\n",
       "</style>\n",
       "<table border=\"1\" class=\"dataframe\">\n",
       "  <thead>\n",
       "    <tr style=\"text-align: right;\">\n",
       "      <th></th>\n",
       "      <th>Success</th>\n",
       "    </tr>\n",
       "  </thead>\n",
       "  <tbody>\n",
       "  </tbody>\n",
       "</table>\n",
       "</div>"
      ],
      "text/plain": [
       "Empty DataFrame\n",
       "Columns: [Success]\n",
       "Index: []"
      ]
     },
     "execution_count": 16,
     "metadata": {},
     "output_type": "execute_result"
    }
   ],
   "source": [
    "%%sql\n",
    "\n",
    "CREATE OR REPLACE VIEW compras__validas AS (\n",
    "  SELECT DISTINCT\n",
    "    cod_compra,\n",
    "    ano_compra,\n",
    "    orgao_entidade_razao_social AS orgao_entidade,\n",
    "    orgao_entidade_poder_id     AS poder,\n",
    "    orgao_entidade_esfera_id    AS esfera,\n",
    "    unidade_orgao_uf_sigla      AS uf,\n",
    "    unidade_orgao_municipio_nome AS municipio,\n",
    "    TRIM(objeto_compra) AS objeto,\n",
    "    valor_total_homologado\n",
    "  FROM pncp_compras\n",
    "  WHERE situacao_compra_nome = 'Divulgada no PNCP'\n",
    "    AND NOT contratacao_excluida\n",
    ");"
   ]
  },
  {
   "cell_type": "code",
   "execution_count": 17,
   "id": "ccd31543",
   "metadata": {},
   "outputs": [
    {
     "data": {
      "text/html": [
       "<span style=\"None\">Running query in &#x27;duckdb:///../data/inputs/mgi/mgi__2.db&#x27;</span>"
      ],
      "text/plain": [
       "Running query in 'duckdb:///../data/inputs/mgi/mgi__2.db'"
      ]
     },
     "metadata": {},
     "output_type": "display_data"
    },
    {
     "data": {
      "text/html": [
       "<div>\n",
       "<style scoped>\n",
       "    .dataframe tbody tr th:only-of-type {\n",
       "        vertical-align: middle;\n",
       "    }\n",
       "\n",
       "    .dataframe tbody tr th {\n",
       "        vertical-align: top;\n",
       "    }\n",
       "\n",
       "    .dataframe thead th {\n",
       "        text-align: right;\n",
       "    }\n",
       "</style>\n",
       "<table border=\"1\" class=\"dataframe\">\n",
       "  <thead>\n",
       "    <tr style=\"text-align: right;\">\n",
       "      <th></th>\n",
       "      <th>ano_compra</th>\n",
       "      <th>homologado_em_bilhoes</th>\n",
       "    </tr>\n",
       "  </thead>\n",
       "  <tbody>\n",
       "    <tr>\n",
       "      <th>0</th>\n",
       "      <td>2021</td>\n",
       "      <td>1</td>\n",
       "    </tr>\n",
       "    <tr>\n",
       "      <th>1</th>\n",
       "      <td>2022</td>\n",
       "      <td>9</td>\n",
       "    </tr>\n",
       "    <tr>\n",
       "      <th>2</th>\n",
       "      <td>2023</td>\n",
       "      <td>122</td>\n",
       "    </tr>\n",
       "    <tr>\n",
       "      <th>3</th>\n",
       "      <td>2024</td>\n",
       "      <td>521</td>\n",
       "    </tr>\n",
       "    <tr>\n",
       "      <th>4</th>\n",
       "      <td>2025</td>\n",
       "      <td>222</td>\n",
       "    </tr>\n",
       "    <tr>\n",
       "      <th>5</th>\n",
       "      <td>2026</td>\n",
       "      <td>5</td>\n",
       "    </tr>\n",
       "  </tbody>\n",
       "</table>\n",
       "</div>"
      ],
      "text/plain": [
       "   ano_compra  homologado_em_bilhoes\n",
       "0        2021                      1\n",
       "1        2022                      9\n",
       "2        2023                    122\n",
       "3        2024                    521\n",
       "4        2025                    222\n",
       "5        2026                      5"
      ]
     },
     "execution_count": 17,
     "metadata": {},
     "output_type": "execute_result"
    }
   ],
   "source": [
    "%%sql\n",
    "SELECT ano_compra, (sum(valor_total_homologado)//1_000_000_000) as homologado_em_bilhoes from compras__validas group by all order by all"
   ]
  },
  {
   "cell_type": "markdown",
   "id": "8399d868-7264-462d-a48d-4164feebb6db",
   "metadata": {},
   "source": [
    "## Compras TIC no PNCP"
   ]
  },
  {
   "cell_type": "code",
   "execution_count": 18,
   "id": "e15a71f1-b3ec-44dc-963b-38c39f4be894",
   "metadata": {},
   "outputs": [
    {
     "data": {
      "text/html": [
       "<span style=\"None\">Running query in &#x27;duckdb:///../data/inputs/mgi/mgi__2.db&#x27;</span>"
      ],
      "text/plain": [
       "Running query in 'duckdb:///../data/inputs/mgi/mgi__2.db'"
      ]
     },
     "metadata": {},
     "output_type": "display_data"
    },
    {
     "data": {
      "text/html": [
       "<div>\n",
       "<style scoped>\n",
       "    .dataframe tbody tr th:only-of-type {\n",
       "        vertical-align: middle;\n",
       "    }\n",
       "\n",
       "    .dataframe tbody tr th {\n",
       "        vertical-align: top;\n",
       "    }\n",
       "\n",
       "    .dataframe thead th {\n",
       "        text-align: right;\n",
       "    }\n",
       "</style>\n",
       "<table border=\"1\" class=\"dataframe\">\n",
       "  <thead>\n",
       "    <tr style=\"text-align: right;\">\n",
       "      <th></th>\n",
       "      <th>cod_compra</th>\n",
       "      <th>n</th>\n",
       "    </tr>\n",
       "  </thead>\n",
       "  <tbody>\n",
       "  </tbody>\n",
       "</table>\n",
       "</div>"
      ],
      "text/plain": [
       "Empty DataFrame\n",
       "Columns: [cod_compra, n]\n",
       "Index: []"
      ]
     },
     "execution_count": 18,
     "metadata": {},
     "output_type": "execute_result"
    }
   ],
   "source": [
    "%%sql\n",
    "-- Any duplicates on the purchase table?\n",
    "SELECT cod_compra, COUNT(*) AS n\n",
    "FROM compras__validas\n",
    "GROUP BY cod_compra\n",
    "HAVING COUNT(*) > 1\n",
    "ORDER BY n DESC\n",
    "LIMIT 10;"
   ]
  },
  {
   "cell_type": "code",
   "execution_count": 19,
   "id": "0ea91e57-974b-466f-b147-bfce0e0042ee",
   "metadata": {},
   "outputs": [
    {
     "data": {
      "text/html": [
       "<span style=\"None\">Running query in &#x27;duckdb:///../data/inputs/mgi/mgi__2.db&#x27;</span>"
      ],
      "text/plain": [
       "Running query in 'duckdb:///../data/inputs/mgi/mgi__2.db'"
      ]
     },
     "metadata": {},
     "output_type": "display_data"
    },
    {
     "data": {
      "text/html": [
       "<div>\n",
       "<style scoped>\n",
       "    .dataframe tbody tr th:only-of-type {\n",
       "        vertical-align: middle;\n",
       "    }\n",
       "\n",
       "    .dataframe tbody tr th {\n",
       "        vertical-align: top;\n",
       "    }\n",
       "\n",
       "    .dataframe thead th {\n",
       "        text-align: right;\n",
       "    }\n",
       "</style>\n",
       "<table border=\"1\" class=\"dataframe\">\n",
       "  <thead>\n",
       "    <tr style=\"text-align: right;\">\n",
       "      <th></th>\n",
       "      <th>Success</th>\n",
       "    </tr>\n",
       "  </thead>\n",
       "  <tbody>\n",
       "  </tbody>\n",
       "</table>\n",
       "</div>"
      ],
      "text/plain": [
       "Empty DataFrame\n",
       "Columns: [Success]\n",
       "Index: []"
      ]
     },
     "execution_count": 19,
     "metadata": {},
     "output_type": "execute_result"
    }
   ],
   "source": [
    "%%sql\n",
    "CREATE OR REPLACE TABLE compras_tic AS\n",
    "WITH items AS (\n",
    "  SELECT\n",
    "    TRY_CAST(cod_compra AS BIGINT)          AS cod_compra,\n",
    "    material_ou_servico,\n",
    "    codigo_grupo_ou_divisao,\n",
    "    nome_grupo_ou_divisao,\n",
    "    codigo_classe_ou_grupo,\n",
    "    nome_classe_ou_grupo,\n",
    "    nome_fornecedor,\n",
    "    valor_total_resultado\n",
    "  FROM itens_tic__normalizados\n",
    "),\n",
    "top_item AS (\n",
    "  SELECT\n",
    "    items.*,\n",
    "    ROW_NUMBER() OVER (\n",
    "      PARTITION BY cod_compra\n",
    "      ORDER BY valor_total_resultado DESC\n",
    "    ) AS rn\n",
    "  FROM items\n",
    "),\n",
    "top_per_compra AS (\n",
    "  SELECT\n",
    "    cod_compra,\n",
    "    material_ou_servico,\n",
    "    codigo_grupo_ou_divisao,\n",
    "    nome_grupo_ou_divisao,\n",
    "    codigo_classe_ou_grupo,\n",
    "    nome_classe_ou_grupo,\n",
    "    nome_fornecedor                         AS fornecedor_top,\n",
    "    valor_total_resultado                   AS top_item_valor\n",
    "  FROM top_item\n",
    "  WHERE rn = 1\n",
    "),\n",
    "agg AS (\n",
    "  SELECT\n",
    "    cod_compra,\n",
    "    COUNT(*)                                 AS n_itens_tic,\n",
    "    COUNT(DISTINCT nome_fornecedor)          AS n_fornecedores,\n",
    "    COALESCE(SUM(valor_total_resultado), 0)  AS total_resultado_tic\n",
    "  FROM items\n",
    "  GROUP BY cod_compra\n",
    ")\n",
    "SELECT\n",
    "  v.ano_compra,\n",
    "  v.cod_compra,\n",
    "  v.orgao_entidade,\n",
    "  v.poder,\n",
    "  v.esfera,\n",
    "  v.uf,\n",
    "  v.municipio,\n",
    "  v.objeto,\n",
    "  t.material_ou_servico,\n",
    "  t.codigo_grupo_ou_divisao,\n",
    "  t.nome_grupo_ou_divisao,\n",
    "  t.codigo_classe_ou_grupo,\n",
    "  t.nome_classe_ou_grupo,\n",
    "  t.fornecedor_top,\n",
    "  t.top_item_valor,\n",
    "  a.n_itens_tic,\n",
    "  a.n_fornecedores,\n",
    "  a.total_resultado_tic as valor_total_resultado,\n",
    "  v.valor_total_homologado,\n",
    "FROM compras__validas v\n",
    "JOIN top_per_compra t\n",
    "  ON TRY_CAST(v.cod_compra AS BIGINT) = t.cod_compra\n",
    "LEFT JOIN agg a\n",
    "  ON TRY_CAST(v.cod_compra AS BIGINT) = a.cod_compra;"
   ]
  },
  {
   "cell_type": "markdown",
   "id": "eab859fc-32e0-4867-9e01-c07b56cbf3da",
   "metadata": {},
   "source": [
    "Checando se join correto"
   ]
  },
  {
   "cell_type": "code",
   "execution_count": 20,
   "id": "9f542427-d5fa-4dc5-a477-709db1e3b9f5",
   "metadata": {},
   "outputs": [
    {
     "data": {
      "text/html": [
       "<span style=\"None\">Running query in &#x27;duckdb:///../data/inputs/mgi/mgi__2.db&#x27;</span>"
      ],
      "text/plain": [
       "Running query in 'duckdb:///../data/inputs/mgi/mgi__2.db'"
      ]
     },
     "metadata": {},
     "output_type": "display_data"
    },
    {
     "data": {
      "text/html": [
       "<div>\n",
       "<style scoped>\n",
       "    .dataframe tbody tr th:only-of-type {\n",
       "        vertical-align: middle;\n",
       "    }\n",
       "\n",
       "    .dataframe tbody tr th {\n",
       "        vertical-align: top;\n",
       "    }\n",
       "\n",
       "    .dataframe thead th {\n",
       "        text-align: right;\n",
       "    }\n",
       "</style>\n",
       "<table border=\"1\" class=\"dataframe\">\n",
       "  <thead>\n",
       "    <tr style=\"text-align: right;\">\n",
       "      <th></th>\n",
       "      <th>rows_count</th>\n",
       "      <th>distinct_cod_compra</th>\n",
       "      <th>counts_match</th>\n",
       "    </tr>\n",
       "  </thead>\n",
       "  <tbody>\n",
       "    <tr>\n",
       "      <th>0</th>\n",
       "      <td>33666</td>\n",
       "      <td>33666</td>\n",
       "      <td>True</td>\n",
       "    </tr>\n",
       "  </tbody>\n",
       "</table>\n",
       "</div>"
      ],
      "text/plain": [
       "   rows_count  distinct_cod_compra  counts_match\n",
       "0       33666                33666          True"
      ]
     },
     "execution_count": 20,
     "metadata": {},
     "output_type": "execute_result"
    }
   ],
   "source": [
    "%%sql\n",
    "SELECT\n",
    "  COUNT(cod_compra)                  AS rows_count,\n",
    "  COUNT(DISTINCT cod_compra)         AS distinct_cod_compra,\n",
    "  COUNT(*) = COUNT(DISTINCT cod_compra) AS counts_match\n",
    "FROM compras_tic;"
   ]
  },
  {
   "cell_type": "code",
   "execution_count": 21,
   "id": "f624d8cd-3fe0-42d5-93ef-877deafb92b0",
   "metadata": {},
   "outputs": [
    {
     "data": {
      "text/html": [
       "<span style=\"None\">Running query in &#x27;duckdb:///../data/inputs/mgi/mgi__2.db&#x27;</span>"
      ],
      "text/plain": [
       "Running query in 'duckdb:///../data/inputs/mgi/mgi__2.db'"
      ]
     },
     "metadata": {},
     "output_type": "display_data"
    },
    {
     "data": {
      "text/html": [
       "<div>\n",
       "<style scoped>\n",
       "    .dataframe tbody tr th:only-of-type {\n",
       "        vertical-align: middle;\n",
       "    }\n",
       "\n",
       "    .dataframe tbody tr th {\n",
       "        vertical-align: top;\n",
       "    }\n",
       "\n",
       "    .dataframe thead th {\n",
       "        text-align: right;\n",
       "    }\n",
       "</style>\n",
       "<table border=\"1\" class=\"dataframe\">\n",
       "  <thead>\n",
       "    <tr style=\"text-align: right;\">\n",
       "      <th></th>\n",
       "      <th>ano_compra</th>\n",
       "      <th>cod_compra</th>\n",
       "      <th>orgao_entidade</th>\n",
       "      <th>poder</th>\n",
       "      <th>esfera</th>\n",
       "      <th>uf</th>\n",
       "      <th>municipio</th>\n",
       "      <th>objeto</th>\n",
       "      <th>material_ou_servico</th>\n",
       "      <th>codigo_grupo_ou_divisao</th>\n",
       "      <th>nome_grupo_ou_divisao</th>\n",
       "      <th>codigo_classe_ou_grupo</th>\n",
       "      <th>nome_classe_ou_grupo</th>\n",
       "      <th>fornecedor_top</th>\n",
       "      <th>top_item_valor</th>\n",
       "      <th>n_itens_tic</th>\n",
       "      <th>n_fornecedores</th>\n",
       "      <th>valor_total_resultado</th>\n",
       "      <th>valor_total_homologado</th>\n",
       "    </tr>\n",
       "  </thead>\n",
       "  <tbody>\n",
       "    <tr>\n",
       "      <th>0</th>\n",
       "      <td>2024</td>\n",
       "      <td>7593380</td>\n",
       "      <td>SECRETARIA MUNICIPAL DE DESENVOLVIMENTO ECONOMICO E TRABALHO</td>\n",
       "      <td>E</td>\n",
       "      <td>M</td>\n",
       "      <td>SP</td>\n",
       "      <td>SÃO PAULO</td>\n",
       "      <td>Prestação de serviços de Comunicação de Dados – SD-WAN, visando atender as necessidades para a Secretaria Municipal de Desenvolvimento Econômico e Trabalho – SMDET</td>\n",
       "      <td>S</td>\n",
       "      <td>16</td>\n",
       "      <td>SERVIÇOS PARA A INFRAESTRUTURA  DE  TECNOLOGIA DA INFORMAÇÃOE COMUNICAÇÃO (TIC)</td>\n",
       "      <td>166</td>\n",
       "      <td>SERVIÇOS DE MANUTENÇÃO E INSTALAÇÃO DE EQUIPAMENTOS DE TIC</td>\n",
       "      <td>EMPRESA DE TECNOLOGIA DA INFORMACAO E COMUNICACAO DO MUNICIPIO DE SAO PAULO - PR</td>\n",
       "      <td>237_010</td>\n",
       "      <td>1</td>\n",
       "      <td>1</td>\n",
       "      <td>237_010</td>\n",
       "      <td>237_010</td>\n",
       "    </tr>\n",
       "    <tr>\n",
       "      <th>1</th>\n",
       "      <td>2024</td>\n",
       "      <td>5751987</td>\n",
       "      <td>MUNICIPIO DE CAXIAS DO SUL</td>\n",
       "      <td>N</td>\n",
       "      <td>M</td>\n",
       "      <td>RS</td>\n",
       "      <td>CAXIAS DO SUL</td>\n",
       "      <td>Fornecimento de materiais de expediente.</td>\n",
       "      <td>M</td>\n",
       "      <td>70</td>\n",
       "      <td>INFORMÁTICA - EQUIPAMENTOS,  PEÇAS, ACESSÓRIOS E SUPRIMENTOSDE TIC</td>\n",
       "      <td>7060</td>\n",
       "      <td>PEÇAS E ACESSÓRIOS PARA COMPUTADORES</td>\n",
       "      <td>I9 COMERCIO DE SUPRIMENTOS DE INFORMATICA LTDA</td>\n",
       "      <td>1_182</td>\n",
       "      <td>2</td>\n",
       "      <td>2</td>\n",
       "      <td>1_687</td>\n",
       "      <td>18_508</td>\n",
       "    </tr>\n",
       "  </tbody>\n",
       "</table>\n",
       "</div>"
      ],
      "text/plain": [
       "   ano_compra  cod_compra                                                orgao_entidade poder esfera  uf      municipio                                                                                                                                                               objeto material_ou_servico  codigo_grupo_ou_divisao                                                            nome_grupo_ou_divisao  codigo_classe_ou_grupo                                        nome_classe_ou_grupo                                                                    fornecedor_top  top_item_valor  n_itens_tic  n_fornecedores  valor_total_resultado  valor_total_homologado\n",
       "0        2024     7593380  SECRETARIA MUNICIPAL DE DESENVOLVIMENTO ECONOMICO E TRABALHO     E      M  SP      SÃO PAULO  Prestação de serviços de Comunicação de Dados – SD-WAN, visando atender as necessidades para a Secretaria Municipal de Desenvolvimento Econômico e Trabalho – SMDET                   S                       16  SERVIÇOS PARA A INFRAESTRUTURA  DE  TECNOLOGIA DA INFORMAÇÃOE COMUNICAÇÃO (TIC)                     166  SERVIÇOS DE MANUTENÇÃO E INSTALAÇÃO DE EQUIPAMENTOS DE TIC  EMPRESA DE TECNOLOGIA DA INFORMACAO E COMUNICACAO DO MUNICIPIO DE SAO PAULO - PR         237_010            1               1                237_010                 237_010\n",
       "1        2024     5751987                                    MUNICIPIO DE CAXIAS DO SUL     N      M  RS  CAXIAS DO SUL                                                                                                                             Fornecimento de materiais de expediente.                   M                       70               INFORMÁTICA - EQUIPAMENTOS,  PEÇAS, ACESSÓRIOS E SUPRIMENTOSDE TIC                    7060                        PEÇAS E ACESSÓRIOS PARA COMPUTADORES                                    I9 COMERCIO DE SUPRIMENTOS DE INFORMATICA LTDA           1_182            2               2                  1_687                  18_508"
      ]
     },
     "execution_count": 21,
     "metadata": {},
     "output_type": "execute_result"
    }
   ],
   "source": [
    "%%sql\n",
    "SELECT * FROM compras_tic LIMIT 2;"
   ]
  },
  {
   "cell_type": "code",
   "execution_count": 23,
   "id": "17d5ca91-1b66-4a01-8ae3-aa29b966bab2",
   "metadata": {},
   "outputs": [
    {
     "data": {
      "text/html": [
       "<span style=\"None\">Running query in &#x27;duckdb:///../data/inputs/mgi/mgi__2.db&#x27;</span>"
      ],
      "text/plain": [
       "Running query in 'duckdb:///../data/inputs/mgi/mgi__2.db'"
      ]
     },
     "metadata": {},
     "output_type": "display_data"
    },
    {
     "data": {
      "text/html": [
       "<div>\n",
       "<style scoped>\n",
       "    .dataframe tbody tr th:only-of-type {\n",
       "        vertical-align: middle;\n",
       "    }\n",
       "\n",
       "    .dataframe tbody tr th {\n",
       "        vertical-align: top;\n",
       "    }\n",
       "\n",
       "    .dataframe thead th {\n",
       "        text-align: right;\n",
       "    }\n",
       "</style>\n",
       "<table border=\"1\" class=\"dataframe\">\n",
       "  <thead>\n",
       "    <tr style=\"text-align: right;\">\n",
       "      <th></th>\n",
       "      <th>ano_compra</th>\n",
       "      <th>material_ou_servico</th>\n",
       "      <th>homologado_em_bilhoes</th>\n",
       "    </tr>\n",
       "  </thead>\n",
       "  <tbody>\n",
       "    <tr>\n",
       "      <th>0</th>\n",
       "      <td>2021</td>\n",
       "      <td>M</td>\n",
       "      <td>0</td>\n",
       "    </tr>\n",
       "    <tr>\n",
       "      <th>1</th>\n",
       "      <td>2021</td>\n",
       "      <td>S</td>\n",
       "      <td>0</td>\n",
       "    </tr>\n",
       "    <tr>\n",
       "      <th>2</th>\n",
       "      <td>2022</td>\n",
       "      <td>M</td>\n",
       "      <td>0</td>\n",
       "    </tr>\n",
       "    <tr>\n",
       "      <th>3</th>\n",
       "      <td>2022</td>\n",
       "      <td>S</td>\n",
       "      <td>2</td>\n",
       "    </tr>\n",
       "    <tr>\n",
       "      <th>4</th>\n",
       "      <td>2023</td>\n",
       "      <td>M</td>\n",
       "      <td>3</td>\n",
       "    </tr>\n",
       "    <tr>\n",
       "      <th>5</th>\n",
       "      <td>2023</td>\n",
       "      <td>S</td>\n",
       "      <td>13</td>\n",
       "    </tr>\n",
       "    <tr>\n",
       "      <th>6</th>\n",
       "      <td>2024</td>\n",
       "      <td>M</td>\n",
       "      <td>8</td>\n",
       "    </tr>\n",
       "    <tr>\n",
       "      <th>7</th>\n",
       "      <td>2024</td>\n",
       "      <td>S</td>\n",
       "      <td>16</td>\n",
       "    </tr>\n",
       "    <tr>\n",
       "      <th>8</th>\n",
       "      <td>2025</td>\n",
       "      <td>M</td>\n",
       "      <td>4</td>\n",
       "    </tr>\n",
       "    <tr>\n",
       "      <th>9</th>\n",
       "      <td>2025</td>\n",
       "      <td>S</td>\n",
       "      <td>8</td>\n",
       "    </tr>\n",
       "    <tr>\n",
       "      <th>10</th>\n",
       "      <td>2026</td>\n",
       "      <td>M</td>\n",
       "      <td>0</td>\n",
       "    </tr>\n",
       "    <tr>\n",
       "      <th>11</th>\n",
       "      <td>2026</td>\n",
       "      <td>S</td>\n",
       "      <td>2</td>\n",
       "    </tr>\n",
       "  </tbody>\n",
       "</table>\n",
       "</div>"
      ],
      "text/plain": [
       "    ano_compra material_ou_servico  homologado_em_bilhoes\n",
       "0         2021                   M                      0\n",
       "1         2021                   S                      0\n",
       "2         2022                   M                      0\n",
       "3         2022                   S                      2\n",
       "4         2023                   M                      3\n",
       "5         2023                   S                     13\n",
       "6         2024                   M                      8\n",
       "7         2024                   S                     16\n",
       "8         2025                   M                      4\n",
       "9         2025                   S                      8\n",
       "10        2026                   M                      0\n",
       "11        2026                   S                      2"
      ]
     },
     "execution_count": 23,
     "metadata": {},
     "output_type": "execute_result"
    }
   ],
   "source": [
    "%%sql\n",
    "SELECT ano_compra, material_ou_servico,(sum(valor_total_homologado)//1_000_000_000) as homologado_em_bilhoes from compras_tic group by all order by all"
   ]
  },
  {
   "cell_type": "markdown",
   "id": "cb38533a-203b-48e1-be65-cfc24b028a4c",
   "metadata": {},
   "source": [
    "# Executivo Federal em 2024"
   ]
  },
  {
   "cell_type": "markdown",
   "id": "7d800bc1-1345-4666-9f32-c0ca221362a3",
   "metadata": {},
   "source": [
    "Olhando só as Executivo Federal em 2024"
   ]
  },
  {
   "cell_type": "code",
   "execution_count": 26,
   "id": "e504b21d-d0d7-4216-9434-430e382d8029",
   "metadata": {},
   "outputs": [
    {
     "data": {
      "text/html": [
       "<span style=\"None\">Running query in &#x27;duckdb:///../data/inputs/mgi/mgi__2.db&#x27;</span>"
      ],
      "text/plain": [
       "Running query in 'duckdb:///../data/inputs/mgi/mgi__2.db'"
      ]
     },
     "metadata": {},
     "output_type": "display_data"
    },
    {
     "data": {
      "text/html": [
       "<div>\n",
       "<style scoped>\n",
       "    .dataframe tbody tr th:only-of-type {\n",
       "        vertical-align: middle;\n",
       "    }\n",
       "\n",
       "    .dataframe tbody tr th {\n",
       "        vertical-align: top;\n",
       "    }\n",
       "\n",
       "    .dataframe thead th {\n",
       "        text-align: right;\n",
       "    }\n",
       "</style>\n",
       "<table border=\"1\" class=\"dataframe\">\n",
       "  <thead>\n",
       "    <tr style=\"text-align: right;\">\n",
       "      <th></th>\n",
       "      <th>material_ou_servico</th>\n",
       "      <th>total_homologado__em_MM</th>\n",
       "    </tr>\n",
       "  </thead>\n",
       "  <tbody>\n",
       "    <tr>\n",
       "      <th>0</th>\n",
       "      <td>S</td>\n",
       "      <td>6_825</td>\n",
       "    </tr>\n",
       "    <tr>\n",
       "      <th>1</th>\n",
       "      <td>M</td>\n",
       "      <td>2_670</td>\n",
       "    </tr>\n",
       "  </tbody>\n",
       "</table>\n",
       "</div>"
      ],
      "text/plain": [
       "  material_ou_servico  total_homologado__em_MM\n",
       "0                   S                    6_825\n",
       "1                   M                    2_670"
      ]
     },
     "execution_count": 26,
     "metadata": {},
     "output_type": "execute_result"
    }
   ],
   "source": [
    "%%sql\n",
    "SELECT\n",
    "  material_ou_servico,\n",
    "  -- nome_grupo_ou_divisao,\n",
    "  -- nome_classe_ou_grupo,\n",
    "  SUM(valor_total_homologado) / 1000000.0 AS total_homologado__em_MM\n",
    "FROM compras_tic\n",
    "WHERE ano_compra = 2024\n",
    "  AND poder = 'E'\n",
    "  AND esfera = 'F'\n",
    "GROUP BY ALL\n",
    "  -- material_ou_servico, nome_grupo_ou_divisao, nome_classe_ou_grupo\n",
    "HAVING SUM(valor_total_homologado) / 1000000.0 > 0\n",
    "ORDER BY total_homologado__em_MM DESC;"
   ]
  },
  {
   "cell_type": "code",
   "execution_count": 28,
   "id": "7114674b-43d2-4525-a919-ebcc2b8adcf1",
   "metadata": {},
   "outputs": [
    {
     "data": {
      "text/html": [
       "<span style=\"None\">Running query in &#x27;duckdb:///../data/inputs/mgi/mgi__2.db&#x27;</span>"
      ],
      "text/plain": [
       "Running query in 'duckdb:///../data/inputs/mgi/mgi__2.db'"
      ]
     },
     "metadata": {},
     "output_type": "display_data"
    },
    {
     "data": {
      "text/html": [
       "<div>\n",
       "<style scoped>\n",
       "    .dataframe tbody tr th:only-of-type {\n",
       "        vertical-align: middle;\n",
       "    }\n",
       "\n",
       "    .dataframe tbody tr th {\n",
       "        vertical-align: top;\n",
       "    }\n",
       "\n",
       "    .dataframe thead th {\n",
       "        text-align: right;\n",
       "    }\n",
       "</style>\n",
       "<table border=\"1\" class=\"dataframe\">\n",
       "  <thead>\n",
       "    <tr style=\"text-align: right;\">\n",
       "      <th></th>\n",
       "      <th>material_ou_servico</th>\n",
       "      <th>nome_grupo_ou_divisao</th>\n",
       "      <th>nome_classe_ou_grupo</th>\n",
       "      <th>total_homologado__em_MM</th>\n",
       "    </tr>\n",
       "  </thead>\n",
       "  <tbody>\n",
       "    <tr>\n",
       "      <th>0</th>\n",
       "      <td>S</td>\n",
       "      <td>SERVICOS DE ARRENDAMENTO, LICENCIAMENTO DE DIREITOS E TRANS-FERENCIA DE TECNOLOGIA</td>\n",
       "      <td>SERVIÇOS DE  LICENCIAMENTO E  CONTRATOS DE TRANSFERÊNCIA DE TECNOLOGIA</td>\n",
       "      <td>2_259</td>\n",
       "    </tr>\n",
       "    <tr>\n",
       "      <th>1</th>\n",
       "      <td>S</td>\n",
       "      <td>SERVIÇOS PARA A INFRAESTRUTURA  DE  TECNOLOGIA DA INFORMAÇÃOE COMUNICAÇÃO (TIC)</td>\n",
       "      <td>SERVIÇOS DE HOSPEDAGEM EM TECNOLOGIA DA INFORMAÇÃO E  COMUNICACÃO (TIC)</td>\n",
       "      <td>1_030</td>\n",
       "    </tr>\n",
       "    <tr>\n",
       "      <th>2</th>\n",
       "      <td>M</td>\n",
       "      <td>INFORMÁTICA - EQUIPAMENTOS,  PEÇAS, ACESSÓRIOS E SUPRIMENTOSDE TIC</td>\n",
       "      <td>COMPUTADORES</td>\n",
       "      <td>1_023</td>\n",
       "    </tr>\n",
       "    <tr>\n",
       "      <th>3</th>\n",
       "      <td>S</td>\n",
       "      <td>SERVIÇOS PARA A INFRAESTRUTURA  DE  TECNOLOGIA DA INFORMAÇÃOE COMUNICAÇÃO (TIC)</td>\n",
       "      <td>SERVIÇOS AUXILIARES DE TECNOLOGIA DA INFORMAÇÃO  E  COMUNICAÇÃO (TIC)</td>\n",
       "      <td>985</td>\n",
       "    </tr>\n",
       "    <tr>\n",
       "      <th>4</th>\n",
       "      <td>S</td>\n",
       "      <td>SERVIÇOS DE COMPUTAÇÃO EM NUVEM</td>\n",
       "      <td>SERVIÇOS DE COMPUTAÇÃO EM NUVEM</td>\n",
       "      <td>795</td>\n",
       "    </tr>\n",
       "    <tr>\n",
       "      <th>5</th>\n",
       "      <td>S</td>\n",
       "      <td>SERVIÇOS PARA A INFRAESTRUTURA  DE  TECNOLOGIA DA INFORMAÇÃOE COMUNICAÇÃO (TIC)</td>\n",
       "      <td>SERVIÇOS  DE  GERENCIAMENTO  EM TECNOLOGIA DA INFORMAÇÃO  E COMUNICAÇÃO (TIC)</td>\n",
       "      <td>683</td>\n",
       "    </tr>\n",
       "    <tr>\n",
       "      <th>6</th>\n",
       "      <td>M</td>\n",
       "      <td>INFORMÁTICA - EQUIPAMENTOS,  PEÇAS, ACESSÓRIOS E SUPRIMENTOSDE TIC</td>\n",
       "      <td>EQUIPAMENTOS DE REDE DE TIC - LOCAL E REMOTA</td>\n",
       "      <td>458</td>\n",
       "    </tr>\n",
       "    <tr>\n",
       "      <th>7</th>\n",
       "      <td>S</td>\n",
       "      <td>SERVIÇOS DE  PESQUISA,  ANÁLISE  DE  DADOS  E  INDICADORES, CONSULTORIA E PROJETOS DE TIC</td>\n",
       "      <td>SERVIÇOS DE ANÁLISE DA DADOS E INDICADORES DE TIC</td>\n",
       "      <td>426</td>\n",
       "    </tr>\n",
       "    <tr>\n",
       "      <th>8</th>\n",
       "      <td>M</td>\n",
       "      <td>INFORMÁTICA - EQUIPAMENTOS,  PEÇAS, ACESSÓRIOS E SUPRIMENTOSDE TIC</td>\n",
       "      <td>PEÇAS E ACESSÓRIOS PARA COMPUTADORES</td>\n",
       "      <td>251</td>\n",
       "    </tr>\n",
       "    <tr>\n",
       "      <th>9</th>\n",
       "      <td>M</td>\n",
       "      <td>INFORMÁTICA - EQUIPAMENTOS,  PEÇAS, ACESSÓRIOS E SUPRIMENTOSDE TIC</td>\n",
       "      <td>SUPRIMENTOS DE INFORMÁTICA - TIC</td>\n",
       "      <td>246</td>\n",
       "    </tr>\n",
       "    <tr>\n",
       "      <th>10</th>\n",
       "      <td>S</td>\n",
       "      <td>SERVIÇOS  DE DESENVOLVIMENTO,  MANUTENÇÃO  E  SUSTENTAÇÃO DESOFTWARE</td>\n",
       "      <td>SERVIÇOS  DE DESENVOLVIMENTO E MANUTENÇÃO DE SOFTWARE</td>\n",
       "      <td>194</td>\n",
       "    </tr>\n",
       "    <tr>\n",
       "      <th>11</th>\n",
       "      <td>M</td>\n",
       "      <td>INFORMÁTICA - EQUIPAMENTOS,  PEÇAS, ACESSÓRIOS E SUPRIMENTOSDE TIC</td>\n",
       "      <td>EQUIPAMENTOS DE ARMAZENAMENTO DE DADOS</td>\n",
       "      <td>189</td>\n",
       "    </tr>\n",
       "    <tr>\n",
       "      <th>12</th>\n",
       "      <td>M</td>\n",
       "      <td>INFORMÁTICA - EQUIPAMENTOS,  PEÇAS, ACESSÓRIOS E SUPRIMENTOSDE TIC</td>\n",
       "      <td>PEÇAS, ACESSÓRIOS E FERRAMENTAS PARA REDES DE TIC</td>\n",
       "      <td>149</td>\n",
       "    </tr>\n",
       "    <tr>\n",
       "      <th>13</th>\n",
       "      <td>M</td>\n",
       "      <td>INFORMÁTICA - EQUIPAMENTOS,  PEÇAS, ACESSÓRIOS E SUPRIMENTOSDE TIC</td>\n",
       "      <td>EQUIPAMENTOS DE ENTRADA DE DADOS</td>\n",
       "      <td>138</td>\n",
       "    </tr>\n",
       "    <tr>\n",
       "      <th>14</th>\n",
       "      <td>S</td>\n",
       "      <td>SERVIÇOS  DE DESENVOLVIMENTO,  MANUTENÇÃO  E  SUSTENTAÇÃO DESOFTWARE</td>\n",
       "      <td>SERVIÇOS DE MANUTENÇÃO E SUSTENTAÇÃO DE SOFTWARE</td>\n",
       "      <td>110</td>\n",
       "    </tr>\n",
       "    <tr>\n",
       "      <th>15</th>\n",
       "      <td>M</td>\n",
       "      <td>INFORMÁTICA - EQUIPAMENTOS,  PEÇAS, ACESSÓRIOS E SUPRIMENTOSDE TIC</td>\n",
       "      <td>IMPRESSORAS</td>\n",
       "      <td>88</td>\n",
       "    </tr>\n",
       "    <tr>\n",
       "      <th>16</th>\n",
       "      <td>S</td>\n",
       "      <td>SERVIÇOS DE  PESQUISA,  ANÁLISE  DE  DADOS  E  INDICADORES, CONSULTORIA E PROJETOS DE TIC</td>\n",
       "      <td>SERVIÇOS DE PESQUISA,ANÁLISE E DESENVOLVIMENTO EM TECNOLOGIADA INFORMAÇÃO E COMUNICAÇÃO (TIC)</td>\n",
       "      <td>82</td>\n",
       "    </tr>\n",
       "    <tr>\n",
       "      <th>17</th>\n",
       "      <td>S</td>\n",
       "      <td>SERVIÇOS PARA A INFRAESTRUTURA  DE  TECNOLOGIA DA INFORMAÇÃOE COMUNICAÇÃO (TIC)</td>\n",
       "      <td>SERVIÇOS DE INTEGRAÇÃO DE SISTEMAS EM TECNOLOGIA DA INFORMA-ÇÃO E COMUNICAÇÃO (TIC)</td>\n",
       "      <td>78</td>\n",
       "    </tr>\n",
       "    <tr>\n",
       "      <th>18</th>\n",
       "      <td>M</td>\n",
       "      <td>INFORMÁTICA - EQUIPAMENTOS,  PEÇAS, ACESSÓRIOS E SUPRIMENTOSDE TIC</td>\n",
       "      <td>PEÇAS E ACESSÓRIOS PARA IMPRESSORAS</td>\n",
       "      <td>75</td>\n",
       "    </tr>\n",
       "    <tr>\n",
       "      <th>19</th>\n",
       "      <td>S</td>\n",
       "      <td>SERVIÇOS PARA A INFRAESTRUTURA  DE  TECNOLOGIA DA INFORMAÇÃOE COMUNICAÇÃO (TIC)</td>\n",
       "      <td>SERVICOS PARA  A  INFRAESTRUTURA DE TECNOLOGIA DA INFORMAÇÃOE COMUNICAÇÃO (TIC),  NAO CLASSIFICADOS EM OUTROS TÓPICOS</td>\n",
       "      <td>67</td>\n",
       "    </tr>\n",
       "    <tr>\n",
       "      <th>20</th>\n",
       "      <td>S</td>\n",
       "      <td>SERVIÇOS PARA A INFRAESTRUTURA  DE  TECNOLOGIA DA INFORMAÇÃOE COMUNICAÇÃO (TIC)</td>\n",
       "      <td>SERVIÇOS DE MANUTENÇÃO E INSTALAÇÃO DE EQUIPAMENTOS DE TIC</td>\n",
       "      <td>52</td>\n",
       "    </tr>\n",
       "    <tr>\n",
       "      <th>21</th>\n",
       "      <td>M</td>\n",
       "      <td>INFORMÁTICA - EQUIPAMENTOS,  PEÇAS, ACESSÓRIOS E SUPRIMENTOSDE TIC</td>\n",
       "      <td>UNIDADES DE ARMAZENAMENTO DE ENTRADA E SAÍDA DE DADOS</td>\n",
       "      <td>52</td>\n",
       "    </tr>\n",
       "    <tr>\n",
       "      <th>22</th>\n",
       "      <td>S</td>\n",
       "      <td>SERVIÇOS DE  PESQUISA,  ANÁLISE  DE  DADOS  E  INDICADORES, CONSULTORIA E PROJETOS DE TIC</td>\n",
       "      <td>SERVIÇOS  DE  CONSULTORIA  EM  TECNOLOGIA  DA  INFORMAÇÃO  ECOMUNICAÇÃO (TIC)</td>\n",
       "      <td>43</td>\n",
       "    </tr>\n",
       "    <tr>\n",
       "      <th>23</th>\n",
       "      <td>S</td>\n",
       "      <td>SERVIÇOS DE  PESQUISA,  ANÁLISE  DE  DADOS  E  INDICADORES, CONSULTORIA E PROJETOS DE TIC</td>\n",
       "      <td>SERVIÇOS DE PROJETOS EM TECNOLOGIA DA INFORMAÇÃO E COMUNICA-ÇÃO (TIC)</td>\n",
       "      <td>18</td>\n",
       "    </tr>\n",
       "    <tr>\n",
       "      <th>24</th>\n",
       "      <td>S</td>\n",
       "      <td>SERVIÇOS  DE DESENVOLVIMENTO,  MANUTENÇÃO  E  SUSTENTAÇÃO DESOFTWARE</td>\n",
       "      <td>SERVIÇOS DE MENSURAÇÃO DE SOFTWARE</td>\n",
       "      <td>1</td>\n",
       "    </tr>\n",
       "    <tr>\n",
       "      <th>25</th>\n",
       "      <td>M</td>\n",
       "      <td>INFORMÁTICA - EQUIPAMENTOS,  PEÇAS, ACESSÓRIOS E SUPRIMENTOSDE TIC</td>\n",
       "      <td>OUTROS</td>\n",
       "      <td>1</td>\n",
       "    </tr>\n",
       "  </tbody>\n",
       "</table>\n",
       "</div>"
      ],
      "text/plain": [
       "   material_ou_servico                                                                      nome_grupo_ou_divisao                                                                                                   nome_classe_ou_grupo  total_homologado__em_MM\n",
       "0                    S         SERVICOS DE ARRENDAMENTO, LICENCIAMENTO DE DIREITOS E TRANS-FERENCIA DE TECNOLOGIA                                                 SERVIÇOS DE  LICENCIAMENTO E  CONTRATOS DE TRANSFERÊNCIA DE TECNOLOGIA                    2_259\n",
       "1                    S            SERVIÇOS PARA A INFRAESTRUTURA  DE  TECNOLOGIA DA INFORMAÇÃOE COMUNICAÇÃO (TIC)                                                SERVIÇOS DE HOSPEDAGEM EM TECNOLOGIA DA INFORMAÇÃO E  COMUNICACÃO (TIC)                    1_030\n",
       "2                    M                         INFORMÁTICA - EQUIPAMENTOS,  PEÇAS, ACESSÓRIOS E SUPRIMENTOSDE TIC                                                                                                           COMPUTADORES                    1_023\n",
       "3                    S            SERVIÇOS PARA A INFRAESTRUTURA  DE  TECNOLOGIA DA INFORMAÇÃOE COMUNICAÇÃO (TIC)                                                  SERVIÇOS AUXILIARES DE TECNOLOGIA DA INFORMAÇÃO  E  COMUNICAÇÃO (TIC)                      985\n",
       "4                    S                                                            SERVIÇOS DE COMPUTAÇÃO EM NUVEM                                                                                        SERVIÇOS DE COMPUTAÇÃO EM NUVEM                      795\n",
       "5                    S            SERVIÇOS PARA A INFRAESTRUTURA  DE  TECNOLOGIA DA INFORMAÇÃOE COMUNICAÇÃO (TIC)                                          SERVIÇOS  DE  GERENCIAMENTO  EM TECNOLOGIA DA INFORMAÇÃO  E COMUNICAÇÃO (TIC)                      683\n",
       "6                    M                         INFORMÁTICA - EQUIPAMENTOS,  PEÇAS, ACESSÓRIOS E SUPRIMENTOSDE TIC                                                                           EQUIPAMENTOS DE REDE DE TIC - LOCAL E REMOTA                      458\n",
       "7                    S  SERVIÇOS DE  PESQUISA,  ANÁLISE  DE  DADOS  E  INDICADORES, CONSULTORIA E PROJETOS DE TIC                                                                      SERVIÇOS DE ANÁLISE DA DADOS E INDICADORES DE TIC                      426\n",
       "8                    M                         INFORMÁTICA - EQUIPAMENTOS,  PEÇAS, ACESSÓRIOS E SUPRIMENTOSDE TIC                                                                                   PEÇAS E ACESSÓRIOS PARA COMPUTADORES                      251\n",
       "9                    M                         INFORMÁTICA - EQUIPAMENTOS,  PEÇAS, ACESSÓRIOS E SUPRIMENTOSDE TIC                                                                                       SUPRIMENTOS DE INFORMÁTICA - TIC                      246\n",
       "10                   S                       SERVIÇOS  DE DESENVOLVIMENTO,  MANUTENÇÃO  E  SUSTENTAÇÃO DESOFTWARE                                                                  SERVIÇOS  DE DESENVOLVIMENTO E MANUTENÇÃO DE SOFTWARE                      194\n",
       "11                   M                         INFORMÁTICA - EQUIPAMENTOS,  PEÇAS, ACESSÓRIOS E SUPRIMENTOSDE TIC                                                                                 EQUIPAMENTOS DE ARMAZENAMENTO DE DADOS                      189\n",
       "12                   M                         INFORMÁTICA - EQUIPAMENTOS,  PEÇAS, ACESSÓRIOS E SUPRIMENTOSDE TIC                                                                      PEÇAS, ACESSÓRIOS E FERRAMENTAS PARA REDES DE TIC                      149\n",
       "13                   M                         INFORMÁTICA - EQUIPAMENTOS,  PEÇAS, ACESSÓRIOS E SUPRIMENTOSDE TIC                                                                                       EQUIPAMENTOS DE ENTRADA DE DADOS                      138\n",
       "14                   S                       SERVIÇOS  DE DESENVOLVIMENTO,  MANUTENÇÃO  E  SUSTENTAÇÃO DESOFTWARE                                                                       SERVIÇOS DE MANUTENÇÃO E SUSTENTAÇÃO DE SOFTWARE                      110\n",
       "15                   M                         INFORMÁTICA - EQUIPAMENTOS,  PEÇAS, ACESSÓRIOS E SUPRIMENTOSDE TIC                                                                                                            IMPRESSORAS                       88\n",
       "16                   S  SERVIÇOS DE  PESQUISA,  ANÁLISE  DE  DADOS  E  INDICADORES, CONSULTORIA E PROJETOS DE TIC                          SERVIÇOS DE PESQUISA,ANÁLISE E DESENVOLVIMENTO EM TECNOLOGIADA INFORMAÇÃO E COMUNICAÇÃO (TIC)                       82\n",
       "17                   S            SERVIÇOS PARA A INFRAESTRUTURA  DE  TECNOLOGIA DA INFORMAÇÃOE COMUNICAÇÃO (TIC)                                    SERVIÇOS DE INTEGRAÇÃO DE SISTEMAS EM TECNOLOGIA DA INFORMA-ÇÃO E COMUNICAÇÃO (TIC)                       78\n",
       "18                   M                         INFORMÁTICA - EQUIPAMENTOS,  PEÇAS, ACESSÓRIOS E SUPRIMENTOSDE TIC                                                                                    PEÇAS E ACESSÓRIOS PARA IMPRESSORAS                       75\n",
       "19                   S            SERVIÇOS PARA A INFRAESTRUTURA  DE  TECNOLOGIA DA INFORMAÇÃOE COMUNICAÇÃO (TIC)  SERVICOS PARA  A  INFRAESTRUTURA DE TECNOLOGIA DA INFORMAÇÃOE COMUNICAÇÃO (TIC),  NAO CLASSIFICADOS EM OUTROS TÓPICOS                       67\n",
       "20                   S            SERVIÇOS PARA A INFRAESTRUTURA  DE  TECNOLOGIA DA INFORMAÇÃOE COMUNICAÇÃO (TIC)                                                             SERVIÇOS DE MANUTENÇÃO E INSTALAÇÃO DE EQUIPAMENTOS DE TIC                       52\n",
       "21                   M                         INFORMÁTICA - EQUIPAMENTOS,  PEÇAS, ACESSÓRIOS E SUPRIMENTOSDE TIC                                                                  UNIDADES DE ARMAZENAMENTO DE ENTRADA E SAÍDA DE DADOS                       52\n",
       "22                   S  SERVIÇOS DE  PESQUISA,  ANÁLISE  DE  DADOS  E  INDICADORES, CONSULTORIA E PROJETOS DE TIC                                          SERVIÇOS  DE  CONSULTORIA  EM  TECNOLOGIA  DA  INFORMAÇÃO  ECOMUNICAÇÃO (TIC)                       43\n",
       "23                   S  SERVIÇOS DE  PESQUISA,  ANÁLISE  DE  DADOS  E  INDICADORES, CONSULTORIA E PROJETOS DE TIC                                                  SERVIÇOS DE PROJETOS EM TECNOLOGIA DA INFORMAÇÃO E COMUNICA-ÇÃO (TIC)                       18\n",
       "24                   S                       SERVIÇOS  DE DESENVOLVIMENTO,  MANUTENÇÃO  E  SUSTENTAÇÃO DESOFTWARE                                                                                     SERVIÇOS DE MENSURAÇÃO DE SOFTWARE                        1\n",
       "25                   M                         INFORMÁTICA - EQUIPAMENTOS,  PEÇAS, ACESSÓRIOS E SUPRIMENTOSDE TIC                                                                                                                 OUTROS                        1"
      ]
     },
     "execution_count": 28,
     "metadata": {},
     "output_type": "execute_result"
    }
   ],
   "source": [
    "%%sql\n",
    "SELECT\n",
    "  material_ou_servico,\n",
    "  nome_grupo_ou_divisao,\n",
    "  nome_classe_ou_grupo,\n",
    "  SUM(valor_total_homologado) / 1000000.0 AS total_homologado__em_MM\n",
    "FROM compras_tic\n",
    "WHERE ano_compra = 2024\n",
    "  AND poder = 'E'\n",
    "  AND esfera = 'F'\n",
    "GROUP BY ALL\n",
    "  -- material_ou_servico, nome_grupo_ou_divisao, nome_classe_ou_grupo\n",
    "HAVING SUM(valor_total_homologado) / 1000000.0 > 1\n",
    "ORDER BY total_homologado__em_MM DESC;"
   ]
  },
  {
   "cell_type": "markdown",
   "id": "2f21ada5-d498-4b63-aa08-07d66f287492",
   "metadata": {},
   "source": [
    "Olhando a lista completa"
   ]
  },
  {
   "cell_type": "markdown",
   "id": "8140df1a-53da-414f-83b1-961766073516",
   "metadata": {},
   "source": [
    "### SERVIÇOS DE LICENCIAMENTO E CONTRATOS DE TRANSFERÊNCIA DE TECNOLOGIA\t"
   ]
  },
  {
   "cell_type": "code",
   "execution_count": 29,
   "id": "4105d430-06ef-4d42-82b7-69da81937194",
   "metadata": {},
   "outputs": [
    {
     "data": {
      "text/html": [
       "<span style=\"None\">Running query in &#x27;duckdb:///../data/inputs/mgi/mgi__2.db&#x27;</span>"
      ],
      "text/plain": [
       "Running query in 'duckdb:///../data/inputs/mgi/mgi__2.db'"
      ]
     },
     "metadata": {},
     "output_type": "display_data"
    },
    {
     "data": {
      "text/html": [
       "<div>\n",
       "<style scoped>\n",
       "    .dataframe tbody tr th:only-of-type {\n",
       "        vertical-align: middle;\n",
       "    }\n",
       "\n",
       "    .dataframe tbody tr th {\n",
       "        vertical-align: top;\n",
       "    }\n",
       "\n",
       "    .dataframe thead th {\n",
       "        text-align: right;\n",
       "    }\n",
       "</style>\n",
       "<table border=\"1\" class=\"dataframe\">\n",
       "  <thead>\n",
       "    <tr style=\"text-align: right;\">\n",
       "      <th></th>\n",
       "      <th>cod_compra</th>\n",
       "      <th>fornecedor</th>\n",
       "      <th>orgao_entidade</th>\n",
       "      <th>poder</th>\n",
       "      <th>esfera</th>\n",
       "      <th>nome_classe_ou_grupo</th>\n",
       "      <th>objeto</th>\n",
       "      <th>total_homologado_MM</th>\n",
       "    </tr>\n",
       "  </thead>\n",
       "  <tbody>\n",
       "    <tr>\n",
       "      <th>0</th>\n",
       "      <td>7412986</td>\n",
       "      <td>BRASOFTWARE INFORMATICA LTDA</td>\n",
       "      <td>MINISTERIO DA GESTAO E DA INOVACAO EM SERVICOS PUBLICOS</td>\n",
       "      <td>E</td>\n",
       "      <td>F</td>\n",
       "      <td>SERVIÇOS DE  LICENCIAMENTO E  CONTRATOS DE TRANSFERÊNCIA DE TECNOLOGIA</td>\n",
       "      <td>Registro de Preços para contratação de empresa especializada para o fornecimento de licenças de softwares, aplicativos e sistemas operacionais Microsoft, destinados aos usuários finais, à camada cliente/servidor e banco de dados, incluindo serviços e consultoria técnica para implantação, projetos e utilização dos produtos, conforme condições e exigências estabelecidas no Edital e seus anexos.</td>\n",
       "      <td>731</td>\n",
       "    </tr>\n",
       "    <tr>\n",
       "      <th>1</th>\n",
       "      <td>7107578</td>\n",
       "      <td>SISTTECH TECNOLOGIA EDUCACIONAL COMERCIO E REPRESENTACAO DE PRODUTOS S/A</td>\n",
       "      <td>INSTITUTO FEDERAL DE EDUCACAO CIENCIA E TECNOLOGIA DO ESPIRITO SANTO</td>\n",
       "      <td>E</td>\n",
       "      <td>F</td>\n",
       "      <td>SERVIÇOS DE  LICENCIAMENTO E  CONTRATOS DE TRANSFERÊNCIA DE TECNOLOGIA</td>\n",
       "      <td>Registro de preços  para futura e eventual aquisição de equipamentos para laboratórios de ensino, pesquisa e extensão, compostos de soluções que auxiliam no processo ensino aprendizagem, para os campi do Instituto Federal de Educação, Ciência e Tecnologia do Espírito Santo – Ifes e Órgãos Participantes, conforme condições e exigências do Edital e seus anexos. LINK do PROCESSO SIPAC:  https://sipac.ifes.edu.br/public/jsp/processos/processo_detalhado.jsf?id=164428</td>\n",
       "      <td>210</td>\n",
       "    </tr>\n",
       "    <tr>\n",
       "      <th>2</th>\n",
       "      <td>6514144</td>\n",
       "      <td>BRASOFTWARE INFORMATICA LTDA</td>\n",
       "      <td>SERVICO FEDERAL DE PROCESSAMENTO DE DADOS (SERPRO)</td>\n",
       "      <td>E</td>\n",
       "      <td>F</td>\n",
       "      <td>SERVIÇOS DE  LICENCIAMENTO E  CONTRATOS DE TRANSFERÊNCIA DE TECNOLOGIA</td>\n",
       "      <td>Contratação de direito de uso de subscrição de softwares sob demanda da plataforma Microsoft.</td>\n",
       "      <td>124</td>\n",
       "    </tr>\n",
       "    <tr>\n",
       "      <th>3</th>\n",
       "      <td>6319401</td>\n",
       "      <td>MCR SISTEMAS E CONSULTORIA LTDA</td>\n",
       "      <td>MINISTERIO DA GESTAO E DA INOVACAO EM SERVICOS PUBLICOS</td>\n",
       "      <td>E</td>\n",
       "      <td>F</td>\n",
       "      <td>SERVIÇOS DE  LICENCIAMENTO E  CONTRATOS DE TRANSFERÊNCIA DE TECNOLOGIA</td>\n",
       "      <td>Contratação de licenças de softwares de Design Gráfico, com direito de atualização e suporte, conforme condições e exigências estabelecidas no Edital e em seus anexos.</td>\n",
       "      <td>101</td>\n",
       "    </tr>\n",
       "    <tr>\n",
       "      <th>4</th>\n",
       "      <td>7205198</td>\n",
       "      <td>NTSEC SOLUCOES EM TELEINFORMATICA LTDA</td>\n",
       "      <td>SERVICO FEDERAL DE PROCESSAMENTO DE DADOS (SERPRO)</td>\n",
       "      <td>E</td>\n",
       "      <td>F</td>\n",
       "      <td>SERVIÇOS DE  LICENCIAMENTO E  CONTRATOS DE TRANSFERÊNCIA DE TECNOLOGIA</td>\n",
       "      <td>Contratação de soluções de proteção de redes para os Clientes e Data Centers do Serpro e para Segmentação de suas Redes Locais internas, com garantia técnica, compostas por clusters de firewalls NGFW (Next-Generation Firewall, ou Firewall de Próxima Geração), clusters de virtualização de firewalls NGFW, e clusters de appliances virtuais de firewalls. As soluções devem incluir seus dispositivos, softwares, e as consoles de gerenciamento integrado, mediante criação de ARP.</td>\n",
       "      <td>83</td>\n",
       "    </tr>\n",
       "  </tbody>\n",
       "</table>\n",
       "</div>"
      ],
      "text/plain": [
       "   cod_compra                                                                fornecedor                                                        orgao_entidade poder esfera                                                    nome_classe_ou_grupo                                                                                                                                                                                                                                                                                                                                                                                                                                                                                       objeto  total_homologado_MM\n",
       "0     7412986                                              BRASOFTWARE INFORMATICA LTDA               MINISTERIO DA GESTAO E DA INOVACAO EM SERVICOS PUBLICOS     E      F  SERVIÇOS DE  LICENCIAMENTO E  CONTRATOS DE TRANSFERÊNCIA DE TECNOLOGIA                                                                                  Registro de Preços para contratação de empresa especializada para o fornecimento de licenças de softwares, aplicativos e sistemas operacionais Microsoft, destinados aos usuários finais, à camada cliente/servidor e banco de dados, incluindo serviços e consultoria técnica para implantação, projetos e utilização dos produtos, conforme condições e exigências estabelecidas no Edital e seus anexos.                  731\n",
       "1     7107578  SISTTECH TECNOLOGIA EDUCACIONAL COMERCIO E REPRESENTACAO DE PRODUTOS S/A  INSTITUTO FEDERAL DE EDUCACAO CIENCIA E TECNOLOGIA DO ESPIRITO SANTO     E      F  SERVIÇOS DE  LICENCIAMENTO E  CONTRATOS DE TRANSFERÊNCIA DE TECNOLOGIA           Registro de preços  para futura e eventual aquisição de equipamentos para laboratórios de ensino, pesquisa e extensão, compostos de soluções que auxiliam no processo ensino aprendizagem, para os campi do Instituto Federal de Educação, Ciência e Tecnologia do Espírito Santo – Ifes e Órgãos Participantes, conforme condições e exigências do Edital e seus anexos. LINK do PROCESSO SIPAC:  https://sipac.ifes.edu.br/public/jsp/processos/processo_detalhado.jsf?id=164428                  210\n",
       "2     6514144                                              BRASOFTWARE INFORMATICA LTDA                    SERVICO FEDERAL DE PROCESSAMENTO DE DADOS (SERPRO)     E      F  SERVIÇOS DE  LICENCIAMENTO E  CONTRATOS DE TRANSFERÊNCIA DE TECNOLOGIA                                                                                                                                                                                                                                                                                                                                                                                                Contratação de direito de uso de subscrição de softwares sob demanda da plataforma Microsoft.                  124\n",
       "3     6319401                                           MCR SISTEMAS E CONSULTORIA LTDA               MINISTERIO DA GESTAO E DA INOVACAO EM SERVICOS PUBLICOS     E      F  SERVIÇOS DE  LICENCIAMENTO E  CONTRATOS DE TRANSFERÊNCIA DE TECNOLOGIA                                                                                                                                                                                                                                                                                                                      Contratação de licenças de softwares de Design Gráfico, com direito de atualização e suporte, conforme condições e exigências estabelecidas no Edital e em seus anexos.                  101\n",
       "4     7205198                                    NTSEC SOLUCOES EM TELEINFORMATICA LTDA                    SERVICO FEDERAL DE PROCESSAMENTO DE DADOS (SERPRO)     E      F  SERVIÇOS DE  LICENCIAMENTO E  CONTRATOS DE TRANSFERÊNCIA DE TECNOLOGIA  Contratação de soluções de proteção de redes para os Clientes e Data Centers do Serpro e para Segmentação de suas Redes Locais internas, com garantia técnica, compostas por clusters de firewalls NGFW (Next-Generation Firewall, ou Firewall de Próxima Geração), clusters de virtualização de firewalls NGFW, e clusters de appliances virtuais de firewalls. As soluções devem incluir seus dispositivos, softwares, e as consoles de gerenciamento integrado, mediante criação de ARP.                   83"
      ]
     },
     "execution_count": 29,
     "metadata": {},
     "output_type": "execute_result"
    }
   ],
   "source": [
    "%%sql\n",
    "SELECT cod_compra, fornecedor_top as fornecedor, orgao_entidade, poder, esfera, nome_classe_ou_grupo, objeto, (valor_total_homologado//1_000_000) as total_homologado_MM  FROM compras_tic where ano_compra = 2024 and poder = 'E' and esfera = 'F' and nome_classe_ou_grupo ilike '%TRANSFERÊNCIA DE TECNOLOGIA%' order by valor_total_homologado desc limit 5;"
   ]
  },
  {
   "cell_type": "markdown",
   "id": "e1812c82-a1f6-4aeb-9a1d-600edfc97cc1",
   "metadata": {},
   "source": [
    "### SERVIÇOS DE HOSPEDAGEM EM TECNOLOGIA DA INFORMAÇÃO E COMUNICACÃO (TIC)"
   ]
  },
  {
   "cell_type": "code",
   "execution_count": 31,
   "id": "acd94e22-caf3-44a2-8ed4-9388e8e65f7a",
   "metadata": {},
   "outputs": [
    {
     "data": {
      "text/html": [
       "<span style=\"None\">Running query in &#x27;duckdb:///../data/inputs/mgi/mgi__2.db&#x27;</span>"
      ],
      "text/plain": [
       "Running query in 'duckdb:///../data/inputs/mgi/mgi__2.db'"
      ]
     },
     "metadata": {},
     "output_type": "display_data"
    },
    {
     "data": {
      "text/html": [
       "<div>\n",
       "<style scoped>\n",
       "    .dataframe tbody tr th:only-of-type {\n",
       "        vertical-align: middle;\n",
       "    }\n",
       "\n",
       "    .dataframe tbody tr th {\n",
       "        vertical-align: top;\n",
       "    }\n",
       "\n",
       "    .dataframe thead th {\n",
       "        text-align: right;\n",
       "    }\n",
       "</style>\n",
       "<table border=\"1\" class=\"dataframe\">\n",
       "  <thead>\n",
       "    <tr style=\"text-align: right;\">\n",
       "      <th></th>\n",
       "      <th>cod_compra</th>\n",
       "      <th>fornecedor</th>\n",
       "      <th>orgao_entidade</th>\n",
       "      <th>poder</th>\n",
       "      <th>esfera</th>\n",
       "      <th>nome_classe_ou_grupo</th>\n",
       "      <th>objeto</th>\n",
       "      <th>total_homologado_MM</th>\n",
       "    </tr>\n",
       "  </thead>\n",
       "  <tbody>\n",
       "    <tr>\n",
       "      <th>0</th>\n",
       "      <td>6901065</td>\n",
       "      <td>EMPRESA DE TECNOLOGIA E INFORMACOES DA PREVIDENCIA S.A. - DATAPREV</td>\n",
       "      <td>MINISTERIO DO TRABALHO</td>\n",
       "      <td>E</td>\n",
       "      <td>F</td>\n",
       "      <td>SERVIÇOS DE HOSPEDAGEM EM TECNOLOGIA DA INFORMAÇÃO E  COMUNICACÃO (TIC)</td>\n",
       "      <td>Contratação da Empresa de Tecnologia e Informações da Previdência (DATAPREV S.A.), por\\nmeio de dispensa de licitação, conforme inciso IX, artigo 75 da Lei n.º 14.133/2021, para execução\\nde serviços técnicos especializados de tecnologia da informação e comunicações - TIC, buscando\\natendimento das necessidades do Ministério do Trabalho e Emprego (MTE).</td>\n",
       "      <td>817</td>\n",
       "    </tr>\n",
       "    <tr>\n",
       "      <th>1</th>\n",
       "      <td>6093713</td>\n",
       "      <td>BLACK BOOK EDITORA LTDA</td>\n",
       "      <td>CONSELHO REGIONAL DE MEDICINA DO DISTRITO FEDERAL</td>\n",
       "      <td>E</td>\n",
       "      <td>F</td>\n",
       "      <td>SERVIÇOS DE HOSPEDAGEM EM TECNOLOGIA DA INFORMAÇÃO E  COMUNICACÃO (TIC)</td>\n",
       "      <td>Aquisição de licença de uso para aplicativo/funcionalidade de base de evidências médicas, denominado Aplicativo Blackbook, desenvolvido e comercializado pela empresa BLACK BOOK EDITORA LTDA.</td>\n",
       "      <td>117</td>\n",
       "    </tr>\n",
       "    <tr>\n",
       "      <th>2</th>\n",
       "      <td>6138454</td>\n",
       "      <td>CIRION TECHNOLOGIES DO BRASIL LTDA</td>\n",
       "      <td>CONSELHO REGIONAL DE ENGENHARIA E AGRONOMIA DO ESTADO DE SAO PAULO</td>\n",
       "      <td>E</td>\n",
       "      <td>F</td>\n",
       "      <td>SERVIÇOS DE HOSPEDAGEM EM TECNOLOGIA DA INFORMAÇÃO E  COMUNICACÃO (TIC)</td>\n",
       "      <td>Serviços de infraestrutura de datacenter, com hospedagem privada de sistemas de software e arquivos, com seus respetivos sistemas operacionais, aplicações e bancos de dados, composto por seus equipamentos (hardware), softwares, licenciamento, planejamento, instalação, migração de dados e aplicações, manutenção, comunicação de dados, suporte, operação, treinamento e gerenciamento da solução de Hospedagem.</td>\n",
       "      <td>36</td>\n",
       "    </tr>\n",
       "    <tr>\n",
       "      <th>3</th>\n",
       "      <td>5887229</td>\n",
       "      <td>SOLUCTION LOGISTICA E EVENTOS LTDA</td>\n",
       "      <td>INSTITUTO FEDERAL DE EDUCACAO, CIENCIA E TECNOLOGIA DE SAO PAULO</td>\n",
       "      <td>E</td>\n",
       "      <td>F</td>\n",
       "      <td>SERVIÇOS DE HOSPEDAGEM EM TECNOLOGIA DA INFORMAÇÃO E  COMUNICACÃO (TIC)</td>\n",
       "      <td>Registro de preços para eventual contratação de serviço especializado visando a organização e realização de eventos diversos de pequeno, médio e grande porte para o Instituto Federal de Educação, Ciência e Tecnologia de São Paulo – IFSP e demais órgãos participantes.</td>\n",
       "      <td>33</td>\n",
       "    </tr>\n",
       "    <tr>\n",
       "      <th>4</th>\n",
       "      <td>7185511</td>\n",
       "      <td>CIRION TECHNOLOGIES DO BRASIL LTDA</td>\n",
       "      <td>SUPERINTENDENCIA DE SEGUROS PRIVADOS</td>\n",
       "      <td>E</td>\n",
       "      <td>F</td>\n",
       "      <td>SERVIÇOS DE HOSPEDAGEM EM TECNOLOGIA DA INFORMAÇÃO E  COMUNICACÃO (TIC)</td>\n",
       "      <td>Contratação de empresa especializada para prestação de serviços de hospedagem de aplicações e soluções de TIC em   data center da Contratada (hosting), para atender às necessidades da Susep - Superintendência de Seguros Privados, conforme condições e exigências estabelecidas no edital e em seus anexos.</td>\n",
       "      <td>8</td>\n",
       "    </tr>\n",
       "  </tbody>\n",
       "</table>\n",
       "</div>"
      ],
      "text/plain": [
       "   cod_compra                                                          fornecedor                                                      orgao_entidade poder esfera                                                     nome_classe_ou_grupo                                                                                                                                                                                                                                                                                                                                                                                                                   objeto  total_homologado_MM\n",
       "0     6901065  EMPRESA DE TECNOLOGIA E INFORMACOES DA PREVIDENCIA S.A. - DATAPREV                                              MINISTERIO DO TRABALHO     E      F  SERVIÇOS DE HOSPEDAGEM EM TECNOLOGIA DA INFORMAÇÃO E  COMUNICACÃO (TIC)                                                      Contratação da Empresa de Tecnologia e Informações da Previdência (DATAPREV S.A.), por\\nmeio de dispensa de licitação, conforme inciso IX, artigo 75 da Lei n.º 14.133/2021, para execução\\nde serviços técnicos especializados de tecnologia da informação e comunicações - TIC, buscando\\natendimento das necessidades do Ministério do Trabalho e Emprego (MTE).                  817\n",
       "1     6093713                                             BLACK BOOK EDITORA LTDA                   CONSELHO REGIONAL DE MEDICINA DO DISTRITO FEDERAL     E      F  SERVIÇOS DE HOSPEDAGEM EM TECNOLOGIA DA INFORMAÇÃO E  COMUNICACÃO (TIC)                                                                                                                                                                                                                           Aquisição de licença de uso para aplicativo/funcionalidade de base de evidências médicas, denominado Aplicativo Blackbook, desenvolvido e comercializado pela empresa BLACK BOOK EDITORA LTDA.                  117\n",
       "2     6138454                                  CIRION TECHNOLOGIES DO BRASIL LTDA  CONSELHO REGIONAL DE ENGENHARIA E AGRONOMIA DO ESTADO DE SAO PAULO     E      F  SERVIÇOS DE HOSPEDAGEM EM TECNOLOGIA DA INFORMAÇÃO E  COMUNICACÃO (TIC)  Serviços de infraestrutura de datacenter, com hospedagem privada de sistemas de software e arquivos, com seus respetivos sistemas operacionais, aplicações e bancos de dados, composto por seus equipamentos (hardware), softwares, licenciamento, planejamento, instalação, migração de dados e aplicações, manutenção, comunicação de dados, suporte, operação, treinamento e gerenciamento da solução de Hospedagem.                   36\n",
       "3     5887229                                  SOLUCTION LOGISTICA E EVENTOS LTDA    INSTITUTO FEDERAL DE EDUCACAO, CIENCIA E TECNOLOGIA DE SAO PAULO     E      F  SERVIÇOS DE HOSPEDAGEM EM TECNOLOGIA DA INFORMAÇÃO E  COMUNICACÃO (TIC)                                                                                                                                              Registro de preços para eventual contratação de serviço especializado visando a organização e realização de eventos diversos de pequeno, médio e grande porte para o Instituto Federal de Educação, Ciência e Tecnologia de São Paulo – IFSP e demais órgãos participantes.                   33\n",
       "4     7185511                                  CIRION TECHNOLOGIES DO BRASIL LTDA                                SUPERINTENDENCIA DE SEGUROS PRIVADOS     E      F  SERVIÇOS DE HOSPEDAGEM EM TECNOLOGIA DA INFORMAÇÃO E  COMUNICACÃO (TIC)                                                                                                          Contratação de empresa especializada para prestação de serviços de hospedagem de aplicações e soluções de TIC em   data center da Contratada (hosting), para atender às necessidades da Susep - Superintendência de Seguros Privados, conforme condições e exigências estabelecidas no edital e em seus anexos.                    8"
      ]
     },
     "execution_count": 31,
     "metadata": {},
     "output_type": "execute_result"
    }
   ],
   "source": [
    "%%sql\n",
    "SELECT cod_compra, fornecedor_top as fornecedor, orgao_entidade, poder, esfera, nome_classe_ou_grupo, objeto, (valor_total_homologado//1_000_000) as total_homologado_MM  FROM compras_tic where ano_compra = 2024 and esfera = 'F' and poder = 'E' and nome_classe_ou_grupo ilike '%HOSPEDAGEM%' order by valor_total_homologado desc limit 5;"
   ]
  },
  {
   "cell_type": "markdown",
   "id": "92e5c00a-92e5-45c2-8f55-4b8b69141125",
   "metadata": {},
   "source": [
    "### Maiores Fornecedores"
   ]
  },
  {
   "cell_type": "code",
   "execution_count": 38,
   "id": "dee01b22-1cf2-43de-ba20-2c4772da661c",
   "metadata": {},
   "outputs": [
    {
     "data": {
      "text/html": [
       "<span style=\"None\">Running query in &#x27;duckdb:///../data/inputs/mgi/mgi__2.db&#x27;</span>"
      ],
      "text/plain": [
       "Running query in 'duckdb:///../data/inputs/mgi/mgi__2.db'"
      ]
     },
     "metadata": {},
     "output_type": "display_data"
    },
    {
     "data": {
      "text/html": [
       "<div>\n",
       "<style scoped>\n",
       "    .dataframe tbody tr th:only-of-type {\n",
       "        vertical-align: middle;\n",
       "    }\n",
       "\n",
       "    .dataframe tbody tr th {\n",
       "        vertical-align: top;\n",
       "    }\n",
       "\n",
       "    .dataframe thead th {\n",
       "        text-align: right;\n",
       "    }\n",
       "</style>\n",
       "<table border=\"1\" class=\"dataframe\">\n",
       "  <thead>\n",
       "    <tr style=\"text-align: right;\">\n",
       "      <th></th>\n",
       "      <th>fornecedor</th>\n",
       "      <th>total_homologado_MM</th>\n",
       "    </tr>\n",
       "  </thead>\n",
       "  <tbody>\n",
       "    <tr>\n",
       "      <th>0</th>\n",
       "      <td>EMPRESA DE TECNOLOGIA E INFORMACOES DA PREVIDENCIA S.A. - DATAPREV</td>\n",
       "      <td>1_594</td>\n",
       "    </tr>\n",
       "    <tr>\n",
       "      <th>1</th>\n",
       "      <td>BRASOFTWARE INFORMATICA LTDA</td>\n",
       "      <td>1_066</td>\n",
       "    </tr>\n",
       "    <tr>\n",
       "      <th>2</th>\n",
       "      <td>LASA PROSPECCOES S.A.</td>\n",
       "      <td>359</td>\n",
       "    </tr>\n",
       "    <tr>\n",
       "      <th>3</th>\n",
       "      <td>EXTREME DIGITAL EXPERIENCE LTDA.</td>\n",
       "      <td>313</td>\n",
       "    </tr>\n",
       "    <tr>\n",
       "      <th>4</th>\n",
       "      <td>SISTTECH TECNOLOGIA EDUCACIONAL COMERCIO E REPRESENTACAO DE PRODUTOS S/A</td>\n",
       "      <td>210</td>\n",
       "    </tr>\n",
       "    <tr>\n",
       "      <th>5</th>\n",
       "      <td>ABSOLUT TECHNOLOGIES PROJETOS E CONSULTORIA LTDA</td>\n",
       "      <td>163</td>\n",
       "    </tr>\n",
       "    <tr>\n",
       "      <th>6</th>\n",
       "      <td>STEFANINI CONSULTORIA E ASSESSORIA EM INFORMATICA S.A.</td>\n",
       "      <td>157</td>\n",
       "    </tr>\n",
       "    <tr>\n",
       "      <th>7</th>\n",
       "      <td>CHAIN TECNOLOGIA E SERVICOS LTDA</td>\n",
       "      <td>130</td>\n",
       "    </tr>\n",
       "    <tr>\n",
       "      <th>8</th>\n",
       "      <td>NTSEC SOLUCOES EM TELEINFORMATICA LTDA</td>\n",
       "      <td>125</td>\n",
       "    </tr>\n",
       "    <tr>\n",
       "      <th>9</th>\n",
       "      <td>DECISION SERVICOS DE TECNOLOGIA DA INFORMACAO LTDA</td>\n",
       "      <td>124</td>\n",
       "    </tr>\n",
       "  </tbody>\n",
       "</table>\n",
       "</div>"
      ],
      "text/plain": [
       "                                                                 fornecedor  total_homologado_MM\n",
       "0        EMPRESA DE TECNOLOGIA E INFORMACOES DA PREVIDENCIA S.A. - DATAPREV                1_594\n",
       "1                                              BRASOFTWARE INFORMATICA LTDA                1_066\n",
       "2                                                     LASA PROSPECCOES S.A.                  359\n",
       "3                                          EXTREME DIGITAL EXPERIENCE LTDA.                  313\n",
       "4  SISTTECH TECNOLOGIA EDUCACIONAL COMERCIO E REPRESENTACAO DE PRODUTOS S/A                  210\n",
       "5                          ABSOLUT TECHNOLOGIES PROJETOS E CONSULTORIA LTDA                  163\n",
       "6                    STEFANINI CONSULTORIA E ASSESSORIA EM INFORMATICA S.A.                  157\n",
       "7                                          CHAIN TECNOLOGIA E SERVICOS LTDA                  130\n",
       "8                                    NTSEC SOLUCOES EM TELEINFORMATICA LTDA                  125\n",
       "9                        DECISION SERVICOS DE TECNOLOGIA DA INFORMACAO LTDA                  124"
      ]
     },
     "execution_count": 38,
     "metadata": {},
     "output_type": "execute_result"
    }
   ],
   "source": [
    "%%sql\n",
    "SELECT\n",
    "  fornecedor_top AS fornecedor,\n",
    "  SUM(valor_total_homologado) / 1000000.0 AS total_homologado_MM\n",
    "FROM compras_tic\n",
    "WHERE ano_compra = 2024\n",
    "  AND esfera = 'F'\n",
    "  AND poder = 'E'\n",
    "GROUP BY fornecedor_top\n",
    "ORDER BY total_homologado_MM DESC\n",
    "LIMIT 10;"
   ]
  },
  {
   "cell_type": "code",
   "execution_count": null,
   "id": "00fa1f3e-e913-4c04-a489-77b6650cfb91",
   "metadata": {},
   "outputs": [],
   "source": []
  }
 ],
 "metadata": {
  "kernelspec": {
   "display_name": "Python 3 (ipykernel)",
   "language": "python",
   "name": "python3"
  },
  "language_info": {
   "codemirror_mode": {
    "name": "ipython",
    "version": 3
   },
   "file_extension": ".py",
   "mimetype": "text/x-python",
   "name": "python",
   "nbconvert_exporter": "python",
   "pygments_lexer": "ipython3",
   "version": "3.13.0"
  }
 },
 "nbformat": 4,
 "nbformat_minor": 5
}
