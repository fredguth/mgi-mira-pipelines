{
 "cells": [
  {
   "cell_type": "code",
   "execution_count": 1,
   "metadata": {},
   "outputs": [],
   "source": [
    "import asyncio\n",
    "import aiohttp\n",
    "from aiohttp import ClientSession\n",
    "from datetime import datetime\n",
    "from pathlib import Path\n",
    "from tqdm.notebook import tqdm  # Jupyter-specific progress bar\n",
    "import nest_asyncio\n",
    "import os\n",
    "\n",
    "nest_asyncio.apply()\n"
   ]
  },
  {
   "cell_type": "code",
   "execution_count": 2,
   "metadata": {},
   "outputs": [],
   "source": [
    "def get_zip_urls(year_month: str, name:str) -> list[str]:\n",
    "    \"\"\"Generate URLs for CNPJ zip files for a given year-month.\"\"\"\n",
    "    base_url = f\"https://arquivos.receitafederal.gov.br/dados/cnpj/dados_abertos_cnpj/{year_month}/\"\n",
    "    return [f\"{base_url}{name}{i}.zip\" for i in range(10)]"
   ]
  },
  {
   "cell_type": "code",
   "execution_count": 3,
   "metadata": {},
   "outputs": [
    {
     "data": {
      "text/plain": [
       "['https://arquivos.receitafederal.gov.br/dados/cnpj/dados_abertos_cnpj/2025-08/Estabelecimentos0.zip',\n",
       " 'https://arquivos.receitafederal.gov.br/dados/cnpj/dados_abertos_cnpj/2025-08/Estabelecimentos1.zip',\n",
       " 'https://arquivos.receitafederal.gov.br/dados/cnpj/dados_abertos_cnpj/2025-08/Estabelecimentos2.zip',\n",
       " 'https://arquivos.receitafederal.gov.br/dados/cnpj/dados_abertos_cnpj/2025-08/Estabelecimentos3.zip',\n",
       " 'https://arquivos.receitafederal.gov.br/dados/cnpj/dados_abertos_cnpj/2025-08/Estabelecimentos4.zip',\n",
       " 'https://arquivos.receitafederal.gov.br/dados/cnpj/dados_abertos_cnpj/2025-08/Estabelecimentos5.zip',\n",
       " 'https://arquivos.receitafederal.gov.br/dados/cnpj/dados_abertos_cnpj/2025-08/Estabelecimentos6.zip',\n",
       " 'https://arquivos.receitafederal.gov.br/dados/cnpj/dados_abertos_cnpj/2025-08/Estabelecimentos7.zip',\n",
       " 'https://arquivos.receitafederal.gov.br/dados/cnpj/dados_abertos_cnpj/2025-08/Estabelecimentos8.zip',\n",
       " 'https://arquivos.receitafederal.gov.br/dados/cnpj/dados_abertos_cnpj/2025-08/Estabelecimentos9.zip']"
      ]
     },
     "execution_count": 3,
     "metadata": {},
     "output_type": "execute_result"
    }
   ],
   "source": [
    "year_month = datetime.now().strftime(\"%Y-%m\")\n",
    "get_zip_urls(year_month, \"Estabelecimentos\")"
   ]
  },
  {
   "cell_type": "code",
   "execution_count": null,
   "metadata": {},
   "outputs": [],
   "source": [
    "async def download_file(session: ClientSession, url: str, pbar: tqdm, download_path: str, retries=3):\n",
    "    filename = url.split('/')[-1]\n",
    "    file_path = os.path.join(download_path, filename)  # Add this line\n",
    "    \n",
    "    for attempt in range(retries):\n",
    "        try:\n",
    "            async with session.get(url) as response:\n",
    "                response.raise_for_status()\n",
    "                with open(file_path, 'wb') as f:  # Modified this line\n",
    "                    async for chunk in response.content.iter_chunked(1024*1024):\n",
    "                        f.write(chunk)\n",
    "                pbar.update(1)\n",
    "                pbar.set_postfix_str(filename)\n",
    "                return True\n",
    "        except Exception as e:\n",
    "            if attempt < retries - 1:\n",
    "                await asyncio.sleep(2 ** attempt)\n",
    "            else:\n",
    "                pbar.write(f\"Failed to download {filename}: {str(e)}\")\n",
    "                return False\n",
    "\n",
    "async def download_urls(urls, download_path,):  # Modified this line\n",
    "    os.makedirs(download_path, exist_ok=True)  # Add this line\n",
    "    connector = aiohttp.TCPConnector(limit=5)\n",
    "    headers = {\n",
    "        'User-Agent': 'Mozilla/5.0 (Windows NT 10.0; Win64; x64) AppleWebKit/537.36 (KHTML, like Gecko) Chrome/58.0.3029.110 Safari/537.3'\n",
    "    }\n",
    "\n",
    "    with tqdm(total=len(urls), desc=\"Downloading files\") as pbar:\n",
    "        async with aiohttp.ClientSession(connector=connector, headers=headers) as session:\n",
    "            tasks = [download_file(session, url, pbar, download_path) for url in urls]  # Modified this line\n",
    "            results = await asyncio.gather(*tasks)\n",
    "            \n",
    "            success_count = sum(results)\n",
    "            pbar.write(f\"\\nSuccessfully downloaded {success_count}/{len(urls)} files to {download_path}\")\n",
    "\n",
    "\n",
    "\n",
    "\n",
    "\n",
    "def unzip_files(download_path):\n",
    "    # Get list of zip files\n",
    "    zip_files = [f for f in os.listdir(download_path) if f.endswith('.zip')]\n",
    "    \n",
    "    if not zip_files:\n",
    "        print(\"No zip files found in the directory\")\n",
    "        return\n",
    "\n",
    "    with tqdm(total=len(zip_files), desc=\"Unzipping files\") as pbar:\n",
    "        for zip_file in zip_files:\n",
    "            file_path = os.path.join(download_path, zip_file)\n",
    "            try:\n",
    "                with zipfile.ZipFile(file_path, 'r') as zip_ref:\n",
    "                    zip_ref.extractall(download_path)\n",
    "                \n",
    "                pbar.update(1)\n",
    "                pbar.write(f\"Successfully extracted {zip_file} to {download_path}\")\n",
    "                os.remove(zip_file)\n",
    "                \n",
    "            except Exception as e:\n",
    "                pbar.write(f\"Error extracting {zip_file}: {str(e)}\")\n"
   ]
  },
  {
   "cell_type": "code",
   "execution_count": null,
   "metadata": {},
   "outputs": [
    {
     "data": {
      "text/plain": [
       "PosixPath('../data/inputs/rfb_cnpj/2025-02')"
      ]
     },
     "execution_count": null,
     "metadata": {},
     "output_type": "execute_result"
    }
   ],
   "source": [
    "year_month = datetime.now().strftime(\"%Y-%m\")\n",
    "base_dir = Path(\"../data/inputs/rfb_cnpj\")\n",
    "download_path = base_dir / year_month\n",
    "download_path"
   ]
  },
  {
   "cell_type": "code",
   "execution_count": null,
   "metadata": {},
   "outputs": [
    {
     "data": {
      "application/vnd.jupyter.widget-view+json": {
       "model_id": "7fbd35e80b4e4364ac69ccf763647de3",
       "version_major": 2,
       "version_minor": 0
      },
      "text/plain": [
       "Downloading files:   0%|          | 0/10 [00:00<?, ?it/s]"
      ]
     },
     "metadata": {},
     "output_type": "display_data"
    },
    {
     "name": "stdout",
     "output_type": "stream",
     "text": [
      "\n",
      "Successfully downloaded 10/10 files to ../data/inputs/rfb_cnpj/2025-02\n"
     ]
    }
   ],
   "source": [
    "urls = get_zip_urls(year_month, \"Estabelecimentos\")\n",
    "await download_urls(urls, download_path)"
   ]
  },
  {
   "cell_type": "code",
   "execution_count": null,
   "metadata": {},
   "outputs": [
    {
     "data": {
      "application/vnd.jupyter.widget-view+json": {
       "model_id": "b4334b2692404d5e808b7abb00083ed3",
       "version_major": 2,
       "version_minor": 0
      },
      "text/plain": [
       "Unzipping files:   0%|          | 0/10 [00:00<?, ?it/s]"
      ]
     },
     "metadata": {},
     "output_type": "display_data"
    },
    {
     "name": "stdout",
     "output_type": "stream",
     "text": [
      "Error extracting Estabelecimentos4.zip: name 'zipfile' is not defined\n",
      "Error extracting Estabelecimentos5.zip: name 'zipfile' is not defined\n",
      "Error extracting Estabelecimentos7.zip: name 'zipfile' is not defined\n",
      "Error extracting Estabelecimentos6.zip: name 'zipfile' is not defined\n",
      "Error extracting Estabelecimentos2.zip: name 'zipfile' is not defined\n",
      "Error extracting Estabelecimentos3.zip: name 'zipfile' is not defined\n",
      "Error extracting Estabelecimentos1.zip: name 'zipfile' is not defined\n",
      "Error extracting Estabelecimentos0.zip: name 'zipfile' is not defined\n",
      "Error extracting Estabelecimentos8.zip: name 'zipfile' is not defined\n",
      "Error extracting Estabelecimentos9.zip: name 'zipfile' is not defined\n"
     ]
    }
   ],
   "source": [
    "unzip_files(download_path)"
   ]
  },
  {
   "cell_type": "code",
   "execution_count": null,
   "metadata": {},
   "outputs": [],
   "source": [
    "import os\n",
    "import zipfile\n",
    "\n",
    "\n",
    "def unzip_files(download_path):\n",
    "    # Get list of zip files\n",
    "    zip_files = [f for f in os.listdir(download_path) if f.endswith('.zip')]\n",
    "    \n",
    "    if not zip_files:\n",
    "        print(\"No zip files found in the directory\")\n",
    "        return\n",
    "\n",
    "    with tqdm(total=len(zip_files), desc=\"Unzipping files\") as pbar:\n",
    "        for zip_file in zip_files:\n",
    "            file_path = os.path.join(download_path, zip_file)\n",
    "            try:\n",
    "                with zipfile.ZipFile(file_path, 'r') as zip_ref:\n",
    "                    zip_ref.extractall(download_path)\n",
    "                \n",
    "                pbar.update(1)\n",
    "                pbar.write(f\"Successfully extracted {zip_file} to {download_path}\")\n",
    "                os.remove(file_path)  # Use the full path, not just the filename\n",
    "                \n",
    "            except zipfile.BadZipFile as e:\n",
    "                pbar.write(f\"Error extracting {zip_file}: Not a valid zip file\")\n",
    "            except PermissionError:\n",
    "                pbar.write(f\"Error extracting {zip_file}: Permission denied\")\n",
    "            except Exception as e:\n",
    "                pbar.write(f\"Error extracting {zip_file}: {str(e)}\")"
   ]
  },
  {
   "cell_type": "code",
   "execution_count": null,
   "metadata": {},
   "outputs": [
    {
     "data": {
      "application/vnd.jupyter.widget-view+json": {
       "model_id": "9c698d78cc9848ffa418223859c425e5",
       "version_major": 2,
       "version_minor": 0
      },
      "text/plain": [
       "Unzipping files:   0%|          | 0/10 [00:00<?, ?it/s]"
      ]
     },
     "metadata": {},
     "output_type": "display_data"
    },
    {
     "name": "stdout",
     "output_type": "stream",
     "text": [
      "Successfully extracted Estabelecimentos4.zip to ../data/inputs/rfb_cnpj/2025-02\n",
      "Successfully extracted Estabelecimentos5.zip to ../data/inputs/rfb_cnpj/2025-02\n",
      "Successfully extracted Estabelecimentos7.zip to ../data/inputs/rfb_cnpj/2025-02\n",
      "Successfully extracted Estabelecimentos6.zip to ../data/inputs/rfb_cnpj/2025-02\n",
      "Successfully extracted Estabelecimentos2.zip to ../data/inputs/rfb_cnpj/2025-02\n",
      "Successfully extracted Estabelecimentos3.zip to ../data/inputs/rfb_cnpj/2025-02\n",
      "Successfully extracted Estabelecimentos1.zip to ../data/inputs/rfb_cnpj/2025-02\n",
      "Successfully extracted Estabelecimentos0.zip to ../data/inputs/rfb_cnpj/2025-02\n",
      "Successfully extracted Estabelecimentos8.zip to ../data/inputs/rfb_cnpj/2025-02\n",
      "Successfully extracted Estabelecimentos9.zip to ../data/inputs/rfb_cnpj/2025-02\n"
     ]
    }
   ],
   "source": [
    "unzip_files(download_path)"
   ]
  },
  {
   "cell_type": "code",
   "execution_count": null,
   "metadata": {},
   "outputs": [],
   "source": []
  },
  {
   "cell_type": "code",
   "execution_count": null,
   "metadata": {},
   "outputs": [],
   "source": []
  },
  {
   "cell_type": "code",
   "execution_count": null,
   "metadata": {},
   "outputs": [],
   "source": []
  },
  {
   "cell_type": "code",
   "execution_count": null,
   "metadata": {},
   "outputs": [],
   "source": []
  },
  {
   "cell_type": "code",
   "execution_count": null,
   "metadata": {},
   "outputs": [],
   "source": []
  }
 ],
 "metadata": {
  "kernelspec": {
   "display_name": "mgi",
   "language": "python",
   "name": "python3"
  },
  "language_info": {
   "codemirror_mode": {
    "name": "ipython",
    "version": 3
   },
   "file_extension": ".py",
   "mimetype": "text/x-python",
   "name": "python",
   "nbconvert_exporter": "python",
   "pygments_lexer": "ipython3",
   "version": "3.11.11"
  }
 },
 "nbformat": 4,
 "nbformat_minor": 2
}
